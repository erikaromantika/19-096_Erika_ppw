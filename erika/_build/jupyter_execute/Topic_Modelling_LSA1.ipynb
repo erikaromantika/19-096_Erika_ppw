{
 "cells": [
  {
   "cell_type": "markdown",
   "metadata": {
    "id": "K_FLKmHFYW1l"
   },
   "source": [
    "# TOPIC MODELLING LSA"
   ]
  },
  {
   "cell_type": "markdown",
   "metadata": {
    "id": "ZfUOZ1stICMZ"
   },
   "source": [
    "# Tahap Crawling Data"
   ]
  },
  {
   "cell_type": "markdown",
   "metadata": {},
   "source": [
    "Crawling adalah teknik pengumpulan data yang digunakan untuk mengindeks informasi pada halaman menggunakan URL (Uniform Resource Locator) dengan menyertakan API (Application Programming Interface) untuk melakukan penambangan dataset yang lebih besar."
   ]
  },
  {
   "cell_type": "markdown",
   "metadata": {
    "id": "NJ2BVQNiL5PY"
   },
   "source": [
    "Melakukan Scrapy\n",
    "\n",
    "Scrapy ini adalah library python yang digunakan untuk melakukan scraping/ crawling data"
   ]
  },
  {
   "cell_type": "code",
   "execution_count": 1,
   "metadata": {
    "colab": {
     "base_uri": "https://localhost:8080/"
    },
    "id": "rbMFfFVHIHWb",
    "outputId": "9ea0579d-c257-4f5c-e172-e9b73f468b04"
   },
   "outputs": [
    {
     "name": "stdout",
     "output_type": "stream",
     "text": [
      "Requirement already satisfied: scrapy in c:\\users\\asus\\appdata\\local\\programs\\python\\python38-32\\lib\\site-packages (2.6.1)\n",
      "Requirement already satisfied: cssselect>=0.9.1 in c:\\users\\asus\\appdata\\local\\programs\\python\\python38-32\\lib\\site-packages (from scrapy) (1.1.0)"
     ]
    },
    {
     "name": "stderr",
     "output_type": "stream",
     "text": [
      "WARNING: Ignoring invalid distribution -ip (c:\\users\\asus\\appdata\\local\\programs\\python\\python38-32\\lib\\site-packages)"
     ]
    },
    {
     "name": "stdout",
     "output_type": "stream",
     "text": [
      "\n",
      "Requirement already satisfied: w3lib>=1.17.0 in c:\\users\\asus\\appdata\\local\\programs\\python\\python38-32\\lib\\site-packages (from scrapy) (1.22.0)\n",
      "Requirement already satisfied: Twisted>=17.9.0 in c:\\users\\asus\\appdata\\local\\programs\\python\\python38-32\\lib\\site-packages (from scrapy) (22.2.0)\n",
      "Requirement already satisfied: setuptools in c:\\users\\asus\\appdata\\local\\programs\\python\\python38-32\\lib\\site-packages (from scrapy) (47.1.0)\n",
      "Requirement already satisfied: PyDispatcher>=2.0.5 in c:\\users\\asus\\appdata\\local\\programs\\python\\python38-32\\lib\\site-packages (from scrapy) (2.0.5)\n",
      "Requirement already satisfied: protego>=0.1.15 in c:\\users\\asus\\appdata\\local\\programs\\python\\python38-32\\lib\\site-packages (from scrapy) (0.2.1)\n",
      "Requirement already satisfied: queuelib>=1.4.2 in c:\\users\\asus\\appdata\\local\\programs\\python\\python38-32\\lib\\site-packages (from scrapy) (1.6.2)\n",
      "Requirement already satisfied: cryptography>=2.0 in c:\\users\\asus\\appdata\\local\\programs\\python\\python38-32\\lib\\site-packages (from scrapy) (36.0.2)\n",
      "Requirement already satisfied: pyOpenSSL>=16.2.0 in c:\\users\\asus\\appdata\\local\\programs\\python\\python38-32\\lib\\site-packages (from scrapy) (22.0.0)\n",
      "Requirement already satisfied: lxml>=3.5.0 in c:\\users\\asus\\appdata\\local\\programs\\python\\python38-32\\lib\\site-packages (from scrapy) (4.8.0)\n",
      "Requirement already satisfied: itemadapter>=0.1.0 in c:\\users\\asus\\appdata\\local\\programs\\python\\python38-32\\lib\\site-packages (from scrapy) (0.4.0)\n",
      "Requirement already satisfied: service-identity>=16.0.0 in c:\\users\\asus\\appdata\\local\\programs\\python\\python38-32\\lib\\site-packages (from scrapy) (21.1.0)\n",
      "Requirement already satisfied: itemloaders>=1.0.1 in c:\\users\\asus\\appdata\\local\\programs\\python\\python38-32\\lib\\site-packages (from scrapy) (1.0.4)\n",
      "Requirement already satisfied: tldextract in c:\\users\\asus\\appdata\\local\\programs\\python\\python38-32\\lib\\site-packages (from scrapy) (3.2.0)\n",
      "Requirement already satisfied: parsel>=1.5.0 in c:\\users\\asus\\appdata\\local\\programs\\python\\python38-32\\lib\\site-packages (from scrapy) (1.6.0)\n",
      "Requirement already satisfied: zope.interface>=4.1.3 in c:\\users\\asus\\appdata\\local\\programs\\python\\python38-32\\lib\\site-packages (from scrapy) (5.4.0)\n",
      "Requirement already satisfied: cffi>=1.12 in c:\\users\\asus\\appdata\\local\\programs\\python\\python38-32\\lib\\site-packages (from cryptography>=2.0->scrapy) (1.15.0)\n",
      "Requirement already satisfied: jmespath>=0.9.5 in c:\\users\\asus\\appdata\\local\\programs\\python\\python38-32\\lib\\site-packages (from itemloaders>=1.0.1->scrapy) (1.0.0)\n",
      "Requirement already satisfied: six>=1.6.0 in c:\\users\\asus\\appdata\\roaming\\python\\python38\\site-packages (from parsel>=1.5.0->scrapy) (1.15.0)\n",
      "Requirement already satisfied: pyasn1 in c:\\users\\asus\\appdata\\local\\programs\\python\\python38-32\\lib\\site-packages (from service-identity>=16.0.0->scrapy) (0.4.8)\n",
      "Requirement already satisfied: pyasn1-modules in c:\\users\\asus\\appdata\\local\\programs\\python\\python38-32\\lib\\site-packages (from service-identity>=16.0.0->scrapy) (0.2.8)\n",
      "Requirement already satisfied: attrs>=19.1.0 in c:\\users\\asus\\appdata\\local\\programs\\python\\python38-32\\lib\\site-packages (from service-identity>=16.0.0->scrapy) (21.4.0)\n",
      "Requirement already satisfied: Automat>=0.8.0 in c:\\users\\asus\\appdata\\local\\programs\\python\\python38-32\\lib\\site-packages (from Twisted>=17.9.0->scrapy) (20.2.0)\n",
      "Requirement already satisfied: hyperlink>=17.1.1 in c:\\users\\asus\\appdata\\local\\programs\\python\\python38-32\\lib\\site-packages (from Twisted>=17.9.0->scrapy) (21.0.0)\n",
      "Requirement already satisfied: twisted-iocpsupport<2,>=1.0.2 in c:\\users\\asus\\appdata\\local\\programs\\python\\python38-32\\lib\\site-packages (from Twisted>=17.9.0->scrapy) (1.0.2)\n",
      "Requirement already satisfied: constantly>=15.1 in c:\\users\\asus\\appdata\\local\\programs\\python\\python38-32\\lib\\site-packages (from Twisted>=17.9.0->scrapy) (15.1.0)\n",
      "Requirement already satisfied: incremental>=21.3.0 in c:\\users\\asus\\appdata\\local\\programs\\python\\python38-32\\lib\\site-packages (from Twisted>=17.9.0->scrapy) (21.3.0)\n",
      "Requirement already satisfied: typing-extensions>=3.6.5 in c:\\users\\asus\\appdata\\local\\programs\\python\\python38-32\\lib\\site-packages (from Twisted>=17.9.0->scrapy) (4.1.1)\n",
      "Requirement already satisfied: filelock>=3.0.8 in c:\\users\\asus\\appdata\\local\\programs\\python\\python38-32\\lib\\site-packages (from tldextract->scrapy) (3.6.0)\n",
      "Requirement already satisfied: requests>=2.1.0 in c:\\users\\asus\\appdata\\local\\programs\\python\\python38-32\\lib\\site-packages (from tldextract->scrapy) (2.27.1)\n",
      "Requirement already satisfied: idna in c:\\users\\asus\\appdata\\local\\programs\\python\\python38-32\\lib\\site-packages (from tldextract->scrapy) (3.3)\n",
      "Requirement already satisfied: requests-file>=1.4 in c:\\users\\asus\\appdata\\local\\programs\\python\\python38-32\\lib\\site-packages (from tldextract->scrapy) (1.5.1)\n",
      "Requirement already satisfied: pycparser in c:\\users\\asus\\appdata\\local\\programs\\python\\python38-32\\lib\\site-packages (from cffi>=1.12->cryptography>=2.0->scrapy) (2.21)\n",
      "Requirement already satisfied: charset-normalizer~=2.0.0 in c:\\users\\asus\\appdata\\local\\programs\\python\\python38-32\\lib\\site-packages (from requests>=2.1.0->tldextract->scrapy) (2.0.12)\n",
      "Requirement already satisfied: certifi>=2017.4.17 in c:\\users\\asus\\appdata\\local\\programs\\python\\python38-32\\lib\\site-packages (from requests>=2.1.0->tldextract->scrapy) (2021.10.8)\n",
      "Requirement already satisfied: urllib3<1.27,>=1.21.1 in c:\\users\\asus\\appdata\\local\\programs\\python\\python38-32\\lib\\site-packages (from requests>=2.1.0->tldextract->scrapy) (1.26.8)\n"
     ]
    },
    {
     "name": "stderr",
     "output_type": "stream",
     "text": [
      "\n",
      "WARNING: Ignoring invalid distribution -ip (c:\\users\\asus\\appdata\\local\\programs\\python\\python38-32\\lib\\site-packages)\n",
      "WARNING: Ignoring invalid distribution -ip (c:\\users\\asus\\appdata\\local\\programs\\python\\python38-32\\lib\\site-packages)\n",
      "WARNING: Ignoring invalid distribution -ip (c:\\users\\asus\\appdata\\local\\programs\\python\\python38-32\\lib\\site-packages)\n",
      "WARNING: Ignoring invalid distribution -ip (c:\\users\\asus\\appdata\\local\\programs\\python\\python38-32\\lib\\site-packages)\n",
      "WARNING: Ignoring invalid distribution -ip (c:\\users\\asus\\appdata\\local\\programs\\python\\python38-32\\lib\\site-packages)\n"
     ]
    }
   ],
   "source": [
    "!pip install scrapy"
   ]
  },
  {
   "cell_type": "code",
   "execution_count": 2,
   "metadata": {
    "id": "VD0dukkbJZUR"
   },
   "outputs": [],
   "source": [
    "import scrapy\n",
    "from scrapy.crawler import CrawlerProcess"
   ]
  },
  {
   "cell_type": "markdown",
   "metadata": {
    "id": "nKNe1ekrTU-d"
   },
   "source": [
    "Pada bagian ini dilakukan proses crawling pada data web berita. Lalu memasukkan url yang dituju. \n",
    "\n",
    "Disini dilakukan crawling pada web sindonews dengan mengambil data berupa judul, waktu, kategori, dan deskripsi."
   ]
  },
  {
   "cell_type": "code",
   "execution_count": 3,
   "metadata": {
    "colab": {
     "base_uri": "https://localhost:8080/"
    },
    "id": "z7ZKePJyJkGQ",
    "outputId": "a7c409cd-11e9-49dc-a819-8519777e122d"
   },
   "outputs": [
    {
     "name": "stderr",
     "output_type": "stream",
     "text": [
      "2022-06-16 01:33:19 [scrapy.utils.log] INFO: Scrapy 2.6.1 started (bot: scrapybot)\n"
     ]
    },
    {
     "name": "stderr",
     "output_type": "stream",
     "text": [
      "2022-06-16 01:33:19 [scrapy.utils.log] INFO: Versions: lxml 4.8.0.0, libxml2 2.9.12, cssselect 1.1.0, parsel 1.6.0, w3lib 1.22.0, Twisted 22.2.0, Python 3.8.5 (tags/v3.8.5:580fbb0, Jul 20 2020, 15:43:08) [MSC v.1926 32 bit (Intel)], pyOpenSSL 22.0.0 (OpenSSL 1.1.1n  15 Mar 2022), cryptography 36.0.2, Platform Windows-10-10.0.22000-SP0\n"
     ]
    },
    {
     "name": "stderr",
     "output_type": "stream",
     "text": [
      "2022-06-16 01:33:19 [scrapy.crawler] INFO: Overridden settings:\n",
      "{}\n"
     ]
    },
    {
     "name": "stderr",
     "output_type": "stream",
     "text": [
      "2022-06-16 01:33:19 [scrapy.utils.log] DEBUG: Using reactor: twisted.internet.selectreactor.SelectReactor\n"
     ]
    },
    {
     "name": "stderr",
     "output_type": "stream",
     "text": [
      "2022-06-16 01:33:19 [scrapy.extensions.telnet] INFO: Telnet Password: f1e5c500b4d22e64\n"
     ]
    },
    {
     "name": "stderr",
     "output_type": "stream",
     "text": [
      "2022-06-16 01:33:19 [py.warnings] WARNING: C:\\Users\\ASUS\\AppData\\Local\\Programs\\Python\\Python38-32\\lib\\site-packages\\scrapy\\extensions\\feedexport.py:289: ScrapyDeprecationWarning: The `FEED_URI` and `FEED_FORMAT` settings have been deprecated in favor of the `FEEDS` setting. Please see the `FEEDS` setting docs for more details\n",
      "  exporter = cls(crawler)\n",
      "\n"
     ]
    },
    {
     "name": "stderr",
     "output_type": "stream",
     "text": [
      "2022-06-16 01:33:19 [scrapy.middleware] INFO: Enabled extensions:\n",
      "['scrapy.extensions.corestats.CoreStats',\n",
      " 'scrapy.extensions.telnet.TelnetConsole',\n",
      " 'scrapy.extensions.feedexport.FeedExporter',\n",
      " 'scrapy.extensions.logstats.LogStats']\n"
     ]
    },
    {
     "name": "stderr",
     "output_type": "stream",
     "text": [
      "2022-06-16 01:33:20 [scrapy.middleware] INFO: Enabled downloader middlewares:\n",
      "['scrapy.downloadermiddlewares.httpauth.HttpAuthMiddleware',\n",
      " 'scrapy.downloadermiddlewares.downloadtimeout.DownloadTimeoutMiddleware',\n",
      " 'scrapy.downloadermiddlewares.defaultheaders.DefaultHeadersMiddleware',\n",
      " 'scrapy.downloadermiddlewares.useragent.UserAgentMiddleware',\n",
      " 'scrapy.downloadermiddlewares.retry.RetryMiddleware',\n",
      " 'scrapy.downloadermiddlewares.redirect.MetaRefreshMiddleware',\n",
      " 'scrapy.downloadermiddlewares.httpcompression.HttpCompressionMiddleware',\n",
      " 'scrapy.downloadermiddlewares.redirect.RedirectMiddleware',\n",
      " 'scrapy.downloadermiddlewares.cookies.CookiesMiddleware',\n",
      " 'scrapy.downloadermiddlewares.httpproxy.HttpProxyMiddleware',\n",
      " 'scrapy.downloadermiddlewares.stats.DownloaderStats']\n"
     ]
    },
    {
     "name": "stderr",
     "output_type": "stream",
     "text": [
      "2022-06-16 01:33:20 [scrapy.middleware] INFO: Enabled spider middlewares:\n",
      "['scrapy.spidermiddlewares.httperror.HttpErrorMiddleware',\n",
      " 'scrapy.spidermiddlewares.offsite.OffsiteMiddleware',\n",
      " 'scrapy.spidermiddlewares.referer.RefererMiddleware',\n",
      " 'scrapy.spidermiddlewares.urllength.UrlLengthMiddleware',\n",
      " 'scrapy.spidermiddlewares.depth.DepthMiddleware']\n"
     ]
    },
    {
     "name": "stderr",
     "output_type": "stream",
     "text": [
      "2022-06-16 01:33:20 [scrapy.middleware] INFO: Enabled item pipelines:\n",
      "[]\n"
     ]
    },
    {
     "name": "stderr",
     "output_type": "stream",
     "text": [
      "2022-06-16 01:33:20 [scrapy.core.engine] INFO: Spider opened\n"
     ]
    },
    {
     "name": "stderr",
     "output_type": "stream",
     "text": [
      "2022-06-16 01:33:20 [scrapy.extensions.logstats] INFO: Crawled 0 pages (at 0 pages/min), scraped 0 items (at 0 items/min)\n"
     ]
    },
    {
     "name": "stderr",
     "output_type": "stream",
     "text": [
      "2022-06-16 01:33:20 [scrapy.extensions.telnet] INFO: Telnet console listening on 127.0.0.1:6023\n"
     ]
    },
    {
     "name": "stderr",
     "output_type": "stream",
     "text": [
      "2022-06-16 01:33:21 [scrapy.downloadermiddlewares.redirect] DEBUG: Redirecting (301) to <GET https://edukasi.sindonews.com/> from <GET https://edukasi.sindonews.com/edukasi>\n"
     ]
    },
    {
     "name": "stderr",
     "output_type": "stream",
     "text": [
      "2022-06-16 01:33:21 [scrapy.core.engine] DEBUG: Crawled (200) <GET https://edukasi.sindonews.com/> (referer: None)\n"
     ]
    },
    {
     "name": "stderr",
     "output_type": "stream",
     "text": [
      "2022-06-16 01:33:21 [scrapy.core.scraper] DEBUG: Scraped from <200 https://edukasi.sindonews.com/>\r\n",
      "{'judul': 'Tantangan Pendidikan Dasar Makin Kompleks, Butuh Inovasi dalam Pembelajaran', 'waktu': 'Rabu, 15 Juni 2022 - 22:52 WIB', 'kategori': 'Kampus', 'deskripsi': 'Pendidikan dasar di masa datang akan menghadapi tantangan yang kompleks. Salah satunya, perkembangan teknologi informasi yang makin maju dan membutuhkan inovasi.'}\n"
     ]
    },
    {
     "name": "stderr",
     "output_type": "stream",
     "text": [
      "2022-06-16 01:33:21 [scrapy.core.scraper] DEBUG: Scraped from <200 https://edukasi.sindonews.com/>\r\n",
      "{'judul': None, 'waktu': None, 'kategori': None, 'deskripsi': None}\n"
     ]
    },
    {
     "name": "stderr",
     "output_type": "stream",
     "text": [
      "2022-06-16 01:33:21 [scrapy.core.scraper] DEBUG: Scraped from <200 https://edukasi.sindonews.com/>\r\n",
      "{'judul': 'Tantangan Pendidikan Dasar Makin Kompleks, Butuh Inovasi dalam Pembelajaran', 'waktu': 'Rabu, 15 Juni 2022 - 22:52 WIB', 'kategori': 'Kampus', 'deskripsi': 'Pendidikan dasar di masa datang akan menghadapi tantangan yang kompleks. Salah satunya, perkembangan teknologi informasi yang makin maju dan membutuhkan inovasi.'}\n"
     ]
    },
    {
     "name": "stderr",
     "output_type": "stream",
     "text": [
      "2022-06-16 01:33:21 [scrapy.core.scraper] DEBUG: Scraped from <200 https://edukasi.sindonews.com/>\r\n",
      "{'judul': 'Perjuangan Riska, Anak TKI yang Lolos Beasiswa ke University of British Columbia', 'waktu': 'Rabu, 15 Juni 2022 - 22:07 WIB', 'kategori': 'Beasiswa', 'deskripsi': 'Riska, anak dari seorang Pekerja Imigran Indonesia (PMI) di Sekolah Indonesia Kota Kinibalu, Malaysia, berhasil memperoleh beasiswa jenjang S1 ke University of British Columbia di Kanada.'}\n"
     ]
    },
    {
     "name": "stderr",
     "output_type": "stream",
     "text": [
      "2022-06-16 01:33:21 [scrapy.core.scraper] DEBUG: Scraped from <200 https://edukasi.sindonews.com/>\r\n",
      "{'judul': 'Ini 6 Kampus dengan Fakultas Kedokteran Terbaik di Dunia, Buruan Daftar', 'waktu': 'Rabu, 15 Juni 2022 - 20:06 WIB', 'kategori': 'Kampus', 'deskripsi': 'Sedikitnya ada enam kampus kedokteran terbaik di dunia. Dalam perkembangannya, jurusan kedokteran menjadi salah satu jurusan paling populer di perguruan tinggi.'}\n"
     ]
    },
    {
     "name": "stderr",
     "output_type": "stream",
     "text": [
      "2022-06-16 01:33:21 [scrapy.core.scraper] DEBUG: Scraped from <200 https://edukasi.sindonews.com/>\r\n",
      "{'judul': 'Partai Perindo: Mars Partai Perindo dengan QR Code', 'waktu': None, 'kategori': 'Video', 'deskripsi': 'Lahir dari semangat untuk mengembalikan cita-cita kemerdekaan, Partai Perindo hadir untuk membangun Indonesia menjadi negara bersatu, berdaulat, adil dan makmur berlandaskan Pancasila.'}\n"
     ]
    },
    {
     "name": "stderr",
     "output_type": "stream",
     "text": [
      "2022-06-16 01:33:21 [scrapy.core.scraper] DEBUG: Scraped from <200 https://edukasi.sindonews.com/>\r\n",
      "{'judul': 'Bangga! Mahasiswi Politeknik Ini Raih Beasiswa IISMAVO 2022 dari Kemendikbudristek', 'waktu': 'Rabu, 15 Juni 2022 - 19:30 WIB', 'kategori': 'Beasiswa', 'deskripsi': 'Mahasiswi Politeknik Negeri Banjarmasin (Poliban) Kalimantan Selatan, Dinda Nurainunnajah meraih beasiswa IISMAVO 2022 dari Kemendikbudristek.'}\n"
     ]
    },
    {
     "name": "stderr",
     "output_type": "stream",
     "text": [
      "2022-06-16 01:33:21 [scrapy.core.scraper] DEBUG: Scraped from <200 https://edukasi.sindonews.com/>\r\n",
      "{'judul': 'Lulus Sidang Terbuka, Wakil Direktur Kajian CTRS-PTIK Sandang Gelar Doktor', 'waktu': 'Rabu, 15 Juni 2022 - 19:01 WIB', 'kategori': 'Kampus', 'deskripsi': 'Wakil Direktur Kajian Pusat Studi Terorisme dan Radikalisme Sekolah Tinggi Ilmu Kepolisian (STIK/PTIK) Tety Machyawaty resmi menyandang gelar doktor ilmu kepolisian.'}\n"
     ]
    },
    {
     "name": "stderr",
     "output_type": "stream",
     "text": [
      "2022-06-16 01:33:21 [scrapy.core.scraper] DEBUG: Scraped from <200 https://edukasi.sindonews.com/>\r\n",
      "{'judul': '5 Kampus dengan Jurusan Seni Rupa Terbaik di Indonesia, Bisa Jadi Referensi', 'waktu': 'Rabu, 15 Juni 2022 - 17:19 WIB', 'kategori': 'Kampus', 'deskripsi': 'Cukup banyak anak muda saat ini yang memiliki kemampuan dan cita-cita menjadi seorang seniman seperti pelukis, penari, pematung, atau bahkan bercita-cita menjadi seorang sutradara dan animator.'}\n"
     ]
    },
    {
     "name": "stderr",
     "output_type": "stream",
     "text": [
      "2022-06-16 01:33:21 [scrapy.core.scraper] DEBUG: Scraped from <200 https://edukasi.sindonews.com/>\r\n",
      "{'judul': 'Kabar Baik, Lulusan SMK Kini Bisa Tempuh Sarjana di Jerman', 'waktu': 'Rabu, 15 Juni 2022 - 16:35 WIB', 'kategori': 'Sekolah', 'deskripsi': 'Atdikbud KBRI Berlin Ardi Marwan menjelaskan mulai 2022 siswa SMK dari Indonesia berkesempatan melanjutkan pendidikan sarjana di berbagai universitas di Jerman.'}\n"
     ]
    },
    {
     "name": "stderr",
     "output_type": "stream",
     "text": [
      "2022-06-16 01:33:21 [scrapy.core.scraper] DEBUG: Scraped from <200 https://edukasi.sindonews.com/>\r\n",
      "{'judul': 'Gelar Wisuda 2022, ISTN Lahirkan 423 Sarjana Berkualitas dan Unggul', 'waktu': 'Rabu, 15 Juni 2022 - 15:19 WIB', 'kategori': 'Kampus', 'deskripsi': 'Institut Sains dan Teknologi Nasional (ISTN) menggelar wisuda untuk Program Diploma, Sarjana, Profesi Apoteker dan Pascasarjana semester ganjil Tahun Akademik 2021/2022.'}\n"
     ]
    },
    {
     "name": "stderr",
     "output_type": "stream",
     "text": [
      "2022-06-16 01:33:21 [scrapy.core.scraper] DEBUG: Scraped from <200 https://edukasi.sindonews.com/>\r\n",
      "{'judul': 'UPN Veteran Jakarta Buka Penerimaan Mahasiswa Baru Jalur Seleksi Mandiri', 'waktu': 'Rabu, 15 Juni 2022 - 13:26 WIB', 'kategori': 'Kampus', 'deskripsi': 'Universitas Pembangunan Nasional Veteran Jakarta (UPNVJ) mulai membuka penerimaan mahasiswa baru jalur Seleksi Mandiri jenjang SI pada 14 Juni 2022.'}\n"
     ]
    },
    {
     "name": "stderr",
     "output_type": "stream",
     "text": [
      "2022-06-16 01:33:21 [scrapy.core.scraper] DEBUG: Scraped from <200 https://edukasi.sindonews.com/>\r\n",
      "{'judul': None, 'waktu': None, 'kategori': None, 'deskripsi': None}\n"
     ]
    },
    {
     "name": "stderr",
     "output_type": "stream",
     "text": [
      "2022-06-16 01:33:21 [scrapy.core.scraper] DEBUG: Scraped from <200 https://edukasi.sindonews.com/>\r\n",
      "{'judul': 'Siswa MAN IC Pasuruan Juara II Kompetisi Internasional Science 2022 di AS', 'waktu': 'Rabu, 15 Juni 2022 - 12:07 WIB', 'kategori': 'Sekolah', 'deskripsi': 'Prestasi internasional kembali ditorehkan siswi MAN IC Pasuruan. Salwa Putri dinobatkan sebagai juara kedua Internasional Science Without Borders Challenge 2022.'}\n"
     ]
    },
    {
     "name": "stderr",
     "output_type": "stream",
     "text": [
      "2022-06-16 01:33:21 [scrapy.core.scraper] DEBUG: Scraped from <200 https://edukasi.sindonews.com/>\r\n",
      "{'judul': 'Prodi MICE PNJ Gelar Event INAMICE 2022', 'waktu': 'Rabu, 15 Juni 2022 - 11:53 WIB', 'kategori': 'Kampus', 'deskripsi': 'Program Studi MICE Politeknik Negeri Jakarta (PNJ) bersama dengan Kementerian Pariwisata dan Ekonomi Kreatif (Kemenparekraf) menyelenggarakan INAMICE 2022.'}\n"
     ]
    },
    {
     "name": "stderr",
     "output_type": "stream",
     "text": [
      "2022-06-16 01:33:21 [scrapy.core.scraper] DEBUG: Scraped from <200 https://edukasi.sindonews.com/>\r\n",
      "{'judul': '15 Universitas Terbaik dengan Jurusan Akuntansi, Ini Daftarnya', 'waktu': 'Rabu, 15 Juni 2022 - 11:46 WIB', 'kategori': 'Kampus', 'deskripsi': 'Mereka yang memutuskan untuk menempuh kuliah jurusan akuntansi tentu harus memahami apa yang akan mereka pelajari nantinya. Jurusan kuliah ini memiliki peluang kerja cukup tinggi.'}\n"
     ]
    },
    {
     "name": "stderr",
     "output_type": "stream",
     "text": [
      "2022-06-16 01:33:21 [scrapy.core.scraper] DEBUG: Scraped from <200 https://edukasi.sindonews.com/>\r\n",
      "{'judul': 'PPDB Jateng 2022 SMA-SMK Dimulai Hari Ini, Cek Jadwal, Syarat, dan Alur Pendaftarannya', 'waktu': 'Rabu, 15 Juni 2022 - 10:13 WIB', 'kategori': 'Sekolah', 'deskripsi': 'PPDB jenjang SMA dan SMK 2022 di Provinsi Jawa Tengah (Jateng) mulai dibuka. Pendaftaran dilakukan secara online di laman resmi ppdb.jatengprov.go.id.'}\n"
     ]
    },
    {
     "name": "stderr",
     "output_type": "stream",
     "text": [
      "2022-06-16 01:33:22 [scrapy.core.scraper] DEBUG: Scraped from <200 https://edukasi.sindonews.com/>\r\n",
      "{'judul': 'Justin Bieber Terkena Ramsay Hunt, Pakar Unair Ungkap Gejala dan Penyembuhannya', 'waktu': 'Rabu, 15 Juni 2022 - 09:05 WIB', 'kategori': 'Kampus', 'deskripsi': 'Justin Bieber mengumumkan dirinya terkena Ramsay Hunt Syndrome., Dosen Fakultas Kedokteran Unair pun membeberkan mengenai gejala dan metode penyembuhannya.'}\n"
     ]
    },
    {
     "name": "stderr",
     "output_type": "stream",
     "text": [
      "2022-06-16 01:33:22 [scrapy.core.scraper] DEBUG: Scraped from <200 https://edukasi.sindonews.com/>\r\n",
      "{'judul': 'Wabah PMK Merebak, Ini Tips Pilih Hewan Kurban dari Pakar UGM', 'waktu': 'Rabu, 15 Juni 2022 - 08:19 WIB', 'kategori': 'Kampus', 'deskripsi': 'Direktur Pusat Kajian Halal Fakultas Peternakan UGM mengimbau masyarakat untuk meningkatkan kewaspadaan saat membeli hewan ternak jelang hari raya kurban.'}\n"
     ]
    },
    {
     "name": "stderr",
     "output_type": "stream",
     "text": [
      "2022-06-16 01:33:22 [scrapy.core.scraper] DEBUG: Scraped from <200 https://edukasi.sindonews.com/>\r\n",
      "{'judul': 'Program Internasionalisasi Kampus, UP Jalin Kerja Sama dengan TUI Jerman', 'waktu': 'Rabu, 15 Juni 2022 - 07:57 WIB', 'kategori': 'Kampus', 'deskripsi': 'Universitas Pancasila (UP) pada hari Selasa (14/6/2022) menandatangani Memorandum of Understanding (MOU) dengan Technische Universitt Ilmenau (TUI) Jerman.'}\n"
     ]
    },
    {
     "name": "stderr",
     "output_type": "stream",
     "text": [
      "2022-06-16 01:33:22 [scrapy.core.scraper] DEBUG: Scraped from <200 https://edukasi.sindonews.com/>\r\n",
      "{'judul': 'Kisah Inspiratif, Anak Penjual Petis Dilantik Jadi Rektor UINSA Surabaya', 'waktu': 'Rabu, 15 Juni 2022 - 05:17 WIB', 'kategori': 'Kampus', 'deskripsi': 'Prof. Akhmad Muzakki membuktikan diri bahwa latar belakang ekonomi keluarga yang biasa-biasa saja tidak menghalangi cita-citanya untuk menjadi orang sukses.'}\n"
     ]
    },
    {
     "name": "stderr",
     "output_type": "stream",
     "text": [
      "2022-06-16 01:33:22 [scrapy.core.scraper] DEBUG: Scraped from <200 https://edukasi.sindonews.com/>\r\n",
      "{'judul': 'Ners Unair: 6 Vitamin untuk Kulit agar Tetap Sehat dan Jenis Makanannya', 'waktu': 'Selasa, 14 Juni 2022 - 22:12 WIB', 'kategori': 'Kampus', 'deskripsi': 'Fakultas Keperawatan Universitas Airlangga(Ners Unair) menyebutkan berbagai jenis vitamin yang cocok untuk kulit. Vitamin apa saja itu?'}\n"
     ]
    },
    {
     "name": "stderr",
     "output_type": "stream",
     "text": [
      "2022-06-16 01:33:22 [scrapy.core.scraper] DEBUG: Scraped from <200 https://edukasi.sindonews.com/>\r\n",
      "{'judul': 'Alumni SMA Pradita Dirgantara Raih Beasiswa di University of Chicago AS', 'waktu': 'Selasa, 14 Juni 2022 - 21:57 WIB', 'kategori': 'Beasiswa', 'deskripsi': 'Walau masih berusia belia, namun prestasi SMA Pradita Dirgantara tidak diragukan lagi. Terbukti banyak alumninya yang mendapatkan beasiswa di dalam maupun luar negeri.'}\n"
     ]
    },
    {
     "name": "stderr",
     "output_type": "stream",
     "text": [
      "2022-06-16 01:33:22 [scrapy.core.scraper] DEBUG: Scraped from <200 https://edukasi.sindonews.com/>\r\n",
      "{'judul': 'Prodi Penmas FIP UNJ Gelar Seminar Internasional dan Munas Hapenmasi', 'waktu': 'Selasa, 14 Juni 2022 - 20:20 WIB', 'kategori': 'Kampus', 'deskripsi': 'Program Studi Pendidikan Masyarakat, Fakultas Ilmu Pendidikan Universitas Negeri Jakarta (Prodi Penmas FIP UNJ) menyelenggarakan seminar internasional .'}\n"
     ]
    },
    {
     "name": "stderr",
     "output_type": "stream",
     "text": [
      "2022-06-16 01:33:22 [scrapy.core.scraper] DEBUG: Scraped from <200 https://edukasi.sindonews.com/>\r\n",
      "{'judul': 'Diikuti 7.038 Peserta, UIN Jakarta Gelar Seleksi UM-PTKIN', 'waktu': 'Selasa, 14 Juni 2022 - 19:31 WIB', 'kategori': 'Kampus', 'deskripsi': 'Universitas Islam Negeri Syarif Hidayatullah (UIN Jakarta) memulai hari pertama seleksi Ujian Masuk Perguruan Tinggi Keagamaan Islam Negeri (UM-PTKIN) 2022.'}\n"
     ]
    },
    {
     "name": "stderr",
     "output_type": "stream",
     "text": [
      "2022-06-16 01:33:22 [scrapy.core.scraper] DEBUG: Scraped from <200 https://edukasi.sindonews.com/>\r\n",
      "{'judul': 'Tertarik Jadi Guru? Daftar Pendidikan Profesi Guru Kemendikbudristek 2022', 'waktu': 'Selasa, 14 Juni 2022 - 19:13 WIB', 'kategori': 'Kampus', 'deskripsi': 'Ditjen GTK Kemendikbudristek mengundang putra-putri terbaik bangsa untuk mengikuti seleksi calon Mahasiswa Program Pendidikan Profesi Guru (PPG) Prajabatan 2022.'}\n"
     ]
    },
    {
     "name": "stderr",
     "output_type": "stream",
     "text": [
      "2022-06-16 01:33:22 [scrapy.core.scraper] DEBUG: Scraped from <200 https://edukasi.sindonews.com/>\r\n",
      "{'judul': 'Ini 4 Kampus Luar Jawa dengan Fakultas Kedokteran Terbaik, Nomor Terakhir di Sumatera Utara', 'waktu': 'Selasa, 14 Juni 2022 - 18:22 WIB', 'kategori': 'Kampus', 'deskripsi': 'Sedikitnya ada empat jurusan kedokteran terbaik di Indobesia yang bisa diketahui. Meskipun terkenal dengan biaya kuliah yang mahal, namun jurusan ini bisa memberikan prospek yang bagus bagi lulusannya.'}\n"
     ]
    },
    {
     "name": "stderr",
     "output_type": "stream",
     "text": [
      "2022-06-16 01:33:22 [scrapy.core.scraper] DEBUG: Scraped from <200 https://edukasi.sindonews.com/>\r\n",
      "{'judul': 'Seleksi Wilayah Kontes Robot Indonesia 2022 Berakhir, ITS Juarai 4 Kategori', 'waktu': 'Selasa, 14 Juni 2022 - 17:46 WIB', 'kategori': 'Kampus', 'deskripsi': 'Institut Teknologi Sepuluh Nopember (ITS) berhasil menuntaskan kewajiban sebagai tuan rumah Kontes Robot Indonesia (KRI) Tingkat Wilayah bersama Puspresnas.'}\n"
     ]
    },
    {
     "name": "stderr",
     "output_type": "stream",
     "text": [
      "2022-06-16 01:33:22 [scrapy.core.scraper] DEBUG: Scraped from <200 https://edukasi.sindonews.com/>\r\n",
      "{'judul': 'Polsri dan Trakindo Berbagi Wawasan Bantu Siapkan Mahasiswa Berkarier', 'waktu': 'Selasa, 14 Juni 2022 - 17:04 WIB', 'kategori': 'Kampus', 'deskripsi': 'Berkolaborasi dengan Politeknik Negeri Sriwijaya (Polsri), Trakindo kembali menggelar Trakindo Goes to Campus (TGTC) yang diikuti 526 mahasiswa dan pengajar.'}\n"
     ]
    },
    {
     "name": "stderr",
     "output_type": "stream",
     "text": [
      "2022-06-16 01:33:22 [scrapy.core.scraper] DEBUG: Scraped from <200 https://edukasi.sindonews.com/>\r\n",
      "{'judul': None, 'waktu': None, 'kategori': None, 'deskripsi': None}\n"
     ]
    },
    {
     "name": "stderr",
     "output_type": "stream",
     "text": [
      "2022-06-16 01:33:22 [scrapy.core.scraper] DEBUG: Scraped from <200 https://edukasi.sindonews.com/>\r\n",
      "{'judul': None, 'waktu': None, 'kategori': None, 'deskripsi': None}\n"
     ]
    },
    {
     "name": "stderr",
     "output_type": "stream",
     "text": [
      "2022-06-16 01:33:22 [scrapy.core.scraper] DEBUG: Scraped from <200 https://edukasi.sindonews.com/>\r\n",
      "{'judul': None, 'waktu': None, 'kategori': None, 'deskripsi': None}\n"
     ]
    },
    {
     "name": "stderr",
     "output_type": "stream",
     "text": [
      "2022-06-16 01:33:22 [scrapy.core.scraper] DEBUG: Scraped from <200 https://edukasi.sindonews.com/>\r\n",
      "{'judul': None, 'waktu': None, 'kategori': None, 'deskripsi': None}\n"
     ]
    },
    {
     "name": "stderr",
     "output_type": "stream",
     "text": [
      "2022-06-16 01:33:22 [scrapy.core.engine] INFO: Closing spider (finished)\n"
     ]
    },
    {
     "name": "stderr",
     "output_type": "stream",
     "text": [
      "2022-06-16 01:33:22 [scrapy.extensions.feedexport] INFO: Stored csv feed (33 items) in: crawlingweb.csv\n"
     ]
    },
    {
     "name": "stderr",
     "output_type": "stream",
     "text": [
      "2022-06-16 01:33:22 [scrapy.statscollectors] INFO: Dumping Scrapy stats:\n",
      "{'downloader/request_bytes': 449,\n",
      " 'downloader/request_count': 2,\n",
      " 'downloader/request_method_count/GET': 2,\n",
      " 'downloader/response_bytes': 25311,\n",
      " 'downloader/response_count': 2,\n",
      " 'downloader/response_status_count/200': 1,\n",
      " 'downloader/response_status_count/301': 1,\n",
      " 'elapsed_time_seconds': 1.166571,\n",
      " 'feedexport/success_count/FileFeedStorage': 1,\n",
      " 'finish_reason': 'finished',\n",
      " 'finish_time': datetime.datetime(2022, 6, 15, 18, 33, 22, 150424),\n",
      " 'httpcompression/response_bytes': 112120,\n",
      " 'httpcompression/response_count': 1,\n",
      " 'item_scraped_count': 33,\n",
      " 'log_count/DEBUG': 36,\n",
      " 'log_count/INFO': 11,\n",
      " 'log_count/WARNING': 1,\n",
      " 'response_received_count': 1,\n",
      " 'scheduler/dequeued': 2,\n",
      " 'scheduler/dequeued/memory': 2,\n",
      " 'scheduler/enqueued': 2,\n",
      " 'scheduler/enqueued/memory': 2,\n",
      " 'start_time': datetime.datetime(2022, 6, 15, 18, 33, 20, 983853)}\n"
     ]
    },
    {
     "name": "stderr",
     "output_type": "stream",
     "text": [
      "2022-06-16 01:33:22 [scrapy.core.engine] INFO: Spider closed (finished)\n"
     ]
    }
   ],
   "source": [
    "class ScrapingWeb(scrapy.Spider):    \n",
    "    name = \"sindonews\"\n",
    "    keyword = 'edukasi'\n",
    "    start_urls = [\n",
    "        'https://edukasi.sindonews.com/'+keyword\n",
    "        ]\n",
    "    custom_settings = {\n",
    "        'FEED_FORMAT': 'csv',\n",
    "        'FEED_URI': 'crawlingweb.csv'\n",
    "        }\n",
    "    \n",
    "    def parse(self, response):\n",
    "        for data in response.css('div.sinfix'):\n",
    "            yield {\n",
    "                'judul': data.css('div.title a::text').get(),\n",
    "                'waktu': data.css('time::text').get(),\n",
    "                'kategori':data.css('span::text').get(),\n",
    "                'deskripsi': data.css('div.subcaption::text').get()\n",
    "                }\n",
    "proses = CrawlerProcess()\n",
    "proses.crawl(ScrapingWeb)\n",
    "proses.start()"
   ]
  },
  {
   "cell_type": "markdown",
   "metadata": {
    "id": "UIuyXAs1x4uE"
   },
   "source": [
    "# Melakukan Import Module"
   ]
  },
  {
   "cell_type": "markdown",
   "metadata": {
    "id": "QRZGFMmd0__7"
   },
   "source": [
    "Terdapat beberapa library yang harus diimport terlebih dahulu.\n",
    "- Numpy: NumPy (Numerical Python) adalah library Python yang fokus pada scientific computing dan memiliki kemampuan untuk membentuk objek N-dimensional array, yang mirip dengan list pada Python. Keunggulan NumPy array dibandingkan dengan list pada Python adalah konsumsi memory yang lebih kecil serta runtime yang lebih cepat.\n",
    "\n",
    "- Pandas (Python for Data Analysis) adalah library Python yang fokus untuk proses analisis data seperti manipulasi data, persiapan data, dan pembersihan data. Pandas menyediakan struktur data dan fungsi high-level untuk membuat data lebih terstruktur, lebih cepat, mudah. Dalam pandas terdapat dua objek yang sering dibahas, yaitu DataFrame dan Series.\n",
    "\n",
    "- matplotlib.pyplot adalah kumpulan fungsi yang membuat beberapa perubahan pada gambar. misalnya membuat gambar, membuat area plot dalam gambar, menambah label di plot dan lainnya. Biasanya untuk mempermudah secara umum matplotlib.pyplot disingkat menjadi plt import matplotlib.pyplot as plt\n",
    "\n",
    "- Matplotlib adalah library Python yang fokus pada visualisasi data yang biasa difungsikan membuat plot grafik. matplotlib tersebut dipanggil dan dilakukan import style.\n",
    "\n",
    "- Seaborn memiliki banyak fungsi untuk visualisasi data dan lebih mudah digunakan untuk menggunakan library seaborn kita harus install library ini terlebih dahulu dengan menggunakan PIP pip install seaborn Untuk menggunakannya import terlebih dahulu dengan perintah seperti ini import seaborn as sns."
   ]
  },
  {
   "cell_type": "code",
   "execution_count": 4,
   "metadata": {
    "id": "ZxSqXPYG0Ms8"
   },
   "outputs": [
    {
     "name": "stderr",
     "output_type": "stream",
     "text": [
      "2022-06-16 01:33:25 [matplotlib] DEBUG: matplotlib data path: C:\\Users\\ASUS\\AppData\\Local\\Programs\\Python\\Python38-32\\lib\\site-packages\\matplotlib\\mpl-data\n"
     ]
    },
    {
     "name": "stderr",
     "output_type": "stream",
     "text": [
      "2022-06-16 01:33:25 [matplotlib] DEBUG: CONFIGDIR=C:\\Users\\ASUS\\.matplotlib\n"
     ]
    },
    {
     "name": "stderr",
     "output_type": "stream",
     "text": [
      "2022-06-16 01:33:25 [matplotlib] DEBUG: matplotlib version 3.4.3\n"
     ]
    },
    {
     "name": "stderr",
     "output_type": "stream",
     "text": [
      "2022-06-16 01:33:25 [matplotlib] DEBUG: interactive is False\n"
     ]
    },
    {
     "name": "stderr",
     "output_type": "stream",
     "text": [
      "2022-06-16 01:33:25 [matplotlib] DEBUG: platform is win32\n"
     ]
    },
    {
     "name": "stderr",
     "output_type": "stream",
     "text": [
      "2022-06-16 01:33:25 [matplotlib] DEBUG: loaded modules: ['sys', 'builtins', '_frozen_importlib', '_imp', '_warnings', '_frozen_importlib_external', '_io', 'marshal', 'nt', '_thread', '_weakref', 'winreg', 'time', 'zipimport', '_codecs', 'codecs', 'encodings.aliases', 'encodings', 'encodings.utf_8', 'encodings.cp1252', '_signal', '__main__', 'encodings.latin_1', '_abc', 'abc', 'io', '_stat', 'stat', '_collections_abc', 'genericpath', 'ntpath', 'os.path', 'os', '_sitebuiltins', '_locale', '_bootlocale', 'types', 'importlib._bootstrap', 'importlib._bootstrap_external', 'warnings', 'importlib', 'importlib.machinery', 'importlib.abc', '_operator', 'operator', 'keyword', '_heapq', 'heapq', 'itertools', 'reprlib', '_collections', 'collections', '_functools', 'functools', 'contextlib', 'importlib.util', 'mpl_toolkits', 'pywin32_system32', 'pywin32_bootstrap', 'sphinxcontrib', 'zope', 'site', '_weakrefset', 'weakref', 'pkgutil', 'runpy', 'enum', '_sre', 'sre_constants', 'sre_parse', 'sre_compile', 'copyreg', 're', 'ipykernel._version', '_json', 'json.scanner', 'json.decoder', 'json.encoder', 'json', 'errno', 'signal', 'threading', 'msvcrt', '_winapi', 'subprocess', 'collections.abc', 'typing.io', 'typing.re', 'typing', 'jupyter_client._version', '_ast', 'ast', '_opcode', 'opcode', 'dis', 'token', 'tokenize', 'linecache', 'inspect', 'traitlets.utils', 'traitlets.utils.getargspec', 'traitlets.utils.importstring', 'traitlets.utils.sentinel', 'traitlets.utils.bunch', 'traitlets.utils.descriptions', 'traitlets.traitlets', 'copy', 'traitlets.utils.decorators', 'traitlets._version', 'traitlets', 'concurrent', 'traceback', '_string', 'string', 'atexit', 'logging', 'concurrent.futures._base', 'concurrent.futures', '_socket', 'math', 'select', 'selectors', 'socket', '_ssl', '_struct', 'struct', 'binascii', 'base64', 'ssl', 'asyncio.constants', 'asyncio.format_helpers', 'asyncio.base_futures', 'asyncio.log', 'asyncio.coroutines', '_contextvars', 'contextvars', 'asyncio.exceptions', 'asyncio.base_tasks', '_asyncio', 'asyncio.events', 'asyncio.futures', 'asyncio.protocols', 'asyncio.transports', 'asyncio.sslproto', 'asyncio.locks', 'asyncio.tasks', 'asyncio.staggered', 'asyncio.trsock', 'asyncio.base_events', 'asyncio.runners', 'asyncio.queues', 'asyncio.streams', 'asyncio.subprocess', '_overlapped', 'asyncio.base_subprocess', 'asyncio.proactor_events', 'asyncio.selector_events', 'posixpath', 'fnmatch', 'zlib', '_compression', '_bz2', 'bz2', '_lzma', 'lzma', 'shutil', '_bisect', 'bisect', '_sha512', '_random', 'random', 'tempfile', 'asyncio.windows_utils', 'asyncio.windows_events', 'asyncio', '_queue', 'queue', 'platform', 'zmq.backend.select', 'cython_runtime', 'zmq.backend.cython.constants', '_cython_0_29_24', 'zmq.backend.cython.error', 'zmq.error', 'zmq.backend.cython.message', 'zmq.backend.cython.context', '_compat_pickle', '_pickle', 'pickle', 'zmq.backend.cython.socket', 'zmq.backend.cython.utils', 'zmq.backend.cython._poll', 'zmq.backend.cython._version', 'zmq.backend.cython._device', 'zmq.backend.cython._proxy_steerable', 'zmq.backend.cython', 'zmq.backend', 'zmq.utils', 'zmq.utils.constant_names', 'zmq.sugar.constants', 'zmq.sugar.attrsettr', 'zmq.sugar.poll', 'zmq.utils.jsonapi', 'zmq.utils.strtypes', 'zmq.sugar.socket', 'zmq.sugar.context', 'zmq.sugar.frame', 'zmq.sugar.tracker', 'zmq.sugar.version', 'zmq.sugar.stopwatch', 'zmq.sugar', 'zmq', 'zmq._future', 'zmq.asyncio', 'jupyter_client.channelsabc', '_hashlib', '_blake2', '_sha3', 'hashlib', 'hmac', 'pprint', '_datetime', 'datetime', 'locale', 'gettext', 'argparse', 'traitlets.config.loader', 'textwrap', 'traitlets.utils.text', 'traitlets.config.configurable', 'traitlets.config.application', 'traitlets.config', 'traitlets.log', '__future__', 'tornado', 'logging.handlers', 'html.entities', 'html', 'urllib', 'urllib.parse', 'array', 'tornado.speedups', 'tornado.util', 'tornado.escape', 'colorama.ansi', '_ctypes', 'ctypes._endian', 'ctypes', 'ctypes.wintypes', 'colorama.win32', 'colorama.winterm', 'colorama.ansitowin32', 'colorama.initialise', 'colorama', 'tornado.log', 'numbers', 'tornado.concurrent', 'tornado.ioloop', 'tornado.platform', 'tornado.gen', 'tornado.platform.asyncio', 'zmq.eventloop.ioloop', 'zmq.eventloop', 'zmq.eventloop.zmqstream', 'jupyter_client.adapter', 'dateutil._version', 'dateutil', 'calendar', 'six', '_decimal', 'decimal', 'dateutil._common', 'dateutil.relativedelta', 'six.moves', 'dateutil.tz._common', 'dateutil.tz._factories', 'dateutil.tz.win', 'dateutil.tz.tz', 'dateutil.tz', 'dateutil.parser._parser', 'dateutil.parser.isoparser', 'dateutil.parser', '_strptime', 'jupyter_client.jsonutil', 'jupyter_client.session', 'jupyter_client.channels', 'getpass', 'jupyter_client.clientabc', 'glob', 'jupyter_core.version', 'jupyter_core', 'pathlib', 'jupyter_core.paths', 'jupyter_client.localinterfaces', 'jupyter_client.utils', 'jupyter_client.connect', 'jupyter_client.client', 'jupyter_client.asynchronous.client', 'jupyter_client.asynchronous', 'jupyter_client.blocking.client', 'jupyter_client.blocking', 'jupyter_client.launcher', 'uuid', 'jupyter_client.managerabc', 'zipfile', 'configparser', 'entrypoints', 'jupyter_client.provisioning.provisioner_base', 'jupyter_client.provisioning.factory', 'jupyter_client.provisioning.local_provisioner', 'jupyter_client.provisioning', 'jupyter_client.kernelspec', 'jupyter_client.manager', 'jupyter_client.multikernelmanager', 'jupyter_client', 'ipykernel.connect', 'ipykernel', 'IPython.core', 'IPython.core.getipython', 'IPython.core.release', 'sysconfig', 'pydoc', 'executing.executing', 'executing.version', 'executing', 'asttokens.line_numbers', 'asttokens.util', 'asttokens.mark_tokens', 'asttokens.asttokens', 'asttokens', 'fractions', 'pure_eval.utils', 'pure_eval.my_getattr_static', 'pure_eval.core', 'pure_eval.version', 'pure_eval', 'stack_data.utils', 'stack_data.core', 'stack_data.formatting', 'stack_data.version', 'stack_data', 'pygments', 'pygments.formatters._mapping', 'pygments.plugin', 'pygments.util', 'pygments.formatters', 'pygments.styles', 'pygments.formatter', 'pygments.console', 'pygments.token', 'pygments.style', 'pygments.formatters.terminal256', 'bdb', 'IPython.utils', 'IPython.utils.ipstruct', 'IPython.utils.coloransi', 'IPython.utils.colorable', 'IPython.utils.PyColorize', 'IPython.utils.encoding', 'IPython.utils.py3compat', 'IPython.core.excolors', 'cmd', 'codeop', 'code', 'pdb', 'IPython.core.debugger', 'IPython.core.display_trap', 'shlex', 'IPython.utils._process_common', 'IPython.utils._process_win32', 'IPython.utils.process', 'IPython.utils.decorators', 'IPython.utils.path', 'IPython.utils.terminal', 'IPython.core.ultratb', 'IPython.utils._sysinfo', 'IPython.utils.sysinfo', 'IPython.core.crashhandler', 'IPython.utils.importstring', 'IPython.paths', 'IPython.core.profiledir', 'IPython.core.application', 'IPython.terminal', 'IPython.core.compilerop', 'IPython.core.error', 'IPython.utils.text', 'IPython.core.magic_arguments', 'getopt', 'IPython.core.display_functions', 'mimetypes', 'IPython.testing', 'IPython.testing.skipdoctest', 'IPython.core.display', 'IPython.lib', 'IPython.lib.display', 'IPython.display', 'IPython.utils.data', 'IPython.core.page', 'IPython.lib.pretty', 'IPython.utils.openpy', 'IPython.utils.dir2', 'IPython.utils.wildcard', 'pygments.lexers._mapping', 'pygments.modeline', 'pygments.lexers', 'pygments.filter', 'pygments.filters', 'pygments.regexopt', 'pygments.lexer', 'pygments.unistring', 'pygments.lexers.python', 'pygments.formatters.html', 'IPython.core.oinspect', 'IPython.core.inputtransformer2', 'IPython.core.magic', 'pickleshare', 'IPython.core.hooks', 'IPython.core.autocall', 'IPython.core.macro', 'IPython.core.splitinput', 'IPython.core.prefilter', 'IPython.core.alias', 'IPython.core.builtin_trap', 'IPython.core.displayhook', 'IPython.core.displaypub', 'backcall.backcall', 'backcall', 'IPython.core.events', 'IPython.core.extensions', 'decorator', 'IPython.utils.sentinel', 'IPython.core.formatters', '_sqlite3', 'sqlite3.dbapi2', 'sqlite3', 'IPython.core.history', 'IPython.core.logger', 'IPython.core.payload', 'IPython.core.usage', 'IPython.utils.capture', 'IPython.utils.io', 'IPython.utils.strdispatch', 'IPython.utils.syspathcontext', 'IPython.core.async_helpers', 'IPython.core.interactiveshell', 'prompt_toolkit.application.current', 'prompt_toolkit.eventloop.utils', 'prompt_toolkit.eventloop.async_generator', 'wcwidth.table_wide', 'wcwidth.table_zero', 'wcwidth.unicode_versions', 'wcwidth.wcwidth', 'wcwidth', 'prompt_toolkit.utils', 'prompt_toolkit.eventloop.inputhook', 'prompt_toolkit.eventloop', 'prompt_toolkit.application.run_in_terminal', 'prompt_toolkit.selection', 'prompt_toolkit.clipboard.base', 'prompt_toolkit.clipboard.in_memory', 'prompt_toolkit.clipboard', 'prompt_toolkit.cache', 'prompt_toolkit.enums', 'prompt_toolkit.filters.base', 'prompt_toolkit.filters.app', 'prompt_toolkit.filters.cli', 'prompt_toolkit.filters.utils', 'prompt_toolkit.filters', 'prompt_toolkit.document', 'prompt_toolkit.auto_suggest', 'prompt_toolkit.keys', 'prompt_toolkit.key_binding.key_bindings', 'prompt_toolkit.key_binding.key_processor', 'prompt_toolkit.key_binding', 'prompt_toolkit.key_binding.vi_state', 'prompt_toolkit.cursor_shapes', 'prompt_toolkit.data_structures', 'prompt_toolkit.styles.base', 'prompt_toolkit.styles.named_colors', 'prompt_toolkit.styles.style', 'prompt_toolkit.styles.defaults', 'prompt_toolkit.styles.pygments', 'colorsys', 'prompt_toolkit.styles.style_transformation', 'prompt_toolkit.styles', 'prompt_toolkit.output.color_depth', 'prompt_toolkit.output.base', 'prompt_toolkit.output.flush_stdout', 'prompt_toolkit.output.plain_text', 'prompt_toolkit.output.defaults', 'prompt_toolkit.output', 'prompt_toolkit.output.vt100', 'prompt_toolkit.mouse_events', 'prompt_toolkit.formatted_text.base', 'prompt_toolkit.formatted_text.ansi', 'xml', 'xml.dom.domreg', 'xml.dom', 'xml.dom.minicompat', 'xml.dom.NodeFilter', 'xml.dom.xmlbuilder', 'xml.dom.minidom', 'prompt_toolkit.formatted_text.html', 'prompt_toolkit.formatted_text.pygments', 'prompt_toolkit.formatted_text.utils', 'prompt_toolkit.formatted_text', 'prompt_toolkit.completion.base', 'prompt_toolkit.completion.deduplicate', 'prompt_toolkit.completion.filesystem', 'prompt_toolkit.completion.word_completer', 'prompt_toolkit.completion.fuzzy_completer', 'prompt_toolkit.completion.nested', 'prompt_toolkit.completion', 'prompt_toolkit.history', 'prompt_toolkit.search', 'prompt_toolkit.validation', 'prompt_toolkit.buffer', 'prompt_toolkit.input.base', 'prompt_toolkit.input.defaults', 'prompt_toolkit.input', 'prompt_toolkit.input.typeahead', 'prompt_toolkit.key_binding.bindings', 'prompt_toolkit.key_binding.bindings.scroll', 'prompt_toolkit.key_binding.bindings.page_navigation', 'prompt_toolkit.lexers.base', 'prompt_toolkit.lexers.pygments', 'prompt_toolkit.lexers', 'prompt_toolkit.layout.utils', 'prompt_toolkit.layout.processors', 'prompt_toolkit.layout.controls', 'prompt_toolkit.layout.dimension', 'prompt_toolkit.layout.margins', 'prompt_toolkit.layout.mouse_handlers', 'prompt_toolkit.layout.screen', 'prompt_toolkit.layout.containers', 'prompt_toolkit.layout.layout', 'prompt_toolkit.layout.menus', 'prompt_toolkit.layout.scrollable_pane', 'prompt_toolkit.layout', 'prompt_toolkit.key_binding.bindings.completion', 'prompt_toolkit.key_binding.bindings.named_commands', 'prompt_toolkit.key_binding.bindings.basic', 'prompt_toolkit.key_binding.bindings.cpr', 'prompt_toolkit.key_binding.bindings.emacs', 'prompt_toolkit.key_binding.bindings.mouse', 'prompt_toolkit.input.ansi_escape_sequences', 'prompt_toolkit.input.vt100_parser', 'prompt_toolkit.key_binding.digraphs', 'prompt_toolkit.key_binding.bindings.vi', 'prompt_toolkit.key_binding.defaults', 'prompt_toolkit.key_binding.emacs_state', 'prompt_toolkit.layout.dummy', 'prompt_toolkit.renderer', 'prompt_toolkit.application.application', 'prompt_toolkit.application.dummy', 'prompt_toolkit.application', 'prompt_toolkit.key_binding.bindings.focus', 'prompt_toolkit.widgets.toolbars', 'prompt_toolkit.widgets.base', 'prompt_toolkit.widgets.dialogs', 'prompt_toolkit.widgets.menus', 'prompt_toolkit.widgets', 'prompt_toolkit.shortcuts.dialogs', 'prompt_toolkit.shortcuts.progress_bar.formatters', 'prompt_toolkit.shortcuts.progress_bar.base', 'prompt_toolkit.shortcuts.progress_bar', 'prompt_toolkit.key_binding.bindings.auto_suggest', 'prompt_toolkit.key_binding.bindings.open_in_editor', 'prompt_toolkit.shortcuts.prompt', 'prompt_toolkit.shortcuts.utils', 'prompt_toolkit.shortcuts', 'prompt_toolkit', 'prompt_toolkit.patch_stdout', 'unicodedata', 'IPython.core.latex_symbols', 'IPython.utils.generics', 'parso.utils', 'parso.tree', 'parso.python', 'parso.python.token', 'parso.python.tokenize', 'parso.pgen2.grammar_parser', 'parso.pgen2.generator', 'parso.pgen2', 'parso.parser', 'parso._compatibility', 'difflib', 'parso.python.prefix', 'parso.python.tree', 'parso.python.parser', 'parso.python.diff', 'gc', 'parso.cache', 'parso.normalizer', 'parso.python.errors', 'parso.python.pep8', 'parso.file_io', 'parso.grammar', 'parso', 'jedi.parser_utils', 'jedi.debug', 'jedi.settings', 'jedi.cache', 'jedi.file_io', 'jedi.inference.cache', 'jedi.inference.helpers', 'jedi.inference.utils', 'jedi.inference.base_value', 'jedi.inference.sys_path', 'jedi.inference.recursion', 'jedi.inference.flow_analysis', 'jedi.common', 'jedi.inference.lazy_value', 'jedi.inference.docstrings', 'jedi.plugins', 'jedi.inference.names', 'jedi.inference.filters', 'jedi.inference.compiled.getattr_static', 'jedi.inference.compiled.access', 'jedi.inference.signature', 'jedi.inference.context', 'jedi.inference.compiled.value', 'jedi.inference.compiled', 'jedi.inference.analysis', 'jedi.inference.gradual', 'jedi.inference.value.module', 'jedi.inference.value.dynamic_arrays', 'jedi.inference.value.iterable', 'jedi.inference.arguments', 'jedi.inference.parser_cache', 'jedi.inference.gradual.generics', 'jedi.inference.value.function', 'jedi.inference.value.klass', 'jedi.inference.value.instance', 'jedi.inference.value', 'jedi.inference.gradual.base', 'jedi.inference.gradual.type_var', 'jedi.inference.gradual.typing', 'jedi.inference.gradual.stub_value', 'jedi.inference.gradual.typeshed', 'jedi._compatibility', 'jedi.inference.compiled.subprocess.functions', 'jedi.api.exceptions', 'jedi.inference.compiled.subprocess', 'jedi.inference.imports', 'jedi.inference.param', 'jedi.inference.gradual.annotation', 'jedi.inference.value.decorator', 'jedi.inference.syntax_tree', 'jedi.inference', 'jedi.inference.gradual.conversion', 'jedi.inference.compiled.mixed', 'pydoc_data', 'pydoc_data.topics', 'jedi.api.keywords', 'jedi.api.completion_cache', 'jedi.api.helpers', 'jedi.api.classes', 'jedi.api.interpreter', 'jedi.api.strings', 'jedi.api.file_name', 'jedi.inference.docstring_utils', 'jedi.api.completion', 'filecmp', 'jedi.api.environment', 'jedi.inference.references', 'jedi.api.project', 'jedi.api.errors', 'jedi.api.refactoring', 'jedi.api.refactoring.extract', 'jedi.inference.gradual.utils', 'jedi.api', 'jedi.plugins.stdlib', 'jedi.plugins.flask', 'jedi.plugins.pytest', 'jedi.plugins.django', 'jedi.plugins.registry', 'jedi', 'IPython.core.completer', 'IPython.terminal.ptutils', 'IPython.lib.clipboard', 'IPython.terminal.shortcuts', 'concurrent.futures.thread', 'IPython.terminal.debugger', 'IPython.terminal.magics', 'IPython.terminal.pt_inputhooks', 'IPython.terminal.prompts', 'IPython.terminal.interactiveshell', 'IPython.core.magics.auto', 'IPython.core.magics.basic', 'email', 'http', 'email.errors', 'email.quoprimime', 'email.base64mime', 'quopri', 'email.encoders', 'email.charset', 'email.header', 'email._parseaddr', 'email.utils', 'email._policybase', 'email.feedparser', 'email.parser', 'uu', 'email._encoded_words', 'email.iterators', 'email.message', 'http.client', 'urllib.response', 'urllib.error', 'nturl2path', 'urllib.request', 'IPython.utils.contexts', 'IPython.core.magics.code', 'IPython.core.magics.config', 'IPython.core.magics.display', '_lsprof', 'profile', 'cProfile', 'pstats', 'timeit', 'IPython.utils.module_paths', 'IPython.utils.timing', 'IPython.core.magics.execution', 'IPython.core.magics.extension', 'IPython.core.magics.history', 'IPython.core.magics.logging', 'IPython.core.magics.namespace', 'IPython.core.magics.osm', 'IPython.core.magics.packaging', 'IPython.core.pylabtools', 'IPython.core.magics.pylab', 'IPython.core.magics.script', 'IPython.core.magics', 'IPython.core.shellapp', 'IPython.extensions', 'IPython.extensions.storemagic', 'IPython.terminal.ipapp', 'IPython.terminal.embed', 'IPython.utils.frame', 'IPython', 'imp', 'ipykernel.iostream', 'ipykernel.control', 'ipykernel.heartbeat', 'IPython.utils.tokenutil', 'psutil._common', 'psutil._compat', 'psutil._psutil_windows', 'psutil._pswindows', 'psutil', 'tornado.locks', 'tornado.queues', 'ipykernel.jsonutil', 'ipykernel.kernelbase', 'ipykernel.comm.comm', 'ipykernel.comm.manager', 'ipykernel.comm', 'IPython.core.payloadpage', 'ipykernel.displayhook', 'ipykernel.zmqshell', 'distutils', 'distutils.version', 'ipykernel.eventloops', 'ipykernel.compiler', 'debugpy._version', 'debugpy.common', 'debugpy.common.json', 'debugpy.common.fmt', 'debugpy.common.compat', 'debugpy', 'debugpy._vendored._util', 'debugpy._vendored', '_pydevd_bundle', 'encodings.ascii', 'stringprep', 'encodings.idna', '_pydevd_bundle.pydevd_vm_type', '_pydev_imps', 'xmlrpc', 'xml.parsers', 'pyexpat.errors', 'pyexpat.model', 'pyexpat', 'xml.parsers.expat.model', 'xml.parsers.expat.errors', 'xml.parsers.expat', 'gzip', 'xmlrpc.client', 'socketserver', 'http.server', 'xmlrpc.server', '_pydev_imps._pydev_saved_modules', '_pydevd_bundle.pydevd_constants', '_pydev_bundle', '_pydev_runfiles', '_pydevd_frame_eval', 'pydev_ipython', 'pydevd_concurrency_analyser', 'plistlib', 'pkg_resources.extern', 'pkg_resources._vendor', 'pkg_resources._vendor.six', 'pkg_resources.extern.six', 'pkg_resources._vendor.six.moves', 'pkg_resources.extern.six.moves', 'pkg_resources.py31compat', 'win32api', '_win32sysloader', 'pywintypes', 'pythoncom', 'win32com.gen_py', 'win32com', 'win32com.shell', 'pkg_resources._vendor.appdirs', 'pkg_resources.extern.appdirs', 'pkg_resources._vendor.packaging.__about__', 'pkg_resources._vendor.packaging', 'pkg_resources.extern.packaging', 'pkg_resources.extern.packaging._structures', 'pkg_resources.extern.packaging.version', 'pkg_resources.extern.packaging._compat', 'pkg_resources.extern.packaging.specifiers', 'pkg_resources._vendor.pyparsing', 'pkg_resources.extern.pyparsing', 'pkg_resources._vendor.six.moves.urllib', 'pkg_resources.extern.six.moves.urllib', 'pkg_resources.extern.packaging.markers', 'pkg_resources.extern.packaging.requirements', 'pkg_resources.py2_warn', 'pkg_resources', 'pydevd_plugins', '_pydev_bundle.pydev_log', '_pydev_bundle._pydev_filesystem_encoding', '_pydevd_bundle.pydevd_comm_constants', 'pydevd_file_utils', '_pydev_imps._pydev_execfile', '_pydevd_bundle.pydevd_exec2', '_pydev_bundle.pydev_imports', '_pydev_bundle.pydev_is_thread_alive', '_pydev_bundle.pydev_override', 'pydevd_plugins.extensions', '_pydevd_bundle.pydevd_extension_utils', '_pydevd_bundle.pydevd_frame_utils', '_pydevd_bundle.pydevd_filtering', '_pydevd_bundle.pydevd_io', '_pydevd_bundle.pydevd_utils', '_pydev_bundle._pydev_tipper_common', '_pydev_bundle._pydev_imports_tipper', '_pydev_bundle._pydev_calltip_util', '_pydevd_bundle.pydevd_safe_repr', '_pydevd_bundle.pydevd_resolver', '_pydevd_bundle.pydevd_extension_api', '_pydevd_bundle.pydevd_xml', '_pydevd_bundle.pydevd_dont_trace', '_pydevd_frame_eval.vendored', '_pydevd_frame_eval.vendored.bytecode.flags', '_pydevd_frame_eval.vendored.bytecode.instr', '_pydevd_frame_eval.vendored.bytecode.bytecode', '_pydevd_frame_eval.vendored.bytecode.concrete', '_pydevd_frame_eval.vendored.bytecode.cfg', '_pydevd_frame_eval.vendored.bytecode', '_pydevd_bundle.pydevd_bytecode_utils', '_pydevd_bundle.pydevd_cython', '_pydevd_bundle.pydevd_cython_wrapper', '_pydevd_bundle.pydevd_additional_thread_info', '_pydevd_bundle.pydevd_thread_lifecycle', '_pydevd_bundle.pydevd_save_locals', '_pydevd_bundle.pydevd_defaults', '_pydev_bundle.pydev_monkey', 'pydevd_tracing', '_pydevd_bundle.pydevd_daemon_thread', '_pydevd_bundle.pydevd_timeout', '_pydevd_bundle.pydevd_vars', '_pydev_bundle.pydev_console_utils', '_pydevd_bundle.pydevd_import_class', '_pydevd_bundle.pydevd_breakpoints', '_pydevd_bundle.pydevd_custom_frames', '_pydevd_bundle.pydevd_dont_trace_files', '_pydevd_bundle.pydevd_net_command', '_pydev_bundle.pydev_umd', 'pydevconsole', '_pydev_bundle._pydev_completer', '_pydevd_bundle.pydevd_net_command_factory_xml', '_pydevd_bundle.pydevd_frame', '_pydevd_bundle.pydevd_additional_thread_info_regular', '_pydevd_bundle.pydevd_trace_dispatch', '_pydevd_frame_eval.pydevd_frame_eval_main', '_pydevd_bundle.pydevd_source_mapping', 'pydevd_concurrency_analyser.pydevd_thread_wrappers', 'pydevd_concurrency_analyser.pydevd_concurrency_logger', '_pydevd_bundle._debug_adapter', '_pydevd_bundle._debug_adapter.pydevd_schema_log', '_pydevd_bundle._debug_adapter.pydevd_base_schema', '_pydevd_bundle._debug_adapter.pydevd_schema', '_pydevd_bundle.pydevd_reload', '_pydev_bundle.fsnotify', '_pydevd_bundle.pydevd_console', '_pydevd_bundle.pydevd_comm', '_pydevd_bundle.pydevd_net_command_factory_json', '_pydevd_bundle.pydevd_collect_bytecode_info', '_pydevd_bundle.pydevd_api', '_pydevd_bundle.pydevd_json_debug_options', '_pydevd_bundle.pydevd_process_net_command_json', '_pydevd_bundle.pydevd_traceproperty', '_pydevd_bundle.pydevd_process_net_command', '_pydevd_bundle.pydevd_suspended_frames', '_pydevd_bundle.pydevd_trace_api', 'pydevd_plugins.django_debug', 'pydevd_plugins.jinja2_debug', '_pydevd_bundle.pydevd_plugin_utils', 'pydevd_plugins.extensions.types', 'pydevd_plugins.extensions.types.pydevd_helpers', 'pydevd_plugins.extensions.types.pydevd_plugin_numpy_types', 'pydevd_plugins.extensions.types.pydevd_plugins_django_form_str', 'pydevd', 'debugpy._vendored.force_pydevd', 'debugpy.server', 'debugpy.adapter', 'debugpy.common.timestamp', 'debugpy.common.util', 'debugpy.common.log', 'debugpy.common.sockets', 'debugpy.server.api', 'ipykernel.debugger', 'ipykernel.ipkernel', 'ipykernel.parentpoller', 'ipykernel.kernelapp', 'win32security', 'ntsecuritycon', 'faulthandler', 'IPython.core.completerlib', 'incremental._version', 'incremental', 'twisted._version', 'twisted', 'scrapy.signals', 'w3lib', 'w3lib.http', 'scrapy.utils', 'scrapy.utils.datatypes', 'scrapy.exceptions', 'twisted.internet', 'attr._compat', 'attr._config', 'attr.exceptions', 'attr.setters', 'attr._make', 'attr.converters', 'attr.filters', 'attr.validators', 'attr._cmp', 'attr._funcs', 'attr._version_info', 'attr._next_gen', 'attr', 'typing_extensions', 'zope.interface._compat', 'zope.interface.exceptions', 'zope.interface.ro', 'zope.interface._zope_interface_coptimizations', 'zope.interface.advice', 'zope.interface.declarations', 'zope.interface.interface', 'zope.interface.interfaces', 'zope.interface', 'twisted.python.deprecate', 'twisted.python.versions', 'twisted.python', 'http.cookiejar', 'twisted.python.compat', 'twisted.python.reflect', 'twisted.python.failure', 'twisted.internet.interfaces', 'constantly._constants', 'constantly._version', 'constantly', 'twisted.logger._levels', 'twisted.logger._interfaces', 'twisted.logger._flatten', 'twisted.python._tzhelper', 'twisted.logger._format', 'twisted.logger._buffer', 'twisted.logger._file', 'twisted.logger._observer', 'twisted.logger._filter', 'twisted.logger._io', 'twisted.logger._global', 'twisted.logger._logger', 'twisted.logger._stdlib', 'twisted.logger._legacy', 'twisted.logger._json', 'twisted.logger._capture', 'twisted.logger', 'twisted.python.runtime', 'twisted.python.lockfile', 'twisted.internet.defer', 'twisted.internet.threads', 'scrapy.utils.decorators', 'scrapy.utils.python', 'scrapy.http.headers', 'six.moves.urllib', 'six.moves.urllib.parse', 'six.moves.urllib.request', 'w3lib.util', 'w3lib.url', 'scrapy.http.common', 'http.cookies', 'scrapy.utils.curl', 'scrapy.utils.trackref', 'scrapy.utils.url', 'scrapy.http.request', 'lxml', '_cython_0_29_28', 'lxml._elementpath', 'lxml.etree', 'lxml.html.defs', 'lxml.html._setmixin', 'lxml.html', 'w3lib.html', 'parsel.utils', 'cssselect.parser', 'cssselect.xpath', 'cssselect', 'parsel.csstranslator', 'parsel.selector', 'parsel.xpathfuncs', 'parsel', 'scrapy.link', 'scrapy.http.response', 'w3lib.encoding', 'webbrowser', 'twisted.web', 'cgi', 'twisted.python.util', 'twisted.python.win32', 'twisted.python.filepath', 'twisted.internet.address', 'twisted.internet.error', 'zope.interface.adapter', 'twisted.python.components', 'twisted.python.context', 'twisted.python.threadable', 'twisted.python.log', 'twisted.internet.protocol', 'twisted.internet.main', 'twisted.internet.abstract', 'twisted.internet.fdesc', 'twisted.internet._idna', 'twisted.internet._resolver', 'twisted._threads._ithreads', 'twisted._threads._convenience', 'twisted._threads._memory', 'twisted._threads._team', 'twisted._threads._threadworker', 'twisted._threads._pool', 'twisted._threads', 'twisted.python.threadpool', 'twisted.internet.base', 'twisted.internet.task', 'twisted.internet._producer_helpers', 'twisted.protocols', 'twisted.protocols.basic', 'twisted.protocols.policies', 'twisted.web._responses', 'twisted.web.http_headers', 'twisted.cred', 'twisted.cred.error', 'twisted.cred._digest', 'twisted.python.randbytes', 'twisted.cred.credentials', 'twisted.web.iweb', 'twisted.web.http', 'scrapy.utils.response', 'scrapy.http.response.text', 'scrapy.http.request.form', 'scrapy.http.request.rpc', 'scrapy.utils.deprecate', 'scrapy.http.request.json_request', 'scrapy.http.response.html', 'scrapy.http.response.xml', 'scrapy.http', 'scrapy.item', 'scrapy.utils.misc', 'scrapy.linkextractors.lxmlhtml', 'scrapy.linkextractors', 'cryptography.__about__', 'cryptography', 'cryptography.utils', 'cryptography.hazmat', 'cryptography.hazmat.bindings', 'cryptography.hazmat.bindings._rust', 'cryptography.x509.certificate_transparency', 'cryptography.hazmat.primitives', 'cryptography.exceptions', 'cryptography.hazmat.primitives.hashes', 'cryptography.hazmat.primitives._serialization', 'cryptography.hazmat.primitives.asymmetric', 'cryptography.hazmat.primitives.asymmetric.dh', 'cryptography.hazmat.primitives.asymmetric.utils', 'cryptography.hazmat.primitives.asymmetric.dsa', 'cryptography.hazmat._oid', 'cryptography.hazmat.primitives.asymmetric.ec', 'cryptography.hazmat.primitives.asymmetric.ed25519', 'cryptography.hazmat.primitives.asymmetric.ed448', 'cryptography.hazmat.primitives._asymmetric', 'cryptography.hazmat.primitives.asymmetric.rsa', 'cryptography.hazmat.primitives.asymmetric.x25519', 'cryptography.hazmat.primitives.asymmetric.x448', 'cryptography.hazmat.primitives.asymmetric.types', 'cryptography.hazmat.primitives.serialization.base', 'cryptography.hazmat.primitives._cipheralgorithm', 'cryptography.hazmat.primitives.ciphers.modes', 'cryptography.hazmat.primitives.ciphers.base', 'cryptography.hazmat.primitives.ciphers', 'cryptography.hazmat.primitives.ciphers.algorithms', 'cryptography.hazmat.primitives.serialization.ssh', 'cryptography.hazmat.primitives.serialization', 'ipaddress', 'cryptography.hazmat.primitives.constant_time', 'cryptography.x509.oid', 'cryptography.x509.name', 'cryptography.x509.general_name', 'cryptography.x509.extensions', 'cryptography.x509.base', 'cryptography.x509', 'cryptography.hazmat.bindings.openssl', '_cffi_backend', '_openssl.lib', '_openssl', 'cryptography.hazmat.bindings._openssl', 'cryptography.hazmat.bindings.openssl._conditional', 'cryptography.hazmat.bindings.openssl.binding', 'OpenSSL._util', 'OpenSSL.crypto', 'OpenSSL.SSL', 'OpenSSL.version', 'OpenSSL', 'pyasn1', 'pyasn1.codec', 'pyasn1.codec.der', 'pyasn1.codec.cer', 'pyasn1.error', 'pyasn1.codec.ber', 'pyasn1.compat', 'pyasn1.compat.octets', 'pyasn1.debug', 'pyasn1.type', 'pyasn1.compat.calling', 'pyasn1.type.error', 'pyasn1.type.constraint', 'pyasn1.type.tag', 'pyasn1.type.tagmap', 'pyasn1.type.base', 'pyasn1.codec.ber.eoo', 'pyasn1.compat.integer', 'pyasn1.compat.binary', 'pyasn1.type.namedtype', 'pyasn1.type.namedval', 'pyasn1.type.univ', 'pyasn1.type.char', 'pyasn1.compat.dateandtime', 'pyasn1.compat.string', 'pyasn1.type.useful', 'pyasn1.codec.ber.decoder', 'pyasn1.codec.cer.decoder', 'pyasn1.codec.der.decoder', 'service_identity._compat', 'service_identity.exceptions', 'idna.package_data', 'idna.idnadata', 'idna.intranges', 'idna.core', 'idna', 'service_identity._common', 'service_identity.cryptography', 'pyasn1_modules', 'pyasn1.type.opentype', 'pyasn1_modules.rfc2459', 'service_identity.pyopenssl', 'service_identity', 'twisted.internet._sslverify', 'twisted.protocols.tls', 'twisted.internet._newtls', 'twisted.internet.tcp', 'twisted.internet.udp', 'twisted.internet.ssl', 'win32process', 'twisted.internet.posixbase', 'twisted.internet.asyncioreactor', 'scrapy.utils.reactor', 'scrapy.utils.defer', 'scrapy.utils.asyncgen', 'scrapy.utils.spider', 'scrapy.spiders.crawl', '_csv', 'csv', 'scrapy.selector.unified', 'scrapy.selector', 'scrapy.utils.iterators', 'scrapy.spiders.feed', 'scrapy.utils.sitemap', 'scrapy.utils.gz', 'scrapy.spiders.sitemap', 'scrapy.spiders', 'scrapy', 'zope.interface.verify', 'scrapy.core', 'itemadapter.utils', 'itemadapter.adapter', 'itemadapter', 'scrapy.settings.default_settings', 'scrapy.settings', 'scrapy.middleware', 'scrapy.utils.conf', 'scrapy.core.spidermw', 'logging.config', 'scrapy.utils.ssl', 'scrapy.utils.versions', 'scrapy.utils.log', 'scrapy.core.scraper', 'scrapy.core.engine', 'scrapy.extension', 'scrapy.interfaces', 'pydispatch', 'pydispatch.saferef', 'pydispatch.robustapply', 'pydispatch.errors', 'pydispatch.dispatcher', 'scrapy.utils.signal', 'scrapy.signalmanager', 'scrapy.utils.ossignal', 'scrapy.crawler', 'scrapy.spiderloader', 'scrapy.statscollectors', 'scrapy.utils.httpobj', 'scrapy.utils.request', 'scrapy.logformatter', 'win32file', 'win32gui', 'win32event', 'twisted.internet.win32eventreactor', 'twisted.internet.selectreactor', 'twisted.internet.default', 'twisted.internet.reactor', 'scrapy.extensions', 'scrapy.extensions.corestats', 'twisted.conch', 'twisted.conch.insults', 'twisted.conch.insults.insults', 'twisted.python._textattributes', 'twisted.conch.insults.helper', 'twisted.conch.recvline', 'twisted.python.htmlizer', 'twisted.conch.manhole', 'twisted.conch.telnet', 'scrapy.utils.engine', 'scrapy.extensions.telnet', 'email.mime', 'email._header_value_parser', 'email.headerregistry', 'email.contentmanager', 'email.policy', 'email.mime.base', 'email.mime.multipart', 'email.mime.nonmultipart', 'email.mime.text', 'scrapy.mail', 'scrapy.extensions.memusage', 'scrapy.extensions.memdebug', 'scrapy.extensions.closespider', 'scrapy.extensions.postprocessing', 'scrapy.utils.boto', 'ftplib', 'scrapy.utils.ftp', 'scrapy.extensions.feedexport', 'xml.sax.handler', 'xml.sax._exceptions', 'xml.sax.xmlreader', 'xml.sax', 'xml.sax.saxutils', 'scrapy.utils.serialize', 'scrapy.exporters', 'scrapy.extensions.logstats', 'scrapy.utils.job', 'scrapy.extensions.spiderstate', 'scrapy.extensions.throttle', 'scrapy.core.scheduler', 'scrapy.resolver', 'scrapy.core.downloader.middleware', 'scrapy.core.downloader.handlers', 'scrapy.core.downloader', 'scrapy.responsetypes', 'scrapy.core.downloader.handlers.datauri', 'scrapy.core.downloader.handlers.file', 'scrapy.core.downloader.handlers.http10', 'win32pipe', 'twisted.internet._pollingfile', 'twisted.internet._win32stdio', 'twisted.internet.stdio', 'twisted.python.zippath', 'twisted.python.modules', 'twisted.plugin', 'twisted.python.systemd', 'twisted.internet.endpoints', 'twisted.web.error', 'twisted.web._newclient', 'twisted.web.client', 'scrapy.core.downloader.tls', 'scrapy.core.downloader.contextfactory', 'scrapy.core.downloader.webclient', 'scrapy.core.downloader.handlers.http11', 'scrapy.core.downloader.handlers.http', 'scrapy.core.downloader.handlers.s3', 'twisted.copyright', 'twisted.cred.checkers', 'twisted.cred.portal', 'twisted.protocols.ftp', 'scrapy.core.downloader.handlers.ftp', 'scrapy.downloadermiddlewares', 'scrapy.downloadermiddlewares.robotstxt', 'scrapy.downloadermiddlewares.httpauth', 'scrapy.downloadermiddlewares.downloadtimeout', 'scrapy.downloadermiddlewares.defaultheaders', 'scrapy.downloadermiddlewares.useragent', 'scrapy.downloadermiddlewares.retry', 'scrapy.downloadermiddlewares.ajaxcrawl', 'scrapy.downloadermiddlewares.redirect', 'scrapy.downloadermiddlewares.httpcompression', 'tldextract._version', 'filelock._error', 'filelock._api', 'filelock._util', 'filelock._soft', 'filelock._unix', 'filelock._windows', 'filelock.version', 'filelock', 'tldextract.cache', 'tldextract.remote', 'urllib3.packages', 'urllib3.packages.six', 'urllib3.packages.six.moves', 'urllib3.packages.six.moves.http_client', 'urllib3.exceptions', 'urllib3._version', 'urllib3.contrib', 'urllib3.contrib._appengine_environ', 'urllib3.util.wait', 'urllib3.util.connection', 'urllib3.util.request', 'urllib3.util.response', 'urllib3.util.retry', 'urllib3.util.url', 'urllib3.util.ssltransport', 'urllib3.util.ssl_', 'urllib3.util.timeout', 'urllib3.util', 'urllib3.util.proxy', 'urllib3._collections', 'urllib3.util.ssl_match_hostname', 'urllib3.connection', 'urllib3.fields', 'urllib3.filepost', 'urllib3.packages.six.moves.urllib', 'urllib3.packages.six.moves.urllib.parse', 'urllib3.request', 'urllib3.response', 'urllib3.util.queue', 'urllib3.connectionpool', 'urllib3.poolmanager', 'urllib3', 'charset_normalizer.assets', 'charset_normalizer.constant', '_multibytecodec', 'charset_normalizer.utils', 'charset_normalizer.md', 'charset_normalizer.models', 'charset_normalizer.cd', 'charset_normalizer.api', 'charset_normalizer.legacy', 'charset_normalizer.version', 'charset_normalizer', 'requests.compat', 'requests.exceptions', 'requests.__version__', 'importlib.resources', 'certifi.core', 'certifi', 'requests.certs', 'requests._internal_utils', 'requests.cookies', 'requests.structures', 'requests.utils', 'requests.packages.urllib3.packages', 'requests.packages.urllib3.packages.six', 'requests.packages.urllib3.packages.six.moves', 'requests.packages.urllib3.packages.six.moves.http_client', 'requests.packages.urllib3.exceptions', 'requests.packages.urllib3._version', 'requests.packages.urllib3.contrib', 'requests.packages.urllib3.contrib._appengine_environ', 'requests.packages.urllib3.util.wait', 'requests.packages.urllib3.util.connection', 'requests.packages.urllib3.util.request', 'requests.packages.urllib3.util.response', 'requests.packages.urllib3.util.retry', 'requests.packages.urllib3.util.url', 'requests.packages.urllib3.util.ssltransport', 'requests.packages.urllib3.util.ssl_', 'requests.packages.urllib3.util.timeout', 'requests.packages.urllib3.util', 'requests.packages.urllib3.util.proxy', 'requests.packages.urllib3._collections', 'requests.packages.urllib3.util.ssl_match_hostname', 'requests.packages.urllib3.connection', 'requests.packages.urllib3.fields', 'requests.packages.urllib3.filepost', 'requests.packages.urllib3.packages.six.moves.urllib', 'requests.packages.urllib3.packages.six.moves.urllib.parse', 'requests.packages.urllib3.request', 'requests.packages.urllib3.response', 'requests.packages.urllib3.util.queue', 'requests.packages.urllib3.connectionpool', 'requests.packages.urllib3.poolmanager', 'requests.packages.urllib3', 'requests.packages.idna.package_data', 'requests.packages.idna.idnadata', 'requests.packages.idna.intranges', 'requests.packages.idna.core', 'requests.packages.idna', 'requests.packages.chardet', 'requests.packages', 'requests.hooks', 'requests.auth', 'requests.status_codes', 'requests.models', 'socks', 'urllib3.contrib.socks', 'requests.adapters', 'requests.sessions', 'requests.api', 'requests', 'requests_file', 'tldextract.suffix_list', 'tldextract.tldextract', 'tldextract', 'scrapy.http.cookies', 'scrapy.downloadermiddlewares.cookies', 'scrapy.downloadermiddlewares.httpproxy', 'scrapy.downloadermiddlewares.stats', 'scrapy.downloadermiddlewares.httpcache', 'scrapy.spidermiddlewares', 'scrapy.spidermiddlewares.httperror', 'scrapy.spidermiddlewares.offsite', 'scrapy.spidermiddlewares.referer', 'scrapy.spidermiddlewares.urllength', 'scrapy.spidermiddlewares.depth', 'scrapy.pipelines', 'scrapy.dupefilters', 'queuelib.queue', 'queuelib.pqueue', 'queuelib.rrqueue', 'queuelib', 'scrapy.squeues', 'scrapy.pqueues', 'encodings.charmap', 'numpy._globals', 'numpy.__config__', 'numpy.version', 'numpy._distributor_init', 'numpy.core._multiarray_umath', 'numpy.compat._inspect', 'numpy.compat.py3k', 'numpy.compat', 'numpy.core.overrides', 'numpy.core.multiarray', 'numpy.core.umath', 'numpy.core._string_helpers', 'numpy.core._dtype', 'numpy.core._type_aliases', 'numpy.core.numerictypes', 'numpy.core._asarray', 'numpy.core._exceptions', 'numpy.core._methods', 'numpy.core.fromnumeric', 'numpy.core.shape_base', 'numpy.core._ufunc_config', 'numpy.core.arrayprint', 'numpy.core.numeric', 'numpy.core.defchararray', 'numpy.core.records', 'numpy.core.memmap', 'numpy.core.function_base', 'numpy.core.machar', 'numpy.core.getlimits', 'numpy.core.einsumfunc', 'numpy.core._multiarray_tests', 'numpy.core._add_newdocs', 'numpy.core._dtype_ctypes', 'numpy.core._internal', 'numpy._pytesttester', 'numpy.core', 'numpy.lib.mixins', 'numpy.lib.ufunclike', 'numpy.lib.type_check', 'numpy.lib.scimath', 'numpy.lib.twodim_base', 'numpy.linalg.lapack_lite', 'numpy.linalg._umath_linalg', 'numpy.linalg.linalg', 'numpy.linalg', 'numpy.matrixlib.defmatrix', 'numpy.matrixlib', 'numpy.lib.histograms', 'numpy.lib.function_base', 'numpy.lib.stride_tricks', 'numpy.lib.index_tricks', 'numpy.lib.nanfunctions', 'numpy.lib.shape_base', 'numpy.lib.polynomial', 'numpy.lib.utils', 'numpy.lib.arraysetops', 'numpy.lib.format', 'numpy.lib._datasource', 'numpy.lib._iotools', 'numpy.lib.npyio', 'numpy.lib.financial', 'numpy.lib.arrayterator', 'numpy.lib.arraypad', 'numpy.lib._version', 'numpy.lib', 'numpy.fft._pocketfft_internal', 'numpy.fft._pocketfft', 'numpy.fft.helper', 'numpy.fft', 'numpy.polynomial.polyutils', 'numpy.polynomial._polybase', 'numpy.polynomial.polynomial', 'numpy.polynomial.chebyshev', 'numpy.polynomial.legendre', 'numpy.polynomial.hermite', 'numpy.polynomial.hermite_e', 'numpy.polynomial.laguerre', 'numpy.polynomial', '_cython_0_29_21', 'numpy.random._common', 'secrets', 'numpy.random.bit_generator', 'numpy.random._bounded_integers', 'numpy.random._mt19937', 'numpy.random.mtrand', 'numpy.random._philox', 'numpy.random._pcg64', 'numpy.random._sfc64', 'numpy.random._generator', 'numpy.random._pickle', 'numpy.random', 'numpy.ctypeslib', 'numpy.ma.core', 'numpy.ma.extras', 'numpy.ma', 'numpy', 'pytz.exceptions', 'pytz.lazy', 'pytz.tzinfo', 'pytz.tzfile', 'pytz', 'mmap', 'pandas._typing', 'pandas.compat', 'pandas.compat.numpy', 'pandas._libs.tslibs.dtypes', 'pandas._libs.tslibs.base', 'pandas._libs.tslibs.np_datetime', 'pandas._libs.tslibs.nattype', 'pandas._libs.tslibs.timezones', 'pandas._libs.tslibs.ccalendar', 'pandas._libs.tslibs.tzconversion', 'pandas._libs.tslibs.timedeltas', 'pandas._config.config', 'pandas._config.dates', 'pandas._config.display', 'pandas._config', 'pandas._config.localization', 'pandas._libs.tslibs.strptime', 'pandas._libs.tslibs.fields', 'pandas._libs.tslibs.timestamps', 'dateutil.easter', 'pandas._libs.properties', 'pandas._libs.tslibs.offsets', 'pandas._libs.tslibs.parsing', 'pandas._libs.tslibs.conversion', 'pandas._libs.tslibs.period', 'pandas._libs.tslibs.vectorized', 'pandas._libs.tslibs', 'pandas._libs.ops_dispatch', 'pandas._libs.missing', 'pandas._libs.hashtable', 'pandas._libs.algos', 'pandas._libs.interval', 'pandas._libs', 'pandas._libs.tslib', 'pandas._libs.lib', 'pandas.core', 'pandas.core.config_init', 'pandas.core.dtypes', 'pandas.errors', 'pandas.core.dtypes.generic', 'pandas.core.dtypes.base', 'pandas.core.dtypes.inference', 'pandas.core.dtypes.dtypes', 'pandas.core.dtypes.common', 'pandas.core.dtypes.missing', 'pandas.util._decorators', 'pandas.core.util', 'pandas._libs.hashing', 'pandas.core.util.hashing', 'pandas.util', 'pandas.util._validators', 'pandas.core.dtypes.cast', 'pandas.core.common', 'pandas.core.construction', 'pandas.core.indexers', 'pandas.core.algorithms', 'pandas.compat.numpy.function', 'pandas._libs.ops', 'pandas.core.ops.roperator', 'pandas.core.ops.missing', 'pandas.core.ops.dispatch', 'pandas.core.ops.invalid', 'pandas.core.ops.array_ops', 'pandas.core.ops.common', 'pandas.core.ops.docstrings', 'pandas.core.ops.mask_ops', 'pandas.core.ops.methods', 'pandas.core.ops', 'pandas.compat._optional', 'pandas.core.missing', 'pandas.core.sorting', 'pandas.core.arrays.base', 'pandas.core.nanops', 'pandas.core.array_algos', 'pandas.core.array_algos.masked_reductions', 'pandas.core.arraylike', 'pandas.core.arrays.masked', 'pandas.core.arrays.boolean', 'pandas.core.accessor', 'pandas.core.array_algos.transforms', 'pandas.core.arrays._mixins', 'pandas.core.base', 'pandas.core.strings.accessor', 'pandas.core.strings.base', 'pandas.core.strings', 'pandas.core.strings.object_array', 'pandas.io', 'pandas.io.formats', 'pandas.io.formats.console', 'pandas.core.arrays.categorical', 'pandas.tseries', 'pandas.tseries.frequencies', 'pandas.core.arrays.datetimelike', 'pandas.core.arrays._ranges', 'pandas.tseries.offsets', 'pandas.core.arrays.datetimes', 'pandas.core.tools', 'pandas.core.tools.numeric', 'pandas.core.arrays.numeric', 'pandas.core.arrays.floating', 'pandas.core.arrays.integer', 'pandas.core.indexes', 'pandas._libs.index', 'pandas._libs.join', 'pandas._libs.sparse', 'pandas.core.arrays.sparse.dtype', 'pandas.io.formats.printing', 'pandas.core.arrays.sparse.array', 'pandas.core.arrays.sparse.accessor', 'pandas.core.arrays.sparse', 'pandas.core.dtypes.concat', 'pandas.core.indexes.frozen', 'pandas.core.indexes.base', 'pandas.core.arrays.interval', 'pandas.core.arrays.numpy_', 'pandas.core.arrays.period', 'pandas.core.arrays.string_', 'pandas.core.arrays.timedeltas', 'pandas.core.arrays', 'pandas.core.flags', 'pandas._libs.reduction', 'pandas.core.indexes.extension', 'pandas.core.indexes.category', 'pandas.core.indexes.numeric', 'pandas.core.tools.timedeltas', 'pandas.core.indexes.datetimelike', 'pandas.core.tools.times', 'pandas.core.indexes.datetimes', 'pandas.util._exceptions', 'pandas.core.indexes.multi', 'pandas.core.indexes.timedeltas', 'pandas.core.indexes.interval', 'pandas.core.indexes.period', 'pandas.core.indexes.range', 'pandas.core.indexes.api', 'pandas.core.aggregation', 'pandas._libs.indexing', 'pandas.core.indexing', 'pandas._libs.internals', 'pandas._libs.writers', 'pandas.core.array_algos.replace', 'pandas.core.internals.blocks', 'pandas.core.internals.ops', 'pandas.core.internals.managers', 'pandas.core.internals.concat', 'pandas.core.internals', 'pandas.core.shared_docs', 'pandas._libs.window', 'pandas._libs.window.aggregations', 'pandas.core.util.numba_', 'pandas.core.window.common', 'pandas._libs.window.indexers', 'pandas.core.window.indexers', 'pandas.core.window.numba_', 'pandas.core.groupby.base', 'pandas.core.window.rolling', 'pandas.core.window.ewm', 'pandas.core.window.expanding', 'pandas.core.window', 'pandas.core.reshape', 'pandas.core.reshape.concat', 'dataclasses', 'pandas.io.common', 'pandas.io.formats.format', 'pandas.core.generic', 'pandas.core.internals.construction', 'pandas.core.reshape.util', 'pandas.core.reshape.melt', 'pandas._libs.reshape', 'pandas.core.indexes.accessors', 'pandas.arrays', 'pandas.core.tools.datetimes', 'pandas.plotting._core', 'pandas.plotting._misc', 'pandas.plotting', 'pandas.core.series', 'pandas.io.formats.info', 'pandas.core.frame', 'pandas._libs.groupby', 'pandas.core.groupby.numba_', 'pandas.core.groupby.categorical', 'pandas.core.groupby.grouper', 'pandas.core.groupby.ops', 'pandas.core.groupby.groupby', 'pandas.core.groupby.generic', 'pandas.core.groupby', 'pandas.core.api', 'pandas.tseries.api', 'pandas.core.computation', 'pandas.core.computation.common', 'pandas.core.computation.align', 'pandas.compat.chainmap', 'pandas.core.computation.scope', 'pandas.core.computation.ops', 'pandas.core.computation.engines', 'pandas.core.computation.parsing', 'pandas.core.computation.expr', 'pandas.core.computation.eval', 'pandas.core.computation.api', 'pandas.core.reshape.merge', 'pandas.core.reshape.pivot', 'pandas.core.reshape.reshape', 'pandas.core.reshape.tile', 'pandas.core.reshape.api', 'pandas.api.extensions', 'pandas.api.indexers', 'pandas.core.dtypes.api', 'pandas.api.types', 'pandas.api', 'pandas.util._print_versions', 'pandas.io.clipboards', 'pandas._libs.parsers', 'pandas.io.excel._util', 'pandas.io.date_converters', 'pandas.io.parsers', 'pandas.io.excel._odfreader', 'pandas.io.excel._openpyxl', 'pandas.io.excel._pyxlsb', 'pandas.io.excel._xlrd', 'pandas.io.excel._base', 'pandas._libs.json', 'pandas.io.formats._color_data', 'pandas.io.formats.css', 'pandas.io.formats.excel', 'pandas.io.excel._odswriter', 'pandas.io.excel._xlsxwriter', 'pandas.io.excel._xlwt', 'pandas.io.excel', 'pandas.io.feather_format', 'pandas.io.gbq', 'pandas.io.html', 'pandas.io.json._normalize', 'pandas.io.json._table_schema', 'pandas.io.json._json', 'pandas.io.json', 'pandas.io.orc', 'pandas.io.parquet', 'pandas.compat.pickle_compat', 'pandas.io.pickle', 'pandas.core.computation.pytables', 'pandas.io.pytables', 'pandas.io.sas.sasreader', 'pandas.io.sas', 'pandas.io.spss', 'pandas.io.sql', 'pandas.io.stata', 'pandas.io.api', 'pandas.util._tester', 'cmath', 'pandas._libs.testing', 'pandas._testing', 'pandas.testing', 'pandas._version', 'pandas', 'matplotlib', 'matplotlib._api.deprecation', 'matplotlib._api', 'matplotlib._c_internal_utils', 'matplotlib.cbook', 'matplotlib.docstring', 'PIL._version', 'PIL', 'defusedxml.common', 'defusedxml', 'xml.etree', 'xml.etree.ElementPath', '_elementtree', 'xml.etree.ElementTree', 'defusedxml.ElementTree', 'PIL.ImageMode', 'PIL.TiffTags', 'PIL._binary', 'PIL._util', 'PIL._imaging', 'cffi.lock', 'cffi.error', 'cffi.model', 'cffi.api', 'cffi', 'PIL.Image', 'matplotlib._animation_data', 'matplotlib.animation', 'PIL.ImageChops', 'PIL.ImageFile', 'PIL.GimpGradientFile', 'PIL.GimpPaletteFile', 'PIL.ImageColor', 'PIL.PaletteFile', 'PIL.ImagePalette', 'PIL.ImageSequence', 'PIL.PngImagePlugin', 'matplotlib._path', 'matplotlib.bezier', 'matplotlib.path', 'matplotlib.transforms', 'matplotlib.ticker', 'matplotlib.scale', 'matplotlib._color_data', 'matplotlib.colors', 'pyparsing', 'matplotlib.fontconfig_pattern', 'matplotlib._enums', 'cycler', 'matplotlib.rcsetup', 'matplotlib._version', 'matplotlib.ft2font', 'kiwisolver', 'dateutil.rrule', 'matplotlib.units', 'matplotlib.dates']\n"
     ]
    },
    {
     "name": "stderr",
     "output_type": "stream",
     "text": [
      "2022-06-16 01:33:25 [matplotlib] DEBUG: CACHEDIR=C:\\Users\\ASUS\\.matplotlib\n"
     ]
    },
    {
     "name": "stderr",
     "output_type": "stream",
     "text": [
      "2022-06-16 01:33:25 [matplotlib.font_manager] DEBUG: Using fontManager instance from C:\\Users\\ASUS\\.matplotlib\\fontlist-v330.json\n"
     ]
    },
    {
     "name": "stderr",
     "output_type": "stream",
     "text": [
      "2022-06-16 01:33:26 [matplotlib.pyplot] DEBUG: Loaded backend module://matplotlib_inline.backend_inline version unknown.\n"
     ]
    },
    {
     "name": "stderr",
     "output_type": "stream",
     "text": [
      "2022-06-16 01:33:26 [matplotlib.pyplot] DEBUG: Loaded backend module://matplotlib_inline.backend_inline version unknown.\n"
     ]
    }
   ],
   "source": [
    "# data visualisation and manipulation\n",
    "import numpy as np\n",
    "import pandas as pd\n",
    "import matplotlib.pyplot as plt\n",
    "from matplotlib import style\n",
    "import seaborn as sns"
   ]
  },
  {
   "cell_type": "markdown",
   "metadata": {
    "id": "cp_PXACj8SzE"
   },
   "source": [
    "Melakukan Konfigurasi\n",
    "\n",
    "set matplotlib ke inline dan menampilkan grafik di bawah sel yang sesuai."
   ]
  },
  {
   "cell_type": "code",
   "execution_count": 5,
   "metadata": {
    "id": "1Xhe0ayJxHaK"
   },
   "outputs": [
    {
     "name": "stderr",
     "output_type": "stream",
     "text": [
      "2022-06-16 01:33:30 [matplotlib.pyplot] DEBUG: Loaded backend module://matplotlib_inline.backend_inline version unknown.\n"
     ]
    }
   ],
   "source": [
    "#configure\n",
    "# sets matplotlib to inline and displays graphs below the corressponding cell.\n",
    "%matplotlib inline  \n",
    "style.use('fivethirtyeight')\n",
    "sns.set(style='whitegrid',color_codes=True)"
   ]
  },
  {
   "cell_type": "markdown",
   "metadata": {},
   "source": [
    "# Persiapan Preprocessing"
   ]
  },
  {
   "cell_type": "markdown",
   "metadata": {
    "id": "vA9S_sxECEP-"
   },
   "source": [
    "Preprocessing Data merupakan tahapan dalam melakukan mining data. Data Preprocessing atau praproses data biasanya dilakukan melalui cara eliminasi data yang tidak sesuai.\n",
    "\n",
    "- Stopwords di nltk adalah kata yang paling umum dalam data. Itu adalah kata-kata yang tidak ingin digunakan untuk menggambarkan topik data dan telah ditentukan sebelumnya juga tidak dapat dihapus.\n",
    "\n",
    "- Tokenization pada dasarnya mengacu pada pemisahan teks yang lebih besar menjadi baris yang lebih kecil, kata-kata atau bahkan membuat kata-kata untuk bahasa non-Inggris. "
   ]
  },
  {
   "cell_type": "code",
   "execution_count": 6,
   "metadata": {
    "id": "8RP8VZUl17nC"
   },
   "outputs": [],
   "source": [
    "#preprocessing\n",
    "from nltk.corpus import stopwords  #stopwords\n",
    "from nltk import word_tokenize,sent_tokenize # tokenizing\n",
    "from nltk.stem import PorterStemmer,LancasterStemmer  # using the Porter Stemmer and Lancaster Stemmer and others\n",
    "from nltk.stem.snowball import SnowballStemmer\n",
    "from nltk.stem import WordNetLemmatizer  # lammatizer from WordNet"
   ]
  },
  {
   "cell_type": "code",
   "execution_count": 7,
   "metadata": {
    "id": "OZqYQHr13TSN"
   },
   "outputs": [],
   "source": [
    "# for named entity recognition (NER)\n",
    "from nltk import ne_chunk"
   ]
  },
  {
   "cell_type": "code",
   "execution_count": 8,
   "metadata": {
    "id": "nCEP-VWC3n9u"
   },
   "outputs": [],
   "source": [
    "# vectorizers for creating the document-term-matrix (DTM)\n",
    "from sklearn.feature_extraction.text import TfidfVectorizer,CountVectorizer"
   ]
  },
  {
   "cell_type": "markdown",
   "metadata": {
    "id": "Fm26tb5lbds2"
   },
   "source": [
    "Melakukan instalasi nltk. Nltk (toolkit bahasa alami) adalah salah satu library python suite yang berisi program yang digunakan untuk melakukan pemrosesan bahasa statistik. "
   ]
  },
  {
   "cell_type": "code",
   "execution_count": 9,
   "metadata": {
    "colab": {
     "base_uri": "https://localhost:8080/"
    },
    "id": "u9_gg2IN4EfI",
    "outputId": "b81998d6-15ed-4126-bb15-207e03fc1a08"
   },
   "outputs": [
    {
     "name": "stdout",
     "output_type": "stream",
     "text": [
      "Requirement already satisfied: nltk in c:\\users\\asus\\appdata\\local\\programs\\python\\python38-32\\lib\\site-packages (3.7)"
     ]
    },
    {
     "name": "stderr",
     "output_type": "stream",
     "text": [
      "WARNING: Ignoring invalid distribution -ip (c:\\users\\asus\\appdata\\local\\programs\\python\\python38-32\\lib\\site-packages)\n",
      "WARNING: Ignoring invalid distribution -ip (c:\\users\\asus\\appdata\\local\\programs\\python\\python38-32\\lib\\site-packages)\n",
      "WARNING: Ignoring invalid distribution -ip (c:\\users\\asus\\appdata\\local\\programs\\python\\python38-32\\lib\\site-packages)\n",
      "WARNING: Ignoring invalid distribution -ip (c:\\users\\asus\\appdata\\local\\programs\\python\\python38-32\\lib\\site-packages)\n",
      "WARNING: Ignoring invalid distribution -ip (c:\\users\\asus\\appdata\\local\\programs\\python\\python38-32\\lib\\site-packages)\n",
      "WARNING: Ignoring invalid distribution -ip (c:\\users\\asus\\appdata\\local\\programs\\python\\python38-32\\lib\\site-packages)\n"
     ]
    },
    {
     "name": "stdout",
     "output_type": "stream",
     "text": [
      "\n",
      "Requirement already satisfied: regex>=2021.8.3 in c:\\users\\asus\\appdata\\local\\programs\\python\\python38-32\\lib\\site-packages (from nltk) (2022.3.15)\n",
      "Requirement already satisfied: click in c:\\users\\asus\\appdata\\local\\programs\\python\\python38-32\\lib\\site-packages (from nltk) (7.1.2)\n",
      "Requirement already satisfied: tqdm in c:\\users\\asus\\appdata\\local\\programs\\python\\python38-32\\lib\\site-packages (from nltk) (4.63.1)\n",
      "Requirement already satisfied: joblib in c:\\users\\asus\\appdata\\local\\programs\\python\\python38-32\\lib\\site-packages (from nltk) (1.1.0)\n",
      "Requirement already satisfied: colorama in c:\\users\\asus\\appdata\\roaming\\python\\python38\\site-packages (from tqdm->nltk) (0.4.3)\n"
     ]
    }
   ],
   "source": [
    "!pip install nltk"
   ]
  },
  {
   "cell_type": "code",
   "execution_count": 10,
   "metadata": {
    "colab": {
     "base_uri": "https://localhost:8080/"
    },
    "id": "1A0BXhJ94JwW",
    "outputId": "585056c5-5f76-47d3-9c8f-c93100d2e2ff"
   },
   "outputs": [
    {
     "name": "stderr",
     "output_type": "stream",
     "text": [
      "[nltk_data] Downloading package stopwords to\n",
      "[nltk_data]     C:\\Users\\ASUS\\AppData\\Roaming\\nltk_data...\n",
      "[nltk_data]   Package stopwords is already up-to-date!\n"
     ]
    },
    {
     "data": {
      "text/plain": [
       "True"
      ]
     },
     "execution_count": 10,
     "metadata": {},
     "output_type": "execute_result"
    }
   ],
   "source": [
    "import nltk\n",
    "nltk.download('stopwords')"
   ]
  },
  {
   "cell_type": "code",
   "execution_count": 11,
   "metadata": {
    "id": "eECfQB0U3unM"
   },
   "outputs": [],
   "source": [
    "#stop-words\n",
    "stop_words=set(nltk.corpus.stopwords.words('english'))"
   ]
  },
  {
   "cell_type": "markdown",
   "metadata": {
    "id": "2q3Cj25U4dF0"
   },
   "source": [
    "# Menampilkan Dataset"
   ]
  },
  {
   "cell_type": "markdown",
   "metadata": {
    "id": "o4XGx-FOXsvi"
   },
   "source": [
    "Disini dilakukan proses untuk menampilkan data yang bernama crawlingweb.csv"
   ]
  },
  {
   "cell_type": "code",
   "execution_count": 12,
   "metadata": {
    "id": "DxYgANNr4lOq"
   },
   "outputs": [],
   "source": [
    "df=pd.read_csv(r'crawlingweb.csv')"
   ]
  },
  {
   "cell_type": "code",
   "execution_count": 13,
   "metadata": {
    "colab": {
     "base_uri": "https://localhost:8080/",
     "height": 206
    },
    "id": "u_thbWXF5Nb4",
    "outputId": "d67b2202-e100-48a2-bf89-24b34b3a9680"
   },
   "outputs": [
    {
     "data": {
      "text/html": [
       "<div>\n",
       "<style scoped>\n",
       "    .dataframe tbody tr th:only-of-type {\n",
       "        vertical-align: middle;\n",
       "    }\n",
       "\n",
       "    .dataframe tbody tr th {\n",
       "        vertical-align: top;\n",
       "    }\n",
       "\n",
       "    .dataframe thead th {\n",
       "        text-align: right;\n",
       "    }\n",
       "</style>\n",
       "<table border=\"1\" class=\"dataframe\">\n",
       "  <thead>\n",
       "    <tr style=\"text-align: right;\">\n",
       "      <th></th>\n",
       "      <th>judul</th>\n",
       "      <th>waktu</th>\n",
       "      <th>kategori</th>\n",
       "      <th>deskripsi</th>\n",
       "    </tr>\n",
       "  </thead>\n",
       "  <tbody>\n",
       "    <tr>\n",
       "      <th>0</th>\n",
       "      <td>Tantangan Pendidikan Dasar Makin Kompleks, But...</td>\n",
       "      <td>Rabu, 15 Juni 2022 - 22:52 WIB</td>\n",
       "      <td>Kampus</td>\n",
       "      <td>Pendidikan dasar di masa datang akan menghadap...</td>\n",
       "    </tr>\n",
       "    <tr>\n",
       "      <th>1</th>\n",
       "      <td>NaN</td>\n",
       "      <td>NaN</td>\n",
       "      <td>NaN</td>\n",
       "      <td>NaN</td>\n",
       "    </tr>\n",
       "    <tr>\n",
       "      <th>2</th>\n",
       "      <td>Tantangan Pendidikan Dasar Makin Kompleks, But...</td>\n",
       "      <td>Rabu, 15 Juni 2022 - 22:52 WIB</td>\n",
       "      <td>Kampus</td>\n",
       "      <td>Pendidikan dasar di masa datang akan menghadap...</td>\n",
       "    </tr>\n",
       "    <tr>\n",
       "      <th>3</th>\n",
       "      <td>Perjuangan Riska, Anak TKI yang Lolos Beasiswa...</td>\n",
       "      <td>Rabu, 15 Juni 2022 - 22:07 WIB</td>\n",
       "      <td>Beasiswa</td>\n",
       "      <td>Riska, anak dari seorang Pekerja Imigran Indon...</td>\n",
       "    </tr>\n",
       "    <tr>\n",
       "      <th>4</th>\n",
       "      <td>Ini 6 Kampus dengan Fakultas Kedokteran Terbai...</td>\n",
       "      <td>Rabu, 15 Juni 2022 - 20:06 WIB</td>\n",
       "      <td>Kampus</td>\n",
       "      <td>Sedikitnya ada enam kampus kedokteran terbaik ...</td>\n",
       "    </tr>\n",
       "  </tbody>\n",
       "</table>\n",
       "</div>"
      ],
      "text/plain": [
       "                                               judul  \\\n",
       "0  Tantangan Pendidikan Dasar Makin Kompleks, But...   \n",
       "1                                                NaN   \n",
       "2  Tantangan Pendidikan Dasar Makin Kompleks, But...   \n",
       "3  Perjuangan Riska, Anak TKI yang Lolos Beasiswa...   \n",
       "4  Ini 6 Kampus dengan Fakultas Kedokteran Terbai...   \n",
       "\n",
       "                            waktu  kategori  \\\n",
       "0  Rabu, 15 Juni 2022 - 22:52 WIB    Kampus   \n",
       "1                             NaN       NaN   \n",
       "2  Rabu, 15 Juni 2022 - 22:52 WIB    Kampus   \n",
       "3  Rabu, 15 Juni 2022 - 22:07 WIB  Beasiswa   \n",
       "4  Rabu, 15 Juni 2022 - 20:06 WIB    Kampus   \n",
       "\n",
       "                                           deskripsi  \n",
       "0  Pendidikan dasar di masa datang akan menghadap...  \n",
       "1                                                NaN  \n",
       "2  Pendidikan dasar di masa datang akan menghadap...  \n",
       "3  Riska, anak dari seorang Pekerja Imigran Indon...  \n",
       "4  Sedikitnya ada enam kampus kedokteran terbaik ...  "
      ]
     },
     "execution_count": 13,
     "metadata": {},
     "output_type": "execute_result"
    }
   ],
   "source": [
    "df.head()"
   ]
  },
  {
   "cell_type": "markdown",
   "metadata": {
    "id": "K3l-VvoUeaiP"
   },
   "source": [
    "Lakukan drop kolom pada judul, waktu dan kategori, karena yang akan diproses datanya disini adalah deskripsi."
   ]
  },
  {
   "cell_type": "code",
   "execution_count": 14,
   "metadata": {
    "id": "uFkCMmEY5nFL"
   },
   "outputs": [],
   "source": [
    "# drop judul, waktu, kategori\n",
    "df.drop(['judul','waktu','kategori'],axis=1,inplace=True)"
   ]
  },
  {
   "cell_type": "markdown",
   "metadata": {
    "id": "ZQdyhUUjfLlC"
   },
   "source": [
    "Menampilkan data berupa 'deskripsi' dengan 26 record data"
   ]
  },
  {
   "cell_type": "code",
   "execution_count": 15,
   "metadata": {
    "colab": {
     "base_uri": "https://localhost:8080/",
     "height": 865
    },
    "id": "hWOSnoDSNp1X",
    "outputId": "9e8acff5-e476-41d4-beb7-dfdd9b07ce8a"
   },
   "outputs": [
    {
     "data": {
      "text/html": [
       "<div>\n",
       "<style scoped>\n",
       "    .dataframe tbody tr th:only-of-type {\n",
       "        vertical-align: middle;\n",
       "    }\n",
       "\n",
       "    .dataframe tbody tr th {\n",
       "        vertical-align: top;\n",
       "    }\n",
       "\n",
       "    .dataframe thead th {\n",
       "        text-align: right;\n",
       "    }\n",
       "</style>\n",
       "<table border=\"1\" class=\"dataframe\">\n",
       "  <thead>\n",
       "    <tr style=\"text-align: right;\">\n",
       "      <th></th>\n",
       "      <th>deskripsi</th>\n",
       "    </tr>\n",
       "  </thead>\n",
       "  <tbody>\n",
       "    <tr>\n",
       "      <th>0</th>\n",
       "      <td>Pendidikan dasar di masa datang akan menghadap...</td>\n",
       "    </tr>\n",
       "    <tr>\n",
       "      <th>1</th>\n",
       "      <td>NaN</td>\n",
       "    </tr>\n",
       "    <tr>\n",
       "      <th>2</th>\n",
       "      <td>Pendidikan dasar di masa datang akan menghadap...</td>\n",
       "    </tr>\n",
       "    <tr>\n",
       "      <th>3</th>\n",
       "      <td>Riska, anak dari seorang Pekerja Imigran Indon...</td>\n",
       "    </tr>\n",
       "    <tr>\n",
       "      <th>4</th>\n",
       "      <td>Sedikitnya ada enam kampus kedokteran terbaik ...</td>\n",
       "    </tr>\n",
       "    <tr>\n",
       "      <th>5</th>\n",
       "      <td>Lahir dari semangat untuk mengembalikan cita-c...</td>\n",
       "    </tr>\n",
       "    <tr>\n",
       "      <th>6</th>\n",
       "      <td>Mahasiswi Politeknik Negeri Banjarmasin (Polib...</td>\n",
       "    </tr>\n",
       "    <tr>\n",
       "      <th>7</th>\n",
       "      <td>Wakil Direktur Kajian Pusat Studi Terorisme da...</td>\n",
       "    </tr>\n",
       "    <tr>\n",
       "      <th>8</th>\n",
       "      <td>Cukup banyak anak muda saat ini yang memiliki ...</td>\n",
       "    </tr>\n",
       "    <tr>\n",
       "      <th>9</th>\n",
       "      <td>Atdikbud KBRI Berlin Ardi Marwan menjelaskan m...</td>\n",
       "    </tr>\n",
       "    <tr>\n",
       "      <th>10</th>\n",
       "      <td>Institut Sains dan Teknologi Nasional (ISTN) m...</td>\n",
       "    </tr>\n",
       "    <tr>\n",
       "      <th>11</th>\n",
       "      <td>Universitas Pembangunan Nasional Veteran Jakar...</td>\n",
       "    </tr>\n",
       "    <tr>\n",
       "      <th>12</th>\n",
       "      <td>NaN</td>\n",
       "    </tr>\n",
       "    <tr>\n",
       "      <th>13</th>\n",
       "      <td>Prestasi internasional kembali ditorehkan sisw...</td>\n",
       "    </tr>\n",
       "    <tr>\n",
       "      <th>14</th>\n",
       "      <td>Program Studi MICE Politeknik Negeri Jakarta (...</td>\n",
       "    </tr>\n",
       "    <tr>\n",
       "      <th>15</th>\n",
       "      <td>Mereka yang memutuskan untuk menempuh kuliah j...</td>\n",
       "    </tr>\n",
       "    <tr>\n",
       "      <th>16</th>\n",
       "      <td>PPDB jenjang SMA dan SMK 2022 di Provinsi Jawa...</td>\n",
       "    </tr>\n",
       "    <tr>\n",
       "      <th>17</th>\n",
       "      <td>Justin Bieber mengumumkan dirinya terkena Rams...</td>\n",
       "    </tr>\n",
       "    <tr>\n",
       "      <th>18</th>\n",
       "      <td>Direktur Pusat Kajian Halal Fakultas Peternaka...</td>\n",
       "    </tr>\n",
       "    <tr>\n",
       "      <th>19</th>\n",
       "      <td>Universitas Pancasila (UP) pada hari Selasa (1...</td>\n",
       "    </tr>\n",
       "    <tr>\n",
       "      <th>20</th>\n",
       "      <td>Prof. Akhmad Muzakki membuktikan diri bahwa la...</td>\n",
       "    </tr>\n",
       "    <tr>\n",
       "      <th>21</th>\n",
       "      <td>Fakultas Keperawatan Universitas Airlangga(Ner...</td>\n",
       "    </tr>\n",
       "    <tr>\n",
       "      <th>22</th>\n",
       "      <td>Walau masih berusia belia, namun prestasi SMA ...</td>\n",
       "    </tr>\n",
       "    <tr>\n",
       "      <th>23</th>\n",
       "      <td>Program Studi Pendidikan Masyarakat, Fakultas ...</td>\n",
       "    </tr>\n",
       "    <tr>\n",
       "      <th>24</th>\n",
       "      <td>Universitas Islam Negeri Syarif Hidayatullah (...</td>\n",
       "    </tr>\n",
       "    <tr>\n",
       "      <th>25</th>\n",
       "      <td>Ditjen GTK Kemendikbudristek mengundang putra-...</td>\n",
       "    </tr>\n",
       "  </tbody>\n",
       "</table>\n",
       "</div>"
      ],
      "text/plain": [
       "                                            deskripsi\n",
       "0   Pendidikan dasar di masa datang akan menghadap...\n",
       "1                                                 NaN\n",
       "2   Pendidikan dasar di masa datang akan menghadap...\n",
       "3   Riska, anak dari seorang Pekerja Imigran Indon...\n",
       "4   Sedikitnya ada enam kampus kedokteran terbaik ...\n",
       "5   Lahir dari semangat untuk mengembalikan cita-c...\n",
       "6   Mahasiswi Politeknik Negeri Banjarmasin (Polib...\n",
       "7   Wakil Direktur Kajian Pusat Studi Terorisme da...\n",
       "8   Cukup banyak anak muda saat ini yang memiliki ...\n",
       "9   Atdikbud KBRI Berlin Ardi Marwan menjelaskan m...\n",
       "10  Institut Sains dan Teknologi Nasional (ISTN) m...\n",
       "11  Universitas Pembangunan Nasional Veteran Jakar...\n",
       "12                                                NaN\n",
       "13  Prestasi internasional kembali ditorehkan sisw...\n",
       "14  Program Studi MICE Politeknik Negeri Jakarta (...\n",
       "15  Mereka yang memutuskan untuk menempuh kuliah j...\n",
       "16  PPDB jenjang SMA dan SMK 2022 di Provinsi Jawa...\n",
       "17  Justin Bieber mengumumkan dirinya terkena Rams...\n",
       "18  Direktur Pusat Kajian Halal Fakultas Peternaka...\n",
       "19  Universitas Pancasila (UP) pada hari Selasa (1...\n",
       "20  Prof. Akhmad Muzakki membuktikan diri bahwa la...\n",
       "21  Fakultas Keperawatan Universitas Airlangga(Ner...\n",
       "22  Walau masih berusia belia, namun prestasi SMA ...\n",
       "23  Program Studi Pendidikan Masyarakat, Fakultas ...\n",
       "24  Universitas Islam Negeri Syarif Hidayatullah (...\n",
       "25  Ditjen GTK Kemendikbudristek mengundang putra-..."
      ]
     },
     "execution_count": 15,
     "metadata": {},
     "output_type": "execute_result"
    }
   ],
   "source": [
    "df.head(26)"
   ]
  },
  {
   "cell_type": "markdown",
   "metadata": {
    "id": "r-QW29rPPaja"
   },
   "source": [
    "# Cleaning Data"
   ]
  },
  {
   "cell_type": "markdown",
   "metadata": {
    "id": "CQvXxXbBXN8s"
   },
   "source": [
    "Salah satu preprocessing adalah melakukan cleaning data untuk melakukan proses pembersihan data yang tidak diperlukan. Dalam tahap ini, data dibersihkan melalui beberapa proses seperti mengisi nilai yang hilang, menghaluskan noisy data, dan menyelesaikan inkonsistensi yang ditemukan. Data juga bisa dibersihkan dengan dibagi menjadi segmen-segmen yang memiliki ukuran serupa lalu dihaluskan (binning).\n",
    "\n",
    "Disini telah menggunakan lemmatizer dan juga dapat menggunakan stemmer. Juga kata-kata berhenti telah digunakan bersama dengan kata-kata yang panjangnya lebih pendek dari 3 karakter untuk mengurangi beberapa kata yang menyimpang. "
   ]
  },
  {
   "cell_type": "code",
   "execution_count": 16,
   "metadata": {
    "id": "ZjVo1BgZPeD5"
   },
   "outputs": [],
   "source": [
    "def clean_text(headline):\n",
    "  le=WordNetLemmatizer()\n",
    "  word_tokens=word_tokenize(headline)\n",
    "  tokens=[le.lemmatize(w) for w in word_tokens if w not in stop_words and len(w)>3]\n",
    "  cleaned_text=\" \".join(tokens)\n",
    "  return cleaned_text"
   ]
  },
  {
   "cell_type": "code",
   "execution_count": 17,
   "metadata": {
    "colab": {
     "base_uri": "https://localhost:8080/"
    },
    "id": "1yQWsoRQQSwm",
    "outputId": "a2873a72-2d6d-44b8-9d9c-ca534b570140"
   },
   "outputs": [
    {
     "name": "stdout",
     "output_type": "stream",
     "text": [
      "Requirement already satisfied: nltk in c:\\users\\asus\\appdata\\local\\programs\\python\\python38-32\\lib\\site-packages (3.7)\n",
      "Requirement already satisfied: joblib in c:\\users\\asus\\appdata\\local\\programs\\python\\python38-32\\lib\\site-packages (from nltk) (1.1.0)\n",
      "Requirement already satisfied: click in c:\\users\\asus\\appdata\\local\\programs\\python\\python38-32\\lib\\site-packages (from nltk) (7.1.2)\n",
      "Requirement already satisfied: regex>=2021.8.3 in c:\\users\\asus\\appdata\\local\\programs\\python\\python38-32\\lib\\site-packages (from nltk) (2022.3.15)\n",
      "Requirement already satisfied: tqdm in c:\\users\\asus\\appdata\\local\\programs\\python\\python38-32\\lib\\site-packages (from nltk) (4.63.1)\n",
      "Requirement already satisfied: colorama in c:\\users\\asus\\appdata\\roaming\\python\\python38\\site-packages (from tqdm->nltk) (0.4.3)\n"
     ]
    },
    {
     "name": "stderr",
     "output_type": "stream",
     "text": [
      "WARNING: Ignoring invalid distribution -ip (c:\\users\\asus\\appdata\\local\\programs\\python\\python38-32\\lib\\site-packages)\n",
      "WARNING: Ignoring invalid distribution -ip (c:\\users\\asus\\appdata\\local\\programs\\python\\python38-32\\lib\\site-packages)\n",
      "WARNING: Ignoring invalid distribution -ip (c:\\users\\asus\\appdata\\local\\programs\\python\\python38-32\\lib\\site-packages)\n",
      "WARNING: Ignoring invalid distribution -ip (c:\\users\\asus\\appdata\\local\\programs\\python\\python38-32\\lib\\site-packages)\n",
      "WARNING: Ignoring invalid distribution -ip (c:\\users\\asus\\appdata\\local\\programs\\python\\python38-32\\lib\\site-packages)\n",
      "WARNING: Ignoring invalid distribution -ip (c:\\users\\asus\\appdata\\local\\programs\\python\\python38-32\\lib\\site-packages)\n"
     ]
    }
   ],
   "source": [
    "!pip install nltk"
   ]
  },
  {
   "cell_type": "code",
   "execution_count": 18,
   "metadata": {
    "colab": {
     "base_uri": "https://localhost:8080/"
    },
    "id": "MVwaH-6xQDk4",
    "outputId": "1df286e7-3b39-4651-f48e-876f05f57cd6"
   },
   "outputs": [
    {
     "name": "stderr",
     "output_type": "stream",
     "text": [
      "[nltk_data] Downloading package punkt to\n",
      "[nltk_data]     C:\\Users\\ASUS\\AppData\\Roaming\\nltk_data...\n"
     ]
    },
    {
     "name": "stderr",
     "output_type": "stream",
     "text": [
      "[nltk_data]   Package punkt is already up-to-date!"
     ]
    },
    {
     "name": "stderr",
     "output_type": "stream",
     "text": [
      "\n",
      "[nltk_data] Downloading package wordnet to\n",
      "[nltk_data]     C:\\Users\\ASUS\\AppData\\Roaming\\nltk_data...\n",
      "[nltk_data]   Package wordnet is already up-to-date!\n",
      "[nltk_data] Downloading package omw-1.4 to\n",
      "[nltk_data]     C:\\Users\\ASUS\\AppData\\Roaming\\nltk_data...\n"
     ]
    },
    {
     "name": "stderr",
     "output_type": "stream",
     "text": [
      "[nltk_data]   Package omw-1.4 is already up-to-date!\n"
     ]
    },
    {
     "data": {
      "text/plain": [
       "True"
      ]
     },
     "execution_count": 18,
     "metadata": {},
     "output_type": "execute_result"
    }
   ],
   "source": [
    "import nltk\n",
    "nltk.download('punkt')\n",
    "nltk.download('wordnet')\n",
    "nltk.download('omw-1.4')"
   ]
  },
  {
   "cell_type": "code",
   "execution_count": 19,
   "metadata": {
    "id": "N_nkWSgMOC83"
   },
   "outputs": [
    {
     "ename": "TypeError",
     "evalue": "expected string or bytes-like object",
     "output_type": "error",
     "traceback": [
      "\u001b[1;31m---------------------------------------------------------------------------\u001b[0m",
      "\u001b[1;31mTypeError\u001b[0m                                 Traceback (most recent call last)",
      "Input \u001b[1;32mIn [19]\u001b[0m, in \u001b[0;36m<cell line: 2>\u001b[1;34m()\u001b[0m\n\u001b[0;32m      1\u001b[0m \u001b[38;5;66;03m# time taking\u001b[39;00m\n\u001b[1;32m----> 2\u001b[0m df[\u001b[38;5;124m'\u001b[39m\u001b[38;5;124mdeskripsi_cleaned_text\u001b[39m\u001b[38;5;124m'\u001b[39m]\u001b[38;5;241m=\u001b[39m\u001b[43mdf\u001b[49m\u001b[43m[\u001b[49m\u001b[38;5;124;43m'\u001b[39;49m\u001b[38;5;124;43mdeskripsi\u001b[39;49m\u001b[38;5;124;43m'\u001b[39;49m\u001b[43m]\u001b[49m\u001b[38;5;241;43m.\u001b[39;49m\u001b[43mapply\u001b[49m\u001b[43m(\u001b[49m\u001b[43mclean_text\u001b[49m\u001b[43m)\u001b[49m\n",
      "File \u001b[1;32m~\\AppData\\Local\\Programs\\Python\\Python38-32\\lib\\site-packages\\pandas\\core\\series.py:4108\u001b[0m, in \u001b[0;36mSeries.apply\u001b[1;34m(self, func, convert_dtype, args, **kwds)\u001b[0m\n\u001b[0;32m   4106\u001b[0m     \u001b[38;5;28;01melse\u001b[39;00m:\n\u001b[0;32m   4107\u001b[0m         values \u001b[38;5;241m=\u001b[39m \u001b[38;5;28mself\u001b[39m\u001b[38;5;241m.\u001b[39mastype(\u001b[38;5;28mobject\u001b[39m)\u001b[38;5;241m.\u001b[39m_values\n\u001b[1;32m-> 4108\u001b[0m         mapped \u001b[38;5;241m=\u001b[39m \u001b[43mlib\u001b[49m\u001b[38;5;241;43m.\u001b[39;49m\u001b[43mmap_infer\u001b[49m\u001b[43m(\u001b[49m\u001b[43mvalues\u001b[49m\u001b[43m,\u001b[49m\u001b[43m \u001b[49m\u001b[43mf\u001b[49m\u001b[43m,\u001b[49m\u001b[43m \u001b[49m\u001b[43mconvert\u001b[49m\u001b[38;5;241;43m=\u001b[39;49m\u001b[43mconvert_dtype\u001b[49m\u001b[43m)\u001b[49m\n\u001b[0;32m   4110\u001b[0m \u001b[38;5;28;01mif\u001b[39;00m \u001b[38;5;28mlen\u001b[39m(mapped) \u001b[38;5;129;01mand\u001b[39;00m \u001b[38;5;28misinstance\u001b[39m(mapped[\u001b[38;5;241m0\u001b[39m], Series):\n\u001b[0;32m   4111\u001b[0m     \u001b[38;5;66;03m# GH 25959 use pd.array instead of tolist\u001b[39;00m\n\u001b[0;32m   4112\u001b[0m     \u001b[38;5;66;03m# so extension arrays can be used\u001b[39;00m\n\u001b[0;32m   4113\u001b[0m     \u001b[38;5;28;01mreturn\u001b[39;00m \u001b[38;5;28mself\u001b[39m\u001b[38;5;241m.\u001b[39m_constructor_expanddim(pd_array(mapped), index\u001b[38;5;241m=\u001b[39m\u001b[38;5;28mself\u001b[39m\u001b[38;5;241m.\u001b[39mindex)\n",
      "File \u001b[1;32mpandas\\_libs\\lib.pyx:2467\u001b[0m, in \u001b[0;36mpandas._libs.lib.map_infer\u001b[1;34m()\u001b[0m\n",
      "Input \u001b[1;32mIn [16]\u001b[0m, in \u001b[0;36mclean_text\u001b[1;34m(headline)\u001b[0m\n\u001b[0;32m      1\u001b[0m \u001b[38;5;28;01mdef\u001b[39;00m \u001b[38;5;21mclean_text\u001b[39m(headline):\n\u001b[0;32m      2\u001b[0m   le\u001b[38;5;241m=\u001b[39mWordNetLemmatizer()\n\u001b[1;32m----> 3\u001b[0m   word_tokens\u001b[38;5;241m=\u001b[39m\u001b[43mword_tokenize\u001b[49m\u001b[43m(\u001b[49m\u001b[43mheadline\u001b[49m\u001b[43m)\u001b[49m\n\u001b[0;32m      4\u001b[0m   tokens\u001b[38;5;241m=\u001b[39m[le\u001b[38;5;241m.\u001b[39mlemmatize(w) \u001b[38;5;28;01mfor\u001b[39;00m w \u001b[38;5;129;01min\u001b[39;00m word_tokens \u001b[38;5;28;01mif\u001b[39;00m w \u001b[38;5;129;01mnot\u001b[39;00m \u001b[38;5;129;01min\u001b[39;00m stop_words \u001b[38;5;129;01mand\u001b[39;00m \u001b[38;5;28mlen\u001b[39m(w)\u001b[38;5;241m>\u001b[39m\u001b[38;5;241m3\u001b[39m]\n\u001b[0;32m      5\u001b[0m   cleaned_text\u001b[38;5;241m=\u001b[39m\u001b[38;5;124m\"\u001b[39m\u001b[38;5;124m \u001b[39m\u001b[38;5;124m\"\u001b[39m\u001b[38;5;241m.\u001b[39mjoin(tokens)\n",
      "File \u001b[1;32m~\\AppData\\Local\\Programs\\Python\\Python38-32\\lib\\site-packages\\nltk\\tokenize\\__init__.py:129\u001b[0m, in \u001b[0;36mword_tokenize\u001b[1;34m(text, language, preserve_line)\u001b[0m\n\u001b[0;32m    114\u001b[0m \u001b[38;5;28;01mdef\u001b[39;00m \u001b[38;5;21mword_tokenize\u001b[39m(text, language\u001b[38;5;241m=\u001b[39m\u001b[38;5;124m\"\u001b[39m\u001b[38;5;124menglish\u001b[39m\u001b[38;5;124m\"\u001b[39m, preserve_line\u001b[38;5;241m=\u001b[39m\u001b[38;5;28;01mFalse\u001b[39;00m):\n\u001b[0;32m    115\u001b[0m     \u001b[38;5;124;03m\"\"\"\u001b[39;00m\n\u001b[0;32m    116\u001b[0m \u001b[38;5;124;03m    Return a tokenized copy of *text*,\u001b[39;00m\n\u001b[0;32m    117\u001b[0m \u001b[38;5;124;03m    using NLTK's recommended word tokenizer\u001b[39;00m\n\u001b[1;32m   (...)\u001b[0m\n\u001b[0;32m    127\u001b[0m \u001b[38;5;124;03m    :type preserve_line: bool\u001b[39;00m\n\u001b[0;32m    128\u001b[0m \u001b[38;5;124;03m    \"\"\"\u001b[39;00m\n\u001b[1;32m--> 129\u001b[0m     sentences \u001b[38;5;241m=\u001b[39m [text] \u001b[38;5;28;01mif\u001b[39;00m preserve_line \u001b[38;5;28;01melse\u001b[39;00m \u001b[43msent_tokenize\u001b[49m\u001b[43m(\u001b[49m\u001b[43mtext\u001b[49m\u001b[43m,\u001b[49m\u001b[43m \u001b[49m\u001b[43mlanguage\u001b[49m\u001b[43m)\u001b[49m\n\u001b[0;32m    130\u001b[0m     \u001b[38;5;28;01mreturn\u001b[39;00m [\n\u001b[0;32m    131\u001b[0m         token \u001b[38;5;28;01mfor\u001b[39;00m sent \u001b[38;5;129;01min\u001b[39;00m sentences \u001b[38;5;28;01mfor\u001b[39;00m token \u001b[38;5;129;01min\u001b[39;00m _treebank_word_tokenizer\u001b[38;5;241m.\u001b[39mtokenize(sent)\n\u001b[0;32m    132\u001b[0m     ]\n",
      "File \u001b[1;32m~\\AppData\\Local\\Programs\\Python\\Python38-32\\lib\\site-packages\\nltk\\tokenize\\__init__.py:107\u001b[0m, in \u001b[0;36msent_tokenize\u001b[1;34m(text, language)\u001b[0m\n\u001b[0;32m     97\u001b[0m \u001b[38;5;124;03m\"\"\"\u001b[39;00m\n\u001b[0;32m     98\u001b[0m \u001b[38;5;124;03mReturn a sentence-tokenized copy of *text*,\u001b[39;00m\n\u001b[0;32m     99\u001b[0m \u001b[38;5;124;03musing NLTK's recommended sentence tokenizer\u001b[39;00m\n\u001b[1;32m   (...)\u001b[0m\n\u001b[0;32m    104\u001b[0m \u001b[38;5;124;03m:param language: the model name in the Punkt corpus\u001b[39;00m\n\u001b[0;32m    105\u001b[0m \u001b[38;5;124;03m\"\"\"\u001b[39;00m\n\u001b[0;32m    106\u001b[0m tokenizer \u001b[38;5;241m=\u001b[39m load(\u001b[38;5;124mf\u001b[39m\u001b[38;5;124m\"\u001b[39m\u001b[38;5;124mtokenizers/punkt/\u001b[39m\u001b[38;5;132;01m{\u001b[39;00mlanguage\u001b[38;5;132;01m}\u001b[39;00m\u001b[38;5;124m.pickle\u001b[39m\u001b[38;5;124m\"\u001b[39m)\n\u001b[1;32m--> 107\u001b[0m \u001b[38;5;28;01mreturn\u001b[39;00m \u001b[43mtokenizer\u001b[49m\u001b[38;5;241;43m.\u001b[39;49m\u001b[43mtokenize\u001b[49m\u001b[43m(\u001b[49m\u001b[43mtext\u001b[49m\u001b[43m)\u001b[49m\n",
      "File \u001b[1;32m~\\AppData\\Local\\Programs\\Python\\Python38-32\\lib\\site-packages\\nltk\\tokenize\\punkt.py:1276\u001b[0m, in \u001b[0;36mPunktSentenceTokenizer.tokenize\u001b[1;34m(self, text, realign_boundaries)\u001b[0m\n\u001b[0;32m   1272\u001b[0m \u001b[38;5;28;01mdef\u001b[39;00m \u001b[38;5;21mtokenize\u001b[39m(\u001b[38;5;28mself\u001b[39m, text, realign_boundaries\u001b[38;5;241m=\u001b[39m\u001b[38;5;28;01mTrue\u001b[39;00m):\n\u001b[0;32m   1273\u001b[0m     \u001b[38;5;124;03m\"\"\"\u001b[39;00m\n\u001b[0;32m   1274\u001b[0m \u001b[38;5;124;03m    Given a text, returns a list of the sentences in that text.\u001b[39;00m\n\u001b[0;32m   1275\u001b[0m \u001b[38;5;124;03m    \"\"\"\u001b[39;00m\n\u001b[1;32m-> 1276\u001b[0m     \u001b[38;5;28;01mreturn\u001b[39;00m \u001b[38;5;28mlist\u001b[39m(\u001b[38;5;28;43mself\u001b[39;49m\u001b[38;5;241;43m.\u001b[39;49m\u001b[43msentences_from_text\u001b[49m\u001b[43m(\u001b[49m\u001b[43mtext\u001b[49m\u001b[43m,\u001b[49m\u001b[43m \u001b[49m\u001b[43mrealign_boundaries\u001b[49m\u001b[43m)\u001b[49m)\n",
      "File \u001b[1;32m~\\AppData\\Local\\Programs\\Python\\Python38-32\\lib\\site-packages\\nltk\\tokenize\\punkt.py:1332\u001b[0m, in \u001b[0;36mPunktSentenceTokenizer.sentences_from_text\u001b[1;34m(self, text, realign_boundaries)\u001b[0m\n\u001b[0;32m   1325\u001b[0m \u001b[38;5;28;01mdef\u001b[39;00m \u001b[38;5;21msentences_from_text\u001b[39m(\u001b[38;5;28mself\u001b[39m, text, realign_boundaries\u001b[38;5;241m=\u001b[39m\u001b[38;5;28;01mTrue\u001b[39;00m):\n\u001b[0;32m   1326\u001b[0m     \u001b[38;5;124;03m\"\"\"\u001b[39;00m\n\u001b[0;32m   1327\u001b[0m \u001b[38;5;124;03m    Given a text, generates the sentences in that text by only\u001b[39;00m\n\u001b[0;32m   1328\u001b[0m \u001b[38;5;124;03m    testing candidate sentence breaks. If realign_boundaries is\u001b[39;00m\n\u001b[0;32m   1329\u001b[0m \u001b[38;5;124;03m    True, includes in the sentence closing punctuation that\u001b[39;00m\n\u001b[0;32m   1330\u001b[0m \u001b[38;5;124;03m    follows the period.\u001b[39;00m\n\u001b[0;32m   1331\u001b[0m \u001b[38;5;124;03m    \"\"\"\u001b[39;00m\n\u001b[1;32m-> 1332\u001b[0m     \u001b[38;5;28;01mreturn\u001b[39;00m [text[s:e] \u001b[38;5;28;01mfor\u001b[39;00m s, e \u001b[38;5;129;01min\u001b[39;00m \u001b[38;5;28mself\u001b[39m\u001b[38;5;241m.\u001b[39mspan_tokenize(text, realign_boundaries)]\n",
      "File \u001b[1;32m~\\AppData\\Local\\Programs\\Python\\Python38-32\\lib\\site-packages\\nltk\\tokenize\\punkt.py:1332\u001b[0m, in \u001b[0;36m<listcomp>\u001b[1;34m(.0)\u001b[0m\n\u001b[0;32m   1325\u001b[0m \u001b[38;5;28;01mdef\u001b[39;00m \u001b[38;5;21msentences_from_text\u001b[39m(\u001b[38;5;28mself\u001b[39m, text, realign_boundaries\u001b[38;5;241m=\u001b[39m\u001b[38;5;28;01mTrue\u001b[39;00m):\n\u001b[0;32m   1326\u001b[0m     \u001b[38;5;124;03m\"\"\"\u001b[39;00m\n\u001b[0;32m   1327\u001b[0m \u001b[38;5;124;03m    Given a text, generates the sentences in that text by only\u001b[39;00m\n\u001b[0;32m   1328\u001b[0m \u001b[38;5;124;03m    testing candidate sentence breaks. If realign_boundaries is\u001b[39;00m\n\u001b[0;32m   1329\u001b[0m \u001b[38;5;124;03m    True, includes in the sentence closing punctuation that\u001b[39;00m\n\u001b[0;32m   1330\u001b[0m \u001b[38;5;124;03m    follows the period.\u001b[39;00m\n\u001b[0;32m   1331\u001b[0m \u001b[38;5;124;03m    \"\"\"\u001b[39;00m\n\u001b[1;32m-> 1332\u001b[0m     \u001b[38;5;28;01mreturn\u001b[39;00m [text[s:e] \u001b[38;5;28;01mfor\u001b[39;00m s, e \u001b[38;5;129;01min\u001b[39;00m \u001b[38;5;28mself\u001b[39m\u001b[38;5;241m.\u001b[39mspan_tokenize(text, realign_boundaries)]\n",
      "File \u001b[1;32m~\\AppData\\Local\\Programs\\Python\\Python38-32\\lib\\site-packages\\nltk\\tokenize\\punkt.py:1322\u001b[0m, in \u001b[0;36mPunktSentenceTokenizer.span_tokenize\u001b[1;34m(self, text, realign_boundaries)\u001b[0m\n\u001b[0;32m   1320\u001b[0m \u001b[38;5;28;01mif\u001b[39;00m realign_boundaries:\n\u001b[0;32m   1321\u001b[0m     slices \u001b[38;5;241m=\u001b[39m \u001b[38;5;28mself\u001b[39m\u001b[38;5;241m.\u001b[39m_realign_boundaries(text, slices)\n\u001b[1;32m-> 1322\u001b[0m \u001b[38;5;28;01mfor\u001b[39;00m sentence \u001b[38;5;129;01min\u001b[39;00m slices:\n\u001b[0;32m   1323\u001b[0m     \u001b[38;5;28;01myield\u001b[39;00m (sentence\u001b[38;5;241m.\u001b[39mstart, sentence\u001b[38;5;241m.\u001b[39mstop)\n",
      "File \u001b[1;32m~\\AppData\\Local\\Programs\\Python\\Python38-32\\lib\\site-packages\\nltk\\tokenize\\punkt.py:1421\u001b[0m, in \u001b[0;36mPunktSentenceTokenizer._realign_boundaries\u001b[1;34m(self, text, slices)\u001b[0m\n\u001b[0;32m   1408\u001b[0m \u001b[38;5;124;03m\"\"\"\u001b[39;00m\n\u001b[0;32m   1409\u001b[0m \u001b[38;5;124;03mAttempts to realign punctuation that falls after the period but\u001b[39;00m\n\u001b[0;32m   1410\u001b[0m \u001b[38;5;124;03mshould otherwise be included in the same sentence.\u001b[39;00m\n\u001b[1;32m   (...)\u001b[0m\n\u001b[0;32m   1418\u001b[0m \u001b[38;5;124;03m    [\"(Sent1.)\", \"Sent2.\"].\u001b[39;00m\n\u001b[0;32m   1419\u001b[0m \u001b[38;5;124;03m\"\"\"\u001b[39;00m\n\u001b[0;32m   1420\u001b[0m realign \u001b[38;5;241m=\u001b[39m \u001b[38;5;241m0\u001b[39m\n\u001b[1;32m-> 1421\u001b[0m \u001b[38;5;28;01mfor\u001b[39;00m sentence1, sentence2 \u001b[38;5;129;01min\u001b[39;00m _pair_iter(slices):\n\u001b[0;32m   1422\u001b[0m     sentence1 \u001b[38;5;241m=\u001b[39m \u001b[38;5;28mslice\u001b[39m(sentence1\u001b[38;5;241m.\u001b[39mstart \u001b[38;5;241m+\u001b[39m realign, sentence1\u001b[38;5;241m.\u001b[39mstop)\n\u001b[0;32m   1423\u001b[0m     \u001b[38;5;28;01mif\u001b[39;00m \u001b[38;5;129;01mnot\u001b[39;00m sentence2:\n",
      "File \u001b[1;32m~\\AppData\\Local\\Programs\\Python\\Python38-32\\lib\\site-packages\\nltk\\tokenize\\punkt.py:318\u001b[0m, in \u001b[0;36m_pair_iter\u001b[1;34m(iterator)\u001b[0m\n\u001b[0;32m    316\u001b[0m iterator \u001b[38;5;241m=\u001b[39m \u001b[38;5;28miter\u001b[39m(iterator)\n\u001b[0;32m    317\u001b[0m \u001b[38;5;28;01mtry\u001b[39;00m:\n\u001b[1;32m--> 318\u001b[0m     prev \u001b[38;5;241m=\u001b[39m \u001b[38;5;28;43mnext\u001b[39;49m\u001b[43m(\u001b[49m\u001b[43miterator\u001b[49m\u001b[43m)\u001b[49m\n\u001b[0;32m    319\u001b[0m \u001b[38;5;28;01mexcept\u001b[39;00m \u001b[38;5;167;01mStopIteration\u001b[39;00m:\n\u001b[0;32m    320\u001b[0m     \u001b[38;5;28;01mreturn\u001b[39;00m\n",
      "File \u001b[1;32m~\\AppData\\Local\\Programs\\Python\\Python38-32\\lib\\site-packages\\nltk\\tokenize\\punkt.py:1395\u001b[0m, in \u001b[0;36mPunktSentenceTokenizer._slices_from_text\u001b[1;34m(self, text)\u001b[0m\n\u001b[0;32m   1393\u001b[0m \u001b[38;5;28;01mdef\u001b[39;00m \u001b[38;5;21m_slices_from_text\u001b[39m(\u001b[38;5;28mself\u001b[39m, text):\n\u001b[0;32m   1394\u001b[0m     last_break \u001b[38;5;241m=\u001b[39m \u001b[38;5;241m0\u001b[39m\n\u001b[1;32m-> 1395\u001b[0m     \u001b[38;5;28;01mfor\u001b[39;00m match, context \u001b[38;5;129;01min\u001b[39;00m \u001b[38;5;28;43mself\u001b[39;49m\u001b[38;5;241;43m.\u001b[39;49m\u001b[43m_match_potential_end_contexts\u001b[49m\u001b[43m(\u001b[49m\u001b[43mtext\u001b[49m\u001b[43m)\u001b[49m:\n\u001b[0;32m   1396\u001b[0m         \u001b[38;5;28;01mif\u001b[39;00m \u001b[38;5;28mself\u001b[39m\u001b[38;5;241m.\u001b[39mtext_contains_sentbreak(context):\n\u001b[0;32m   1397\u001b[0m             \u001b[38;5;28;01myield\u001b[39;00m \u001b[38;5;28mslice\u001b[39m(last_break, match\u001b[38;5;241m.\u001b[39mend())\n",
      "File \u001b[1;32m~\\AppData\\Local\\Programs\\Python\\Python38-32\\lib\\site-packages\\nltk\\tokenize\\punkt.py:1375\u001b[0m, in \u001b[0;36mPunktSentenceTokenizer._match_potential_end_contexts\u001b[1;34m(self, text)\u001b[0m\n\u001b[0;32m   1373\u001b[0m before_words \u001b[38;5;241m=\u001b[39m {}\n\u001b[0;32m   1374\u001b[0m matches \u001b[38;5;241m=\u001b[39m []\n\u001b[1;32m-> 1375\u001b[0m \u001b[38;5;28;01mfor\u001b[39;00m match \u001b[38;5;129;01min\u001b[39;00m \u001b[38;5;28mreversed\u001b[39m(\u001b[38;5;28mlist\u001b[39m(\u001b[38;5;28;43mself\u001b[39;49m\u001b[38;5;241;43m.\u001b[39;49m\u001b[43m_lang_vars\u001b[49m\u001b[38;5;241;43m.\u001b[39;49m\u001b[43mperiod_context_re\u001b[49m\u001b[43m(\u001b[49m\u001b[43m)\u001b[49m\u001b[38;5;241;43m.\u001b[39;49m\u001b[43mfinditer\u001b[49m\u001b[43m(\u001b[49m\u001b[43mtext\u001b[49m\u001b[43m)\u001b[49m)):\n\u001b[0;32m   1376\u001b[0m     \u001b[38;5;66;03m# Ignore matches that have already been captured by matches to the right of this match\u001b[39;00m\n\u001b[0;32m   1377\u001b[0m     \u001b[38;5;28;01mif\u001b[39;00m matches \u001b[38;5;129;01mand\u001b[39;00m match\u001b[38;5;241m.\u001b[39mend() \u001b[38;5;241m>\u001b[39m before_start:\n\u001b[0;32m   1378\u001b[0m         \u001b[38;5;28;01mcontinue\u001b[39;00m\n",
      "\u001b[1;31mTypeError\u001b[0m: expected string or bytes-like object"
     ]
    }
   ],
   "source": [
    "# time taking\n",
    "df['deskripsi_cleaned_text']=df['deskripsi'].apply(clean_text)"
   ]
  },
  {
   "cell_type": "code",
   "execution_count": null,
   "metadata": {
    "colab": {
     "base_uri": "https://localhost:8080/",
     "height": 865
    },
    "id": "8Bgl232tQpWO",
    "outputId": "a7b1d6ad-52f8-4a3b-ba22-17affe5929e2"
   },
   "outputs": [
    {
     "data": {
      "text/html": [
       "\n",
       "  <div id=\"df-5bd87f26-3b6e-4490-8f9a-7bca18b26750\">\n",
       "    <div class=\"colab-df-container\">\n",
       "      <div>\n",
       "<style scoped>\n",
       "    .dataframe tbody tr th:only-of-type {\n",
       "        vertical-align: middle;\n",
       "    }\n",
       "\n",
       "    .dataframe tbody tr th {\n",
       "        vertical-align: top;\n",
       "    }\n",
       "\n",
       "    .dataframe thead th {\n",
       "        text-align: right;\n",
       "    }\n",
       "</style>\n",
       "<table border=\"1\" class=\"dataframe\">\n",
       "  <thead>\n",
       "    <tr style=\"text-align: right;\">\n",
       "      <th></th>\n",
       "      <th>deskripsi</th>\n",
       "      <th>deskripsi_cleaned_text</th>\n",
       "    </tr>\n",
       "  </thead>\n",
       "  <tbody>\n",
       "    <tr>\n",
       "      <th>0</th>\n",
       "      <td>Penerimaan Peserta Didik Baru (PPDB) DKI Jakar...</td>\n",
       "      <td>Penerimaan Peserta Didik Baru PPDB Jakarta 202...</td>\n",
       "    </tr>\n",
       "    <tr>\n",
       "      <th>1</th>\n",
       "      <td>Angelo Wijaya, alumnus Jurusan Ilmu Hubungan I...</td>\n",
       "      <td>Angelo Wijaya alumnus Jurusan Ilmu Hubungan In...</td>\n",
       "    </tr>\n",
       "    <tr>\n",
       "      <th>2</th>\n",
       "      <td>PPDB DKI Jakarta 2022 membuka beberapa kategor...</td>\n",
       "      <td>PPDB Jakarta 2022 membuka beberapa kategori pe...</td>\n",
       "    </tr>\n",
       "    <tr>\n",
       "      <th>3</th>\n",
       "      <td>Lahir dari semangat untuk mengembalikan cita-c...</td>\n",
       "      <td>Lahir dari semangat untuk mengembalikan cita-c...</td>\n",
       "    </tr>\n",
       "    <tr>\n",
       "      <th>4</th>\n",
       "      <td>Sembilan mahasiswa Universitas Indonesia (UI) ...</td>\n",
       "      <td>Sembilan mahasiswa Universitas Indonesia dari ...</td>\n",
       "    </tr>\n",
       "    <tr>\n",
       "      <th>5</th>\n",
       "      <td>9 mahasiswa prodi Teknik Perkapalan Universita...</td>\n",
       "      <td>mahasiswa prodi Teknik Perkapalan Universitas ...</td>\n",
       "    </tr>\n",
       "    <tr>\n",
       "      <th>6</th>\n",
       "      <td>Bio Energi Indonesia (Bionersia) yang merupaka...</td>\n",
       "      <td>Energi Indonesia Bionersia yang merupakan star...</td>\n",
       "    </tr>\n",
       "    <tr>\n",
       "      <th>7</th>\n",
       "      <td>Lima mahasiswa Indonesia meraih Juara Tiga The...</td>\n",
       "      <td>Lima mahasiswa Indonesia meraih Juara Tiga Ame...</td>\n",
       "    </tr>\n",
       "    <tr>\n",
       "      <th>8</th>\n",
       "      <td>Indonesia memiliki lebih dari 4.500 perguruan ...</td>\n",
       "      <td>Indonesia memiliki lebih dari 4.500 perguruan ...</td>\n",
       "    </tr>\n",
       "    <tr>\n",
       "      <th>9</th>\n",
       "      <td>Proses Penerimaan Peserta Didik Baru (PPDB) DK...</td>\n",
       "      <td>Proses Penerimaan Peserta Didik Baru PPDB Jaka...</td>\n",
       "    </tr>\n",
       "    <tr>\n",
       "      <th>10</th>\n",
       "      <td>Sedikitnya ada empat fakultas hukum terbaik di...</td>\n",
       "      <td>Sedikitnya empat fakultas hukum terbaik Indone...</td>\n",
       "    </tr>\n",
       "    <tr>\n",
       "      <th>11</th>\n",
       "      <td>Penerimaan Peserta Didik Baru (PPDB) 2022 DKI ...</td>\n",
       "      <td>Penerimaan Peserta Didik Baru PPDB 2022 Jakart...</td>\n",
       "    </tr>\n",
       "    <tr>\n",
       "      <th>12</th>\n",
       "      <td>Indonesia memiliki sejumlah universitas dengan...</td>\n",
       "      <td>Indonesia memiliki sejumlah universitas dengan...</td>\n",
       "    </tr>\n",
       "    <tr>\n",
       "      <th>13</th>\n",
       "      <td>Madrasah Aliyah Negeri (MAN) Insan Cendekia (I...</td>\n",
       "      <td>Madrasah Aliyah Negeri Insan Cendekia Sambas K...</td>\n",
       "    </tr>\n",
       "    <tr>\n",
       "      <th>14</th>\n",
       "      <td>Siswa MAN 2 Ponorogo, Putri Wahyu Kusumaningty...</td>\n",
       "      <td>Siswa Ponorogo Putri Wahyu Kusumaningtyas akan...</td>\n",
       "    </tr>\n",
       "    <tr>\n",
       "      <th>15</th>\n",
       "      <td>Apakah kalian seorang mahasiswa yang ingin lul...</td>\n",
       "      <td>Apakah kalian seorang mahasiswa yang ingin lul...</td>\n",
       "    </tr>\n",
       "    <tr>\n",
       "      <th>16</th>\n",
       "      <td>Telkom University (Tel-U) masih menjadi kampus...</td>\n",
       "      <td>Telkom University Tel-U masih menjadi kampus s...</td>\n",
       "    </tr>\n",
       "    <tr>\n",
       "      <th>17</th>\n",
       "      <td>Skema penerimaan mahasiswa jalur Seleksi Prest...</td>\n",
       "      <td>Skema penerimaan mahasiswa jalur Seleksi Prest...</td>\n",
       "    </tr>\n",
       "    <tr>\n",
       "      <th>18</th>\n",
       "      <td>Lembaga pendidikan vokasi di perguruan tinggi ...</td>\n",
       "      <td>Lembaga pendidikan vokasi perguruan tinggi dih...</td>\n",
       "    </tr>\n",
       "    <tr>\n",
       "      <th>19</th>\n",
       "      <td>Mengerjakan skripsi atau tugas akhir penelitia...</td>\n",
       "      <td>Mengerjakan skripsi atau tugas akhir penelitia...</td>\n",
       "    </tr>\n",
       "    <tr>\n",
       "      <th>20</th>\n",
       "      <td>Universitas Mercu Buana (UMB) melalui program ...</td>\n",
       "      <td>Universitas Mercu Buana melalui program studi ...</td>\n",
       "    </tr>\n",
       "    <tr>\n",
       "      <th>21</th>\n",
       "      <td>Leonita Maharani Putri, penerima Beasiswa APER...</td>\n",
       "      <td>Leonita Maharani Putri penerima Beasiswa APERT...</td>\n",
       "    </tr>\n",
       "    <tr>\n",
       "      <th>22</th>\n",
       "      <td>University of Technology Sydney (UTS Sydney) s...</td>\n",
       "      <td>University Technology Sydney Sydney saat menja...</td>\n",
       "    </tr>\n",
       "    <tr>\n",
       "      <th>23</th>\n",
       "      <td>Universitas Indonesia (UI) menyerahkan secara ...</td>\n",
       "      <td>Universitas Indonesia menyerahkan secara simbo...</td>\n",
       "    </tr>\n",
       "    <tr>\n",
       "      <th>24</th>\n",
       "      <td>Dosen Universitas Mercu Buana Enjang Pera Iraw...</td>\n",
       "      <td>Dosen Universitas Mercu Buana Enjang Pera Iraw...</td>\n",
       "    </tr>\n",
       "    <tr>\n",
       "      <th>25</th>\n",
       "      <td>Sebanyak 16 perguruan tinggi (PT) Indonesia ma...</td>\n",
       "      <td>Sebanyak perguruan tinggi Indonesia masuk dala...</td>\n",
       "    </tr>\n",
       "  </tbody>\n",
       "</table>\n",
       "</div>\n",
       "      <button class=\"colab-df-convert\" onclick=\"convertToInteractive('df-5bd87f26-3b6e-4490-8f9a-7bca18b26750')\"\n",
       "              title=\"Convert this dataframe to an interactive table.\"\n",
       "              style=\"display:none;\">\n",
       "\n",
       "  <svg xmlns=\"http://www.w3.org/2000/svg\" height=\"24px\"viewBox=\"0 0 24 24\"\n",
       "       width=\"24px\">\n",
       "    <path d=\"M0 0h24v24H0V0z\" fill=\"none\"/>\n",
       "    <path d=\"M18.56 5.44l.94 2.06.94-2.06 2.06-.94-2.06-.94-.94-2.06-.94 2.06-2.06.94zm-11 1L8.5 8.5l.94-2.06 2.06-.94-2.06-.94L8.5 2.5l-.94 2.06-2.06.94zm10 10l.94 2.06.94-2.06 2.06-.94-2.06-.94-.94-2.06-.94 2.06-2.06.94z\"/><path d=\"M17.41 7.96l-1.37-1.37c-.4-.4-.92-.59-1.43-.59-.52 0-1.04.2-1.43.59L10.3 9.45l-7.72 7.72c-.78.78-.78 2.05 0 2.83L4 21.41c.39.39.9.59 1.41.59.51 0 1.02-.2 1.41-.59l7.78-7.78 2.81-2.81c.8-.78.8-2.07 0-2.86zM5.41 20L4 18.59l7.72-7.72 1.47 1.35L5.41 20z\"/>\n",
       "  </svg>\n",
       "      </button>\n",
       "\n",
       "  <style>\n",
       "    .colab-df-container {\n",
       "      display:flex;\n",
       "      flex-wrap:wrap;\n",
       "      gap: 12px;\n",
       "    }\n",
       "\n",
       "    .colab-df-convert {\n",
       "      background-color: #E8F0FE;\n",
       "      border: none;\n",
       "      border-radius: 50%;\n",
       "      cursor: pointer;\n",
       "      display: none;\n",
       "      fill: #1967D2;\n",
       "      height: 32px;\n",
       "      padding: 0 0 0 0;\n",
       "      width: 32px;\n",
       "    }\n",
       "\n",
       "    .colab-df-convert:hover {\n",
       "      background-color: #E2EBFA;\n",
       "      box-shadow: 0px 1px 2px rgba(60, 64, 67, 0.3), 0px 1px 3px 1px rgba(60, 64, 67, 0.15);\n",
       "      fill: #174EA6;\n",
       "    }\n",
       "\n",
       "    [theme=dark] .colab-df-convert {\n",
       "      background-color: #3B4455;\n",
       "      fill: #D2E3FC;\n",
       "    }\n",
       "\n",
       "    [theme=dark] .colab-df-convert:hover {\n",
       "      background-color: #434B5C;\n",
       "      box-shadow: 0px 1px 3px 1px rgba(0, 0, 0, 0.15);\n",
       "      filter: drop-shadow(0px 1px 2px rgba(0, 0, 0, 0.3));\n",
       "      fill: #FFFFFF;\n",
       "    }\n",
       "  </style>\n",
       "\n",
       "      <script>\n",
       "        const buttonEl =\n",
       "          document.querySelector('#df-5bd87f26-3b6e-4490-8f9a-7bca18b26750 button.colab-df-convert');\n",
       "        buttonEl.style.display =\n",
       "          google.colab.kernel.accessAllowed ? 'block' : 'none';\n",
       "\n",
       "        async function convertToInteractive(key) {\n",
       "          const element = document.querySelector('#df-5bd87f26-3b6e-4490-8f9a-7bca18b26750');\n",
       "          const dataTable =\n",
       "            await google.colab.kernel.invokeFunction('convertToInteractive',\n",
       "                                                     [key], {});\n",
       "          if (!dataTable) return;\n",
       "\n",
       "          const docLinkHtml = 'Like what you see? Visit the ' +\n",
       "            '<a target=\"_blank\" href=https://colab.research.google.com/notebooks/data_table.ipynb>data table notebook</a>'\n",
       "            + ' to learn more about interactive tables.';\n",
       "          element.innerHTML = '';\n",
       "          dataTable['output_type'] = 'display_data';\n",
       "          await google.colab.output.renderOutput(dataTable, element);\n",
       "          const docLink = document.createElement('div');\n",
       "          docLink.innerHTML = docLinkHtml;\n",
       "          element.appendChild(docLink);\n",
       "        }\n",
       "      </script>\n",
       "    </div>\n",
       "  </div>\n"
      ],
      "text/plain": [
       "                                            deskripsi  \\\n",
       "0   Penerimaan Peserta Didik Baru (PPDB) DKI Jakar...   \n",
       "1   Angelo Wijaya, alumnus Jurusan Ilmu Hubungan I...   \n",
       "2   PPDB DKI Jakarta 2022 membuka beberapa kategor...   \n",
       "3   Lahir dari semangat untuk mengembalikan cita-c...   \n",
       "4   Sembilan mahasiswa Universitas Indonesia (UI) ...   \n",
       "5   9 mahasiswa prodi Teknik Perkapalan Universita...   \n",
       "6   Bio Energi Indonesia (Bionersia) yang merupaka...   \n",
       "7   Lima mahasiswa Indonesia meraih Juara Tiga The...   \n",
       "8   Indonesia memiliki lebih dari 4.500 perguruan ...   \n",
       "9   Proses Penerimaan Peserta Didik Baru (PPDB) DK...   \n",
       "10  Sedikitnya ada empat fakultas hukum terbaik di...   \n",
       "11  Penerimaan Peserta Didik Baru (PPDB) 2022 DKI ...   \n",
       "12  Indonesia memiliki sejumlah universitas dengan...   \n",
       "13  Madrasah Aliyah Negeri (MAN) Insan Cendekia (I...   \n",
       "14  Siswa MAN 2 Ponorogo, Putri Wahyu Kusumaningty...   \n",
       "15  Apakah kalian seorang mahasiswa yang ingin lul...   \n",
       "16  Telkom University (Tel-U) masih menjadi kampus...   \n",
       "17  Skema penerimaan mahasiswa jalur Seleksi Prest...   \n",
       "18  Lembaga pendidikan vokasi di perguruan tinggi ...   \n",
       "19  Mengerjakan skripsi atau tugas akhir penelitia...   \n",
       "20  Universitas Mercu Buana (UMB) melalui program ...   \n",
       "21  Leonita Maharani Putri, penerima Beasiswa APER...   \n",
       "22  University of Technology Sydney (UTS Sydney) s...   \n",
       "23  Universitas Indonesia (UI) menyerahkan secara ...   \n",
       "24  Dosen Universitas Mercu Buana Enjang Pera Iraw...   \n",
       "25  Sebanyak 16 perguruan tinggi (PT) Indonesia ma...   \n",
       "\n",
       "                               deskripsi_cleaned_text  \n",
       "0   Penerimaan Peserta Didik Baru PPDB Jakarta 202...  \n",
       "1   Angelo Wijaya alumnus Jurusan Ilmu Hubungan In...  \n",
       "2   PPDB Jakarta 2022 membuka beberapa kategori pe...  \n",
       "3   Lahir dari semangat untuk mengembalikan cita-c...  \n",
       "4   Sembilan mahasiswa Universitas Indonesia dari ...  \n",
       "5   mahasiswa prodi Teknik Perkapalan Universitas ...  \n",
       "6   Energi Indonesia Bionersia yang merupakan star...  \n",
       "7   Lima mahasiswa Indonesia meraih Juara Tiga Ame...  \n",
       "8   Indonesia memiliki lebih dari 4.500 perguruan ...  \n",
       "9   Proses Penerimaan Peserta Didik Baru PPDB Jaka...  \n",
       "10  Sedikitnya empat fakultas hukum terbaik Indone...  \n",
       "11  Penerimaan Peserta Didik Baru PPDB 2022 Jakart...  \n",
       "12  Indonesia memiliki sejumlah universitas dengan...  \n",
       "13  Madrasah Aliyah Negeri Insan Cendekia Sambas K...  \n",
       "14  Siswa Ponorogo Putri Wahyu Kusumaningtyas akan...  \n",
       "15  Apakah kalian seorang mahasiswa yang ingin lul...  \n",
       "16  Telkom University Tel-U masih menjadi kampus s...  \n",
       "17  Skema penerimaan mahasiswa jalur Seleksi Prest...  \n",
       "18  Lembaga pendidikan vokasi perguruan tinggi dih...  \n",
       "19  Mengerjakan skripsi atau tugas akhir penelitia...  \n",
       "20  Universitas Mercu Buana melalui program studi ...  \n",
       "21  Leonita Maharani Putri penerima Beasiswa APERT...  \n",
       "22  University Technology Sydney Sydney saat menja...  \n",
       "23  Universitas Indonesia menyerahkan secara simbo...  \n",
       "24  Dosen Universitas Mercu Buana Enjang Pera Iraw...  \n",
       "25  Sebanyak perguruan tinggi Indonesia masuk dala...  "
      ]
     },
     "execution_count": 66,
     "metadata": {},
     "output_type": "execute_result"
    }
   ],
   "source": [
    "df.head(26)"
   ]
  },
  {
   "cell_type": "markdown",
   "metadata": {
    "id": "ZIvhmyvRRgoT"
   },
   "source": [
    "Drop kolom yang tidak diproses, yang akan didrop/ hapus adalah deskripsi"
   ]
  },
  {
   "cell_type": "code",
   "execution_count": null,
   "metadata": {
    "id": "BEqJi3KGRuwK"
   },
   "outputs": [],
   "source": [
    "df.drop(['deskripsi'],axis=1,inplace=True)"
   ]
  },
  {
   "cell_type": "markdown",
   "metadata": {
    "id": "5ej0AEDfSVeU"
   },
   "source": [
    "# Data Deskripsi_cleaned_text"
   ]
  },
  {
   "cell_type": "markdown",
   "metadata": {
    "id": "x9RhHQ-3iJ3-"
   },
   "source": [
    "Tampilkan data deskripsi_cleaned_text"
   ]
  },
  {
   "cell_type": "code",
   "execution_count": null,
   "metadata": {
    "colab": {
     "base_uri": "https://localhost:8080/",
     "height": 865
    },
    "id": "tSe2PiD9QyWO",
    "outputId": "71232dc1-d918-4c64-b98f-9d0588971925"
   },
   "outputs": [
    {
     "data": {
      "text/html": [
       "\n",
       "  <div id=\"df-e1bf70c9-f683-4eec-94dd-4acc711fd676\">\n",
       "    <div class=\"colab-df-container\">\n",
       "      <div>\n",
       "<style scoped>\n",
       "    .dataframe tbody tr th:only-of-type {\n",
       "        vertical-align: middle;\n",
       "    }\n",
       "\n",
       "    .dataframe tbody tr th {\n",
       "        vertical-align: top;\n",
       "    }\n",
       "\n",
       "    .dataframe thead th {\n",
       "        text-align: right;\n",
       "    }\n",
       "</style>\n",
       "<table border=\"1\" class=\"dataframe\">\n",
       "  <thead>\n",
       "    <tr style=\"text-align: right;\">\n",
       "      <th></th>\n",
       "      <th>deskripsi_cleaned_text</th>\n",
       "    </tr>\n",
       "  </thead>\n",
       "  <tbody>\n",
       "    <tr>\n",
       "      <th>0</th>\n",
       "      <td>Penerimaan Peserta Didik Baru PPDB Jakarta 202...</td>\n",
       "    </tr>\n",
       "    <tr>\n",
       "      <th>1</th>\n",
       "      <td>Angelo Wijaya alumnus Jurusan Ilmu Hubungan In...</td>\n",
       "    </tr>\n",
       "    <tr>\n",
       "      <th>2</th>\n",
       "      <td>PPDB Jakarta 2022 membuka beberapa kategori pe...</td>\n",
       "    </tr>\n",
       "    <tr>\n",
       "      <th>3</th>\n",
       "      <td>Lahir dari semangat untuk mengembalikan cita-c...</td>\n",
       "    </tr>\n",
       "    <tr>\n",
       "      <th>4</th>\n",
       "      <td>Sembilan mahasiswa Universitas Indonesia dari ...</td>\n",
       "    </tr>\n",
       "    <tr>\n",
       "      <th>5</th>\n",
       "      <td>mahasiswa prodi Teknik Perkapalan Universitas ...</td>\n",
       "    </tr>\n",
       "    <tr>\n",
       "      <th>6</th>\n",
       "      <td>Energi Indonesia Bionersia yang merupakan star...</td>\n",
       "    </tr>\n",
       "    <tr>\n",
       "      <th>7</th>\n",
       "      <td>Lima mahasiswa Indonesia meraih Juara Tiga Ame...</td>\n",
       "    </tr>\n",
       "    <tr>\n",
       "      <th>8</th>\n",
       "      <td>Indonesia memiliki lebih dari 4.500 perguruan ...</td>\n",
       "    </tr>\n",
       "    <tr>\n",
       "      <th>9</th>\n",
       "      <td>Proses Penerimaan Peserta Didik Baru PPDB Jaka...</td>\n",
       "    </tr>\n",
       "    <tr>\n",
       "      <th>10</th>\n",
       "      <td>Sedikitnya empat fakultas hukum terbaik Indone...</td>\n",
       "    </tr>\n",
       "    <tr>\n",
       "      <th>11</th>\n",
       "      <td>Penerimaan Peserta Didik Baru PPDB 2022 Jakart...</td>\n",
       "    </tr>\n",
       "    <tr>\n",
       "      <th>12</th>\n",
       "      <td>Indonesia memiliki sejumlah universitas dengan...</td>\n",
       "    </tr>\n",
       "    <tr>\n",
       "      <th>13</th>\n",
       "      <td>Madrasah Aliyah Negeri Insan Cendekia Sambas K...</td>\n",
       "    </tr>\n",
       "    <tr>\n",
       "      <th>14</th>\n",
       "      <td>Siswa Ponorogo Putri Wahyu Kusumaningtyas akan...</td>\n",
       "    </tr>\n",
       "    <tr>\n",
       "      <th>15</th>\n",
       "      <td>Apakah kalian seorang mahasiswa yang ingin lul...</td>\n",
       "    </tr>\n",
       "    <tr>\n",
       "      <th>16</th>\n",
       "      <td>Telkom University Tel-U masih menjadi kampus s...</td>\n",
       "    </tr>\n",
       "    <tr>\n",
       "      <th>17</th>\n",
       "      <td>Skema penerimaan mahasiswa jalur Seleksi Prest...</td>\n",
       "    </tr>\n",
       "    <tr>\n",
       "      <th>18</th>\n",
       "      <td>Lembaga pendidikan vokasi perguruan tinggi dih...</td>\n",
       "    </tr>\n",
       "    <tr>\n",
       "      <th>19</th>\n",
       "      <td>Mengerjakan skripsi atau tugas akhir penelitia...</td>\n",
       "    </tr>\n",
       "    <tr>\n",
       "      <th>20</th>\n",
       "      <td>Universitas Mercu Buana melalui program studi ...</td>\n",
       "    </tr>\n",
       "    <tr>\n",
       "      <th>21</th>\n",
       "      <td>Leonita Maharani Putri penerima Beasiswa APERT...</td>\n",
       "    </tr>\n",
       "    <tr>\n",
       "      <th>22</th>\n",
       "      <td>University Technology Sydney Sydney saat menja...</td>\n",
       "    </tr>\n",
       "    <tr>\n",
       "      <th>23</th>\n",
       "      <td>Universitas Indonesia menyerahkan secara simbo...</td>\n",
       "    </tr>\n",
       "    <tr>\n",
       "      <th>24</th>\n",
       "      <td>Dosen Universitas Mercu Buana Enjang Pera Iraw...</td>\n",
       "    </tr>\n",
       "    <tr>\n",
       "      <th>25</th>\n",
       "      <td>Sebanyak perguruan tinggi Indonesia masuk dala...</td>\n",
       "    </tr>\n",
       "  </tbody>\n",
       "</table>\n",
       "</div>\n",
       "      <button class=\"colab-df-convert\" onclick=\"convertToInteractive('df-e1bf70c9-f683-4eec-94dd-4acc711fd676')\"\n",
       "              title=\"Convert this dataframe to an interactive table.\"\n",
       "              style=\"display:none;\">\n",
       "\n",
       "  <svg xmlns=\"http://www.w3.org/2000/svg\" height=\"24px\"viewBox=\"0 0 24 24\"\n",
       "       width=\"24px\">\n",
       "    <path d=\"M0 0h24v24H0V0z\" fill=\"none\"/>\n",
       "    <path d=\"M18.56 5.44l.94 2.06.94-2.06 2.06-.94-2.06-.94-.94-2.06-.94 2.06-2.06.94zm-11 1L8.5 8.5l.94-2.06 2.06-.94-2.06-.94L8.5 2.5l-.94 2.06-2.06.94zm10 10l.94 2.06.94-2.06 2.06-.94-2.06-.94-.94-2.06-.94 2.06-2.06.94z\"/><path d=\"M17.41 7.96l-1.37-1.37c-.4-.4-.92-.59-1.43-.59-.52 0-1.04.2-1.43.59L10.3 9.45l-7.72 7.72c-.78.78-.78 2.05 0 2.83L4 21.41c.39.39.9.59 1.41.59.51 0 1.02-.2 1.41-.59l7.78-7.78 2.81-2.81c.8-.78.8-2.07 0-2.86zM5.41 20L4 18.59l7.72-7.72 1.47 1.35L5.41 20z\"/>\n",
       "  </svg>\n",
       "      </button>\n",
       "\n",
       "  <style>\n",
       "    .colab-df-container {\n",
       "      display:flex;\n",
       "      flex-wrap:wrap;\n",
       "      gap: 12px;\n",
       "    }\n",
       "\n",
       "    .colab-df-convert {\n",
       "      background-color: #E8F0FE;\n",
       "      border: none;\n",
       "      border-radius: 50%;\n",
       "      cursor: pointer;\n",
       "      display: none;\n",
       "      fill: #1967D2;\n",
       "      height: 32px;\n",
       "      padding: 0 0 0 0;\n",
       "      width: 32px;\n",
       "    }\n",
       "\n",
       "    .colab-df-convert:hover {\n",
       "      background-color: #E2EBFA;\n",
       "      box-shadow: 0px 1px 2px rgba(60, 64, 67, 0.3), 0px 1px 3px 1px rgba(60, 64, 67, 0.15);\n",
       "      fill: #174EA6;\n",
       "    }\n",
       "\n",
       "    [theme=dark] .colab-df-convert {\n",
       "      background-color: #3B4455;\n",
       "      fill: #D2E3FC;\n",
       "    }\n",
       "\n",
       "    [theme=dark] .colab-df-convert:hover {\n",
       "      background-color: #434B5C;\n",
       "      box-shadow: 0px 1px 3px 1px rgba(0, 0, 0, 0.15);\n",
       "      filter: drop-shadow(0px 1px 2px rgba(0, 0, 0, 0.3));\n",
       "      fill: #FFFFFF;\n",
       "    }\n",
       "  </style>\n",
       "\n",
       "      <script>\n",
       "        const buttonEl =\n",
       "          document.querySelector('#df-e1bf70c9-f683-4eec-94dd-4acc711fd676 button.colab-df-convert');\n",
       "        buttonEl.style.display =\n",
       "          google.colab.kernel.accessAllowed ? 'block' : 'none';\n",
       "\n",
       "        async function convertToInteractive(key) {\n",
       "          const element = document.querySelector('#df-e1bf70c9-f683-4eec-94dd-4acc711fd676');\n",
       "          const dataTable =\n",
       "            await google.colab.kernel.invokeFunction('convertToInteractive',\n",
       "                                                     [key], {});\n",
       "          if (!dataTable) return;\n",
       "\n",
       "          const docLinkHtml = 'Like what you see? Visit the ' +\n",
       "            '<a target=\"_blank\" href=https://colab.research.google.com/notebooks/data_table.ipynb>data table notebook</a>'\n",
       "            + ' to learn more about interactive tables.';\n",
       "          element.innerHTML = '';\n",
       "          dataTable['output_type'] = 'display_data';\n",
       "          await google.colab.output.renderOutput(dataTable, element);\n",
       "          const docLink = document.createElement('div');\n",
       "          docLink.innerHTML = docLinkHtml;\n",
       "          element.appendChild(docLink);\n",
       "        }\n",
       "      </script>\n",
       "    </div>\n",
       "  </div>\n"
      ],
      "text/plain": [
       "                               deskripsi_cleaned_text\n",
       "0   Penerimaan Peserta Didik Baru PPDB Jakarta 202...\n",
       "1   Angelo Wijaya alumnus Jurusan Ilmu Hubungan In...\n",
       "2   PPDB Jakarta 2022 membuka beberapa kategori pe...\n",
       "3   Lahir dari semangat untuk mengembalikan cita-c...\n",
       "4   Sembilan mahasiswa Universitas Indonesia dari ...\n",
       "5   mahasiswa prodi Teknik Perkapalan Universitas ...\n",
       "6   Energi Indonesia Bionersia yang merupakan star...\n",
       "7   Lima mahasiswa Indonesia meraih Juara Tiga Ame...\n",
       "8   Indonesia memiliki lebih dari 4.500 perguruan ...\n",
       "9   Proses Penerimaan Peserta Didik Baru PPDB Jaka...\n",
       "10  Sedikitnya empat fakultas hukum terbaik Indone...\n",
       "11  Penerimaan Peserta Didik Baru PPDB 2022 Jakart...\n",
       "12  Indonesia memiliki sejumlah universitas dengan...\n",
       "13  Madrasah Aliyah Negeri Insan Cendekia Sambas K...\n",
       "14  Siswa Ponorogo Putri Wahyu Kusumaningtyas akan...\n",
       "15  Apakah kalian seorang mahasiswa yang ingin lul...\n",
       "16  Telkom University Tel-U masih menjadi kampus s...\n",
       "17  Skema penerimaan mahasiswa jalur Seleksi Prest...\n",
       "18  Lembaga pendidikan vokasi perguruan tinggi dih...\n",
       "19  Mengerjakan skripsi atau tugas akhir penelitia...\n",
       "20  Universitas Mercu Buana melalui program studi ...\n",
       "21  Leonita Maharani Putri penerima Beasiswa APERT...\n",
       "22  University Technology Sydney Sydney saat menja...\n",
       "23  Universitas Indonesia menyerahkan secara simbo...\n",
       "24  Dosen Universitas Mercu Buana Enjang Pera Iraw...\n",
       "25  Sebanyak perguruan tinggi Indonesia masuk dala..."
      ]
     },
     "execution_count": 68,
     "metadata": {},
     "output_type": "execute_result"
    }
   ],
   "source": [
    "df.head(26)"
   ]
  },
  {
   "cell_type": "code",
   "execution_count": null,
   "metadata": {
    "colab": {
     "base_uri": "https://localhost:8080/",
     "height": 36
    },
    "id": "CSagT5_pSIlc",
    "outputId": "dd1142b3-cacb-4747-c100-9293261b76eb"
   },
   "outputs": [
    {
     "data": {
      "application/vnd.google.colaboratory.intrinsic+json": {
       "type": "string"
      },
      "text/plain": [
       "'Penerimaan Peserta Didik Baru PPDB Jakarta 2022 membuka jalur Perpindahan Tugas Orang Anak Guru dengan kuota sebanyak persen'"
      ]
     },
     "execution_count": 69,
     "metadata": {},
     "output_type": "execute_result"
    }
   ],
   "source": [
    "df['deskripsi_cleaned_text'][0]"
   ]
  },
  {
   "cell_type": "markdown",
   "metadata": {
    "id": "Flys17oMhCV2"
   },
   "source": [
    "MENGEKSTRAKSI FITUR DAN MEMBUAT DOCUMENT-TERM-MATRIX ( DTM )\n",
    "Di DTM nilainya adalah nilai TFidf.\n",
    "\n",
    "Saya juga telah menentukan beberapa parameter dari vectorizer TF-IDF.\n",
    "\n",
    "Berikut poin penting pada LSA\n",
    "\n",
    "1) LSA umumnya diimplementasikan dengan nilai TF-IDF dimana-mana dan bukan dengan Count Vectorizer.\n",
    "\n",
    "2) max_features tergantung pada daya komputasi Anda dan juga pada eval. matrik (skor koherensi adalah matrik untuk model topik). Cobalah nilai yang memberikan eval terbaik. matrik dan tidak membatasi kekuatan pemrosesan.\n",
    "\n",
    "3) Nilai default untuk min_df &max_df bekerja dengan baik.\n",
    "\n",
    "4) Dapat mencoba nilai yang berbeda untuk ngram_range."
   ]
  },
  {
   "cell_type": "code",
   "execution_count": null,
   "metadata": {
    "id": "o5mhtofMi9Ls"
   },
   "outputs": [],
   "source": [
    "vect =TfidfVectorizer(stop_words=stop_words,max_features=1000)"
   ]
  },
  {
   "cell_type": "code",
   "execution_count": null,
   "metadata": {
    "id": "Rkjzp5zSjEAg"
   },
   "outputs": [],
   "source": [
    "vect_text=vect.fit_transform(df['deskripsi_cleaned_text'])"
   ]
  },
  {
   "cell_type": "markdown",
   "metadata": {
    "id": "KcSu8_GjlPwc"
   },
   "source": [
    "Kita sekarang melihat kata-kata yang paling sering muncul dan langka di berita utama berdasarkan skor idf. Semakin kecil nilainya; lebih umum adalah kata dalam berita utama."
   ]
  },
  {
   "cell_type": "code",
   "execution_count": null,
   "metadata": {
    "colab": {
     "base_uri": "https://localhost:8080/"
    },
    "id": "Xf5vBX5hjP_i",
    "outputId": "4e2c5e6e-c741-42e1-ecd3-2138a3e175bc"
   },
   "outputs": [
    {
     "name": "stdout",
     "output_type": "stream",
     "text": [
      "(26, 302)\n",
      "  (0, 207)\t0.289694729359556\n",
      "  (0, 236)\t0.23395829286047842\n",
      "  (0, 129)\t0.289694729359556\n",
      "  (0, 60)\t0.2013545675846921\n",
      "  (0, 82)\t0.25709100408376967\n",
      "  (0, 15)\t0.23395829286047842\n",
      "  (0, 181)\t0.25709100408376967\n",
      "  (0, 284)\t0.25709100408376967\n",
      "  (0, 206)\t0.25709100408376967\n",
      "  (0, 103)\t0.21601516804251994\n",
      "  (0, 154)\t0.21601516804251994\n",
      "  (0, 3)\t0.2013545675846921\n",
      "  (0, 102)\t0.21601516804251994\n",
      "  (0, 213)\t0.21601516804251994\n",
      "  (0, 30)\t0.2013545675846921\n",
      "  (0, 65)\t0.23395829286047842\n",
      "  (0, 211)\t0.23395829286047842\n",
      "  (0, 198)\t0.2013545675846921\n",
      "  (1, 265)\t0.2394050907133411\n",
      "  (1, 300)\t0.2124612183671009\n",
      "  (1, 81)\t0.2394050907133411\n",
      "  (1, 27)\t0.2394050907133411\n",
      "  (1, 297)\t0.19334423670471124\n",
      "  (1, 180)\t0.2124612183671009\n",
      "  (1, 63)\t0.2394050907133411\n",
      "  :\t:\n",
      "  (24, 69)\t0.27072468617216744\n",
      "  (24, 78)\t0.27072468617216744\n",
      "  (24, 100)\t0.27072468617216744\n",
      "  (24, 201)\t0.27072468617216744\n",
      "  (24, 74)\t0.27072468617216744\n",
      "  (24, 70)\t0.27072468617216744\n",
      "  (24, 125)\t0.2402559464997394\n",
      "  (24, 46)\t0.2402559464997394\n",
      "  (24, 170)\t0.2402559464997394\n",
      "  (24, 169)\t0.2402559464997394\n",
      "  (24, 285)\t0.2721652749864234\n",
      "  (24, 60)\t0.18816929199647553\n",
      "  (25, 204)\t0.31303313863065296\n",
      "  (25, 174)\t0.31303313863065296\n",
      "  (25, 17)\t0.31303313863065296\n",
      "  (25, 190)\t0.31303313863065296\n",
      "  (25, 57)\t0.31303313863065296\n",
      "  (25, 147)\t0.31303313863065296\n",
      "  (25, 225)\t0.2778027895086858\n",
      "  (25, 286)\t0.23341779877621163\n",
      "  (25, 283)\t0.25280645900839627\n",
      "  (25, 202)\t0.25280645900839627\n",
      "  (25, 94)\t0.15734943026417242\n",
      "  (25, 297)\t0.25280645900839627\n",
      "  (25, 236)\t0.25280645900839627\n"
     ]
    }
   ],
   "source": [
    "print(vect_text.shape)\n",
    "print(vect_text)"
   ]
  },
  {
   "cell_type": "code",
   "execution_count": null,
   "metadata": {
    "id": "Zj5ibe5Bjetq"
   },
   "outputs": [],
   "source": [
    "idf=vect.idf_"
   ]
  },
  {
   "cell_type": "code",
   "execution_count": null,
   "metadata": {
    "colab": {
     "base_uri": "https://localhost:8080/"
    },
    "id": "wd09SHhAjpkD",
    "outputId": "ebc2494e-ed46-4e11-beaa-ae3a02cb93bf"
   },
   "outputs": [
    {
     "name": "stdout",
     "output_type": "stream",
     "text": [
      "indonesia zonasi\n",
      "2.9095425048844383\n",
      "3.6026896854443837\n"
     ]
    },
    {
     "name": "stderr",
     "output_type": "stream",
     "text": [
      "/usr/local/lib/python3.7/dist-packages/sklearn/utils/deprecation.py:87: FutureWarning: Function get_feature_names is deprecated; get_feature_names is deprecated in 1.0 and will be removed in 1.2. Please use get_feature_names_out instead.\n",
      "  warnings.warn(msg, category=FutureWarning)\n"
     ]
    }
   ],
   "source": [
    "dd=dict(zip(vect.get_feature_names(), idf))\n",
    "l=sorted(dd, key=(dd).get)\n",
    "# print(l)\n",
    "print(l[0],l[-1])\n",
    "print(dd['anak'])\n",
    "print(dd['aliyah'])"
   ]
  },
  {
   "cell_type": "markdown",
   "metadata": {
    "id": "kju6u_wPmIHv"
   },
   "source": [
    "Oleh karena itu, dapat dilihat bahwa berdasarkan nilai idf, 'anak' adalah kata yang paling sering terklihat. Sedangkan 'aliyah' paling jarang terlihat di antara berita lainnya."
   ]
  },
  {
   "cell_type": "markdown",
   "metadata": {
    "id": "k6O1ytEdDIsN"
   },
   "source": [
    "# Tahap Topic Modelling LSA"
   ]
  },
  {
   "cell_type": "markdown",
   "metadata": {
    "id": "vBZqUGXHDyzV"
   },
   "source": [
    "Latent Semantic Analysis (LSA)\n",
    "\n",
    "Latent Semantic Analysis (LSA), adalah salah satu teknik dasar dalam pemodelan topik. Ide intinya adalah mengambil matriks dari apa yang kita miliki - dokumen dan istilah - dan menguraikannya menjadi matriks topik dokumen dan matriks istilah topik yang terpisah.\n",
    "\n",
    "Pendekatan pertama yang digunakan adalah LSA. LSA pada dasarnya adalah dekomposisi nilai tunggal.\n",
    "\n",
    "SVD menguraikan DTM asli menjadi tiga matriks S=U.(sigma).(V.T). Di sini matriks U menunjukkan matriks dokumen-topik sementara (V) adalah matriks topik-term.\n",
    "\n",
    "Setiap baris dari matriks U (matriks istilah dokumen) adalah representasi vektor dari dokumen yang sesuai. Panjang vektor ini adalah jumlah topik yang diinginkan. Representasi vektor untuk suku-suku dalam data kami dapat ditemukan dalam matriks V (matriks istilah-topik).\n",
    "\n",
    "Jadi, SVD memberi kita vektor untuk setiap dokumen dan istilah dalam data kita. Panjang setiap vektor adalah k. Kami kemudian dapat menggunakan vektor-vektor ini untuk menemukan kata-kata dan dokumen serupa menggunakan metode kesamaan kosinus.\n",
    "\n",
    "Kita dapat menggunakan fungsi truncatedSVD untuk mengimplementasikan LSA. Parameter n_components adalah jumlah topik yang ingin kita ekstrak. Model tersebut kemudian di fit dan ditransformasikan pada hasil yang diberikan oleh vectorizer.\n",
    "\n",
    "Terakhir perhatikan bahwa LSA dan LSI (I untuk pengindeksan) adalah sama dan yang terakhir kadang-kadang digunakan dalam konteks pencarian informasi."
   ]
  },
  {
   "cell_type": "code",
   "execution_count": null,
   "metadata": {
    "id": "5S3PKRtPD7lT"
   },
   "outputs": [],
   "source": [
    "from sklearn.decomposition import TruncatedSVD\n",
    "lsa_model = TruncatedSVD(n_components=10, algorithm='randomized', n_iter=10, random_state=42)\n",
    "\n",
    "lsa_top=lsa_model.fit_transform(vect_text)"
   ]
  },
  {
   "cell_type": "code",
   "execution_count": null,
   "metadata": {
    "colab": {
     "base_uri": "https://localhost:8080/"
    },
    "id": "RoIq98aADOam",
    "outputId": "c422df72-096a-4151-cc09-193c4e29e169"
   },
   "outputs": [
    {
     "name": "stdout",
     "output_type": "stream",
     "text": [
      "[[ 0.72256115 -0.34999338 -0.01600903 -0.0311643   0.02620161 -0.03405063\n",
      "  -0.08216404 -0.05289906 -0.00379401  0.04111651]\n",
      " [ 0.18255235  0.19789991 -0.11438913  0.07576267 -0.02844799  0.1934747\n",
      "  -0.05229691  0.60445616  0.01881249  0.20599098]\n",
      " [ 0.57854562 -0.33048067  0.04883829 -0.00540662 -0.01570786 -0.03255078\n",
      "  -0.10040807 -0.08542666 -0.11089027  0.0580679 ]\n",
      " [ 0.10308558  0.14173346  0.0085351   0.11507792 -0.16731478  0.47940666\n",
      "   0.34453951 -0.17707401 -0.09187048  0.1608037 ]\n",
      " [ 0.19151059  0.40791167  0.49981394  0.17056039 -0.15887891 -0.08576106\n",
      "   0.00476509  0.02043023  0.14914404 -0.04135598]\n",
      " [ 0.18461886  0.40382697  0.5526085   0.18530858 -0.17384387 -0.09792987\n",
      "  -0.02642569  0.04268639  0.1869927  -0.05562639]\n",
      " [ 0.11122132  0.20044947 -0.13427679 -0.03897828 -0.17439021  0.47338019\n",
      "   0.30332848 -0.02328665  0.05597552  0.10883381]\n",
      " [ 0.09985692  0.21137269  0.31022727  0.06713967 -0.07077228 -0.02133334\n",
      "  -0.13590692  0.1261782   0.01438924  0.03138327]\n",
      " [ 0.20809823  0.46776604 -0.26083762 -0.22856888 -0.15492035  0.03191976\n",
      "  -0.19144141 -0.13001901  0.04751252 -0.00182864]\n",
      " [ 0.58098572 -0.30426051 -0.03625221 -0.00800272 -0.04517005  0.12905816\n",
      "   0.12256867  0.10604701  0.15871881 -0.09966007]\n",
      " [ 0.19080849  0.44246428 -0.2583643  -0.29784076 -0.0955469  -0.00960306\n",
      "  -0.05085843 -0.00719973 -0.0520278  -0.3266036 ]\n",
      " [ 0.65315141 -0.31191932 -0.04394009  0.01605383  0.01643861 -0.039621\n",
      "   0.09905667  0.10167015  0.16685681 -0.16272237]\n",
      " [ 0.33894336  0.47933905 -0.24816231 -0.31865913 -0.03521993 -0.15066968\n",
      "   0.01612891  0.15700149 -0.10173149 -0.08553044]\n",
      " [ 0.00730899  0.01085474 -0.01624448  0.01407958 -0.00578676  0.06108014\n",
      "  -0.02122028  0.40097346  0.0425863   0.60389191]\n",
      " [ 0.08118003  0.1100122  -0.18442966  0.24493874  0.24625792 -0.41460457\n",
      "   0.45602379 -0.04058423 -0.03945369  0.12753036]\n",
      " [ 0.14127234  0.28890959  0.01211    -0.16173778 -0.01304131 -0.34499545\n",
      "   0.17705006 -0.03783518 -0.27546224  0.19031038]\n",
      " [ 0.08063113  0.16561777 -0.33998752  0.56564512  0.14731063 -0.00277226\n",
      "  -0.0904053   0.13950251 -0.22030956 -0.12623858]\n",
      " [ 0.35887035  0.04462324  0.27858607  0.05256573 -0.06556882 -0.13808437\n",
      "  -0.18892817 -0.18564505 -0.43320338  0.22241365]\n",
      " [ 0.0310757   0.07410025 -0.15552814  0.13977541  0.00874382  0.01834853\n",
      "  -0.34002566 -0.37275209  0.51620989  0.2578104 ]\n",
      " [ 0.10764801  0.1253812  -0.19186273 -0.28266766  0.00763289 -0.10335211\n",
      "  -0.14370666 -0.12524803  0.26620206  0.28782998]\n",
      " [ 0.06811539  0.12482349  0.18306756 -0.13861477  0.64966769  0.27228113\n",
      "  -0.16570823  0.05146915 -0.11078796 -0.0017421 ]\n",
      " [ 0.06877643  0.09496561 -0.02600312 -0.01541521  0.31009215 -0.2523979\n",
      "   0.35978515 -0.14897627  0.19907012  0.24567349]\n",
      " [ 0.18790385  0.30299375 -0.03482166  0.3195771   0.1677889   0.04848494\n",
      "   0.23227863 -0.01501735  0.29172791 -0.25209745]\n",
      " [ 0.15036325  0.1258096   0.07250887  0.0076021  -0.02389147  0.31475962\n",
      "   0.17298179 -0.40658573 -0.26022607  0.11244054]\n",
      " [ 0.10795313  0.19049554  0.1881823  -0.17865413  0.669473    0.19609679\n",
      "  -0.09096974 -0.02015538  0.02842477 -0.04278895]\n",
      " [ 0.13608897  0.19914061 -0.30913803  0.51689727  0.04527177  0.02442536\n",
      "  -0.3717248  -0.14716273 -0.14001732  0.06875238]]\n",
      "(26, 10)\n"
     ]
    }
   ],
   "source": [
    "print(lsa_top)\n",
    "print(lsa_top.shape)  # (no_of_doc*no_of_topics)"
   ]
  },
  {
   "cell_type": "code",
   "execution_count": null,
   "metadata": {
    "colab": {
     "base_uri": "https://localhost:8080/"
    },
    "id": "xn72IBvuC6mr",
    "outputId": "033c3108-d60b-407a-c015-f36839a6fc68"
   },
   "outputs": [
    {
     "name": "stdout",
     "output_type": "stream",
     "text": [
      "Document 0 :\n",
      "Topic  0  :  72.25611527177617\n",
      "Topic  1  :  -34.999337858095835\n",
      "Topic  2  :  -1.6009032278664757\n",
      "Topic  3  :  -3.1164303299628866\n",
      "Topic  4  :  2.6201605106472274\n",
      "Topic  5  :  -3.4050633364504104\n",
      "Topic  6  :  -8.216403609589888\n",
      "Topic  7  :  -5.289905933750028\n",
      "Topic  8  :  -0.37940062234803357\n",
      "Topic  9  :  4.11165102979716\n"
     ]
    }
   ],
   "source": [
    "l=lsa_top[0]\n",
    "print(\"Document 0 :\")\n",
    "for i,topic in enumerate(l):\n",
    "  print(\"Topic \",i,\" : \",topic*100)"
   ]
  },
  {
   "cell_type": "markdown",
   "metadata": {
    "id": "EMshuV4kn1Fb"
   },
   "source": [
    "Demikian pula untuk dokumen lain kita bisa melakukan proses tersebut. Namun perhatikan bahwa nilai tidak menambah 1 seperti di LSA itu bukan kemungkinan topik dalam dokumen."
   ]
  },
  {
   "cell_type": "code",
   "execution_count": null,
   "metadata": {
    "colab": {
     "base_uri": "https://localhost:8080/"
    },
    "id": "uSOcBRHVExR0",
    "outputId": "481ea1f0-1673-4b4d-c720-3c7893e15f5b"
   },
   "outputs": [
    {
     "name": "stdout",
     "output_type": "stream",
     "text": [
      "(10, 302)\n",
      "[[ 0.06695695  0.0076551   0.02123125 ...  0.00085431  0.01819373\n",
      "   0.06371657]\n",
      " [-0.04118361  0.01241512  0.04020607 ...  0.00149046  0.02352239\n",
      "  -0.04274759]\n",
      " [-0.0069452  -0.00478335 -0.00644305 ... -0.00313765 -0.02089176\n",
      "   0.00888283]\n",
      " ...\n",
      " [ 0.0251672  -0.03443052 -0.00333397 ...  0.09708487  0.20591465\n",
      "  -0.01962102]\n",
      " [ 0.04031578  0.04817892  0.07036253 ...  0.01082368  0.01378376\n",
      "  -0.02629633]\n",
      " [-0.0258872   0.05969074 -0.06155911 ...  0.15447331  0.17985912\n",
      "   0.01396848]]\n"
     ]
    }
   ],
   "source": [
    "print(lsa_model.components_.shape) # (no_of_topics*no_of_words)\n",
    "print(lsa_model.components_)"
   ]
  },
  {
   "cell_type": "markdown",
   "metadata": {
    "id": "b40cLYzHoPol"
   },
   "source": [
    "Pada proses ini mendapatkan daftar kata-kata penting untuk masing-masing dari 10 topik seperti yang ditunjukkan. Untuk proses tahapannya disini ditunjukkan 10 kata untuk setiap topik."
   ]
  },
  {
   "cell_type": "code",
   "execution_count": null,
   "metadata": {
    "colab": {
     "base_uri": "https://localhost:8080/"
    },
    "id": "CopD7Xf0FxUN",
    "outputId": "56e7ef07-25b9-44d0-b453-0864170060e6"
   },
   "outputs": [
    {
     "name": "stdout",
     "output_type": "stream",
     "text": [
      "Topic 0: \n",
      "ppdb 2022 jalur penerimaan jakarta membuka baru didik peserta anak \n",
      "\n",
      "Topic 1: \n",
      "indonesia yang universitas memiliki mahasiswa dari technology bisa fakultas terbaik \n",
      "\n",
      "Topic 2: \n",
      "mahasiswa hydromodelling workshop technology dari competition juara kancah kembali mengharumkan \n",
      "\n",
      "Topic 3: \n",
      "university ranking world menjadi antaranya dalam masuk naik pemeringkatan peringkat \n",
      "\n",
      "Topic 4: \n",
      "komunikasi buana mercu universitas cumlaude doktor dosen enjang gelar irawan \n",
      "\n",
      "Topic 5: \n",
      "untuk cita hadir komunikasi alumnus bionersia emisi energi institut karbon \n",
      "\n",
      "Topic 6: \n",
      "untuk beasiswa putri siswa cita akan mendapatkan hadir wahyu british \n",
      "\n",
      "Topic 7: \n",
      "youth jurusan oleh juara angelo bank berhasil diadakan group hubungan \n",
      "\n",
      "Topic 8: \n",
      "inovasi muda agar sydney technology diharapkan generasi khususnya lembaga mampu \n",
      "\n",
      "Topic 9: \n",
      "youth aliyah victorian young barat cendekia forum global insan kalimantan \n",
      "\n"
     ]
    },
    {
     "name": "stderr",
     "output_type": "stream",
     "text": [
      "/usr/local/lib/python3.7/dist-packages/sklearn/utils/deprecation.py:87: FutureWarning: Function get_feature_names is deprecated; get_feature_names is deprecated in 1.0 and will be removed in 1.2. Please use get_feature_names_out instead.\n",
      "  warnings.warn(msg, category=FutureWarning)\n"
     ]
    }
   ],
   "source": [
    "# most important words for each topic\n",
    "vocab = vect.get_feature_names()\n",
    "\n",
    "for i, comp in enumerate(lsa_model.components_):\n",
    "    vocab_comp = zip(vocab, comp)\n",
    "    sorted_words = sorted(vocab_comp, key= lambda x:x[1], reverse=True)[:10]\n",
    "    print(\"Topic \"+str(i)+\": \")\n",
    "    for t in sorted_words:\n",
    "        print(t[0],end=\" \")\n",
    "    print(\"\\n\")"
   ]
  }
 ],
 "metadata": {
  "colab": {
   "collapsed_sections": [],
   "name": "Topic_Modelling_LSA.ipynb",
   "provenance": []
  },
  "kernelspec": {
   "display_name": "Python 3 (ipykernel)",
   "language": "python",
   "name": "python3"
  },
  "language_info": {
   "codemirror_mode": {
    "name": "ipython",
    "version": 3
   },
   "file_extension": ".py",
   "mimetype": "text/x-python",
   "name": "python",
   "nbconvert_exporter": "python",
   "pygments_lexer": "ipython3",
   "version": "3.8.5"
  }
 },
 "nbformat": 4,
 "nbformat_minor": 1
}