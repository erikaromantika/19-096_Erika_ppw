{
 "cells": [
  {
   "cell_type": "markdown",
   "metadata": {
    "id": "K_FLKmHFYW1l"
   },
   "source": [
    "# TOPIC MODELLING LSA"
   ]
  },
  {
   "cell_type": "markdown",
   "metadata": {
    "id": "ZfUOZ1stICMZ"
   },
   "source": [
    "# Tahap Crawling Data"
   ]
  },
  {
   "cell_type": "markdown",
   "metadata": {},
   "source": [
    "Crawling adalah teknik pengumpulan data yang digunakan untuk mengindeks informasi pada halaman menggunakan URL (Uniform Resource Locator) dengan menyertakan API (Application Programming Interface) untuk melakukan penambangan dataset yang lebih besar."
   ]
  },
  {
   "cell_type": "markdown",
   "metadata": {
    "id": "NJ2BVQNiL5PY"
   },
   "source": [
    "Melakukan Scrapy\n",
    "\n",
    "Scrapy ini adalah library python yang digunakan untuk melakukan scraping/ crawling data"
   ]
  },
  {
   "cell_type": "code",
   "execution_count": 1,
   "metadata": {
    "colab": {
     "base_uri": "https://localhost:8080/"
    },
    "id": "rbMFfFVHIHWb",
    "outputId": "9ea0579d-c257-4f5c-e172-e9b73f468b04"
   },
   "outputs": [
    {
     "name": "stdout",
     "output_type": "stream",
     "text": [
      "Looking in indexes: https://pypi.org/simple, https://us-python.pkg.dev/colab-wheels/public/simple/\n",
      "Collecting scrapy\n",
      "  Downloading Scrapy-2.6.1-py2.py3-none-any.whl (264 kB)\n",
      "\u001b[K     |████████████████████████████████| 264 kB 5.0 MB/s \n",
      "\u001b[?25hCollecting queuelib>=1.4.2\n",
      "  Downloading queuelib-1.6.2-py2.py3-none-any.whl (13 kB)\n",
      "Collecting cryptography>=2.0\n",
      "  Downloading cryptography-37.0.2-cp36-abi3-manylinux_2_24_x86_64.whl (4.0 MB)\n",
      "\u001b[K     |████████████████████████████████| 4.0 MB 59.3 MB/s \n",
      "\u001b[?25hCollecting pyOpenSSL>=16.2.0\n",
      "  Downloading pyOpenSSL-22.0.0-py2.py3-none-any.whl (55 kB)\n",
      "\u001b[K     |████████████████████████████████| 55 kB 3.8 MB/s \n",
      "\u001b[?25hCollecting service-identity>=16.0.0\n",
      "  Downloading service_identity-21.1.0-py2.py3-none-any.whl (12 kB)\n",
      "Collecting tldextract\n",
      "  Downloading tldextract-3.3.0-py3-none-any.whl (93 kB)\n",
      "\u001b[K     |████████████████████████████████| 93 kB 1.8 MB/s \n",
      "\u001b[?25hCollecting itemadapter>=0.1.0\n",
      "  Downloading itemadapter-0.6.0-py3-none-any.whl (10 kB)\n",
      "Collecting itemloaders>=1.0.1\n",
      "  Downloading itemloaders-1.0.4-py3-none-any.whl (11 kB)\n",
      "Collecting Twisted>=17.9.0\n",
      "  Downloading Twisted-22.4.0-py3-none-any.whl (3.1 MB)\n",
      "\u001b[K     |████████████████████████████████| 3.1 MB 45.7 MB/s \n",
      "\u001b[?25hCollecting cssselect>=0.9.1\n",
      "  Downloading cssselect-1.1.0-py2.py3-none-any.whl (16 kB)\n",
      "Collecting parsel>=1.5.0\n",
      "  Downloading parsel-1.6.0-py2.py3-none-any.whl (13 kB)\n",
      "Collecting protego>=0.1.15\n",
      "  Downloading Protego-0.2.1-py2.py3-none-any.whl (8.2 kB)\n",
      "Requirement already satisfied: lxml>=3.5.0 in /usr/local/lib/python3.7/dist-packages (from scrapy) (4.2.6)\n",
      "Collecting zope.interface>=4.1.3\n",
      "  Downloading zope.interface-5.4.0-cp37-cp37m-manylinux2010_x86_64.whl (251 kB)\n",
      "\u001b[K     |████████████████████████████████| 251 kB 67.5 MB/s \n",
      "\u001b[?25hRequirement already satisfied: setuptools in /usr/local/lib/python3.7/dist-packages (from scrapy) (57.4.0)\n",
      "Collecting PyDispatcher>=2.0.5\n",
      "  Downloading PyDispatcher-2.0.5.zip (47 kB)\n",
      "\u001b[K     |████████████████████████████████| 47 kB 3.8 MB/s \n",
      "\u001b[?25hCollecting w3lib>=1.17.0\n",
      "  Downloading w3lib-1.22.0-py2.py3-none-any.whl (20 kB)\n",
      "Requirement already satisfied: cffi>=1.12 in /usr/local/lib/python3.7/dist-packages (from cryptography>=2.0->scrapy) (1.15.0)\n",
      "Requirement already satisfied: pycparser in /usr/local/lib/python3.7/dist-packages (from cffi>=1.12->cryptography>=2.0->scrapy) (2.21)\n",
      "Collecting jmespath>=0.9.5\n",
      "  Downloading jmespath-1.0.0-py3-none-any.whl (23 kB)\n",
      "Requirement already satisfied: six>=1.6.0 in /usr/local/lib/python3.7/dist-packages (from parsel>=1.5.0->scrapy) (1.15.0)\n",
      "Requirement already satisfied: attrs>=19.1.0 in /usr/local/lib/python3.7/dist-packages (from service-identity>=16.0.0->scrapy) (21.4.0)\n",
      "Requirement already satisfied: pyasn1 in /usr/local/lib/python3.7/dist-packages (from service-identity>=16.0.0->scrapy) (0.4.8)\n",
      "Requirement already satisfied: pyasn1-modules in /usr/local/lib/python3.7/dist-packages (from service-identity>=16.0.0->scrapy) (0.2.8)\n",
      "Collecting constantly>=15.1\n",
      "  Downloading constantly-15.1.0-py2.py3-none-any.whl (7.9 kB)\n",
      "Requirement already satisfied: typing-extensions>=3.6.5 in /usr/local/lib/python3.7/dist-packages (from Twisted>=17.9.0->scrapy) (4.2.0)\n",
      "Collecting incremental>=21.3.0\n",
      "  Downloading incremental-21.3.0-py2.py3-none-any.whl (15 kB)\n",
      "Collecting Automat>=0.8.0\n",
      "  Downloading Automat-20.2.0-py2.py3-none-any.whl (31 kB)\n",
      "Collecting hyperlink>=17.1.1\n",
      "  Downloading hyperlink-21.0.0-py2.py3-none-any.whl (74 kB)\n",
      "\u001b[K     |████████████████████████████████| 74 kB 2.6 MB/s \n",
      "\u001b[?25hRequirement already satisfied: idna>=2.5 in /usr/local/lib/python3.7/dist-packages (from hyperlink>=17.1.1->Twisted>=17.9.0->scrapy) (2.10)\n",
      "Collecting requests-file>=1.4\n",
      "  Downloading requests_file-1.5.1-py2.py3-none-any.whl (3.7 kB)\n",
      "Requirement already satisfied: filelock>=3.0.8 in /usr/local/lib/python3.7/dist-packages (from tldextract->scrapy) (3.7.1)\n",
      "Requirement already satisfied: requests>=2.1.0 in /usr/local/lib/python3.7/dist-packages (from tldextract->scrapy) (2.23.0)\n",
      "Requirement already satisfied: certifi>=2017.4.17 in /usr/local/lib/python3.7/dist-packages (from requests>=2.1.0->tldextract->scrapy) (2022.5.18.1)\n",
      "Requirement already satisfied: urllib3!=1.25.0,!=1.25.1,<1.26,>=1.21.1 in /usr/local/lib/python3.7/dist-packages (from requests>=2.1.0->tldextract->scrapy) (1.24.3)\n",
      "Requirement already satisfied: chardet<4,>=3.0.2 in /usr/local/lib/python3.7/dist-packages (from requests>=2.1.0->tldextract->scrapy) (3.0.4)\n",
      "Building wheels for collected packages: PyDispatcher\n",
      "  Building wheel for PyDispatcher (setup.py) ... \u001b[?25l\u001b[?25hdone\n",
      "  Created wheel for PyDispatcher: filename=PyDispatcher-2.0.5-py3-none-any.whl size=11516 sha256=ef9f758631891b6eddc8c8558a8b69964b98179eb6a5125a70b8be14f53fb3df\n",
      "  Stored in directory: /root/.cache/pip/wheels/2d/18/21/3c6a732eaa69a339198e08bb63b7da2c45933a3428b29ec454\n",
      "Successfully built PyDispatcher\n",
      "Installing collected packages: w3lib, cssselect, zope.interface, requests-file, parsel, jmespath, itemadapter, incremental, hyperlink, cryptography, constantly, Automat, Twisted, tldextract, service-identity, queuelib, pyOpenSSL, PyDispatcher, protego, itemloaders, scrapy\n",
      "Successfully installed Automat-20.2.0 PyDispatcher-2.0.5 Twisted-22.4.0 constantly-15.1.0 cryptography-37.0.2 cssselect-1.1.0 hyperlink-21.0.0 incremental-21.3.0 itemadapter-0.6.0 itemloaders-1.0.4 jmespath-1.0.0 parsel-1.6.0 protego-0.2.1 pyOpenSSL-22.0.0 queuelib-1.6.2 requests-file-1.5.1 scrapy-2.6.1 service-identity-21.1.0 tldextract-3.3.0 w3lib-1.22.0 zope.interface-5.4.0\n"
     ]
    }
   ],
   "source": [
    "!pip install scrapy"
   ]
  },
  {
   "cell_type": "code",
   "execution_count": 2,
   "metadata": {
    "id": "VD0dukkbJZUR"
   },
   "outputs": [],
   "source": [
    "import scrapy\n",
    "from scrapy.crawler import CrawlerProcess"
   ]
  },
  {
   "cell_type": "markdown",
   "metadata": {
    "id": "nKNe1ekrTU-d"
   },
   "source": [
    "Pada bagian ini dilakukan proses crawling pada data web berita. Lalu memasukkan url yang dituju. \n",
    "\n",
    "Disini dilakukan crawling pada web sindonews dengan mengambil data berupa judul, waktu, kategori, dan deskripsi."
   ]
  },
  {
   "cell_type": "code",
   "execution_count": 3,
   "metadata": {
    "colab": {
     "base_uri": "https://localhost:8080/"
    },
    "id": "z7ZKePJyJkGQ",
    "outputId": "a7c409cd-11e9-49dc-a819-8519777e122d"
   },
   "outputs": [
    {
     "name": "stderr",
     "output_type": "stream",
     "text": [
      "2022-06-15 11:36:18 [scrapy.utils.log] INFO: Scrapy 2.6.1 started (bot: scrapybot)\n",
      "2022-06-15 11:36:18 [scrapy.utils.log] INFO: Versions: lxml 4.2.6.0, libxml2 2.9.8, cssselect 1.1.0, parsel 1.6.0, w3lib 1.22.0, Twisted 22.4.0, Python 3.7.13 (default, Apr 24 2022, 01:04:09) - [GCC 7.5.0], pyOpenSSL 22.0.0 (OpenSSL 3.0.3 3 May 2022), cryptography 37.0.2, Platform Linux-5.4.188+-x86_64-with-Ubuntu-18.04-bionic\n",
      "2022-06-15 11:36:18 [scrapy.crawler] INFO: Overridden settings:\n",
      "{}\n",
      "2022-06-15 11:36:18 [scrapy.utils.log] DEBUG: Using reactor: twisted.internet.epollreactor.EPollReactor\n",
      "2022-06-15 11:36:18 [scrapy.extensions.telnet] INFO: Telnet Password: 7dbb935f56e341b6\n",
      "/usr/local/lib/python3.7/dist-packages/scrapy/extensions/feedexport.py:289: ScrapyDeprecationWarning: The `FEED_URI` and `FEED_FORMAT` settings have been deprecated in favor of the `FEEDS` setting. Please see the `FEEDS` setting docs for more details\n",
      "  exporter = cls(crawler)\n",
      "2022-06-15 11:36:18 [scrapy.middleware] INFO: Enabled extensions:\n",
      "['scrapy.extensions.corestats.CoreStats',\n",
      " 'scrapy.extensions.telnet.TelnetConsole',\n",
      " 'scrapy.extensions.memusage.MemoryUsage',\n",
      " 'scrapy.extensions.feedexport.FeedExporter',\n",
      " 'scrapy.extensions.logstats.LogStats']\n",
      "2022-06-15 11:36:18 [scrapy.middleware] INFO: Enabled downloader middlewares:\n",
      "['scrapy.downloadermiddlewares.httpauth.HttpAuthMiddleware',\n",
      " 'scrapy.downloadermiddlewares.downloadtimeout.DownloadTimeoutMiddleware',\n",
      " 'scrapy.downloadermiddlewares.defaultheaders.DefaultHeadersMiddleware',\n",
      " 'scrapy.downloadermiddlewares.useragent.UserAgentMiddleware',\n",
      " 'scrapy.downloadermiddlewares.retry.RetryMiddleware',\n",
      " 'scrapy.downloadermiddlewares.redirect.MetaRefreshMiddleware',\n",
      " 'scrapy.downloadermiddlewares.httpcompression.HttpCompressionMiddleware',\n",
      " 'scrapy.downloadermiddlewares.redirect.RedirectMiddleware',\n",
      " 'scrapy.downloadermiddlewares.cookies.CookiesMiddleware',\n",
      " 'scrapy.downloadermiddlewares.httpproxy.HttpProxyMiddleware',\n",
      " 'scrapy.downloadermiddlewares.stats.DownloaderStats']\n",
      "2022-06-15 11:36:18 [scrapy.middleware] INFO: Enabled spider middlewares:\n",
      "['scrapy.spidermiddlewares.httperror.HttpErrorMiddleware',\n",
      " 'scrapy.spidermiddlewares.offsite.OffsiteMiddleware',\n",
      " 'scrapy.spidermiddlewares.referer.RefererMiddleware',\n",
      " 'scrapy.spidermiddlewares.urllength.UrlLengthMiddleware',\n",
      " 'scrapy.spidermiddlewares.depth.DepthMiddleware']\n",
      "2022-06-15 11:36:18 [scrapy.middleware] INFO: Enabled item pipelines:\n",
      "[]\n",
      "2022-06-15 11:36:18 [scrapy.core.engine] INFO: Spider opened\n",
      "2022-06-15 11:36:19 [scrapy.extensions.logstats] INFO: Crawled 0 pages (at 0 pages/min), scraped 0 items (at 0 items/min)\n",
      "2022-06-15 11:36:19 [scrapy.extensions.telnet] INFO: Telnet console listening on 127.0.0.1:6023\n",
      "2022-06-15 11:36:19 [scrapy.downloadermiddlewares.redirect] DEBUG: Redirecting (301) to <GET https://edukasi.sindonews.com/> from <GET https://edukasi.sindonews.com/edukasi>\n",
      "2022-06-15 11:36:20 [scrapy.core.engine] DEBUG: Crawled (200) <GET https://edukasi.sindonews.com/> (referer: None)\n",
      "2022-06-15 11:36:20 [scrapy.core.scraper] DEBUG: Scraped from <200 https://edukasi.sindonews.com/>\n",
      "{'judul': '5 Kampus dengan Jurusan Seni Rupa Terbaik di Indonesia, Bisa Jadi Referensi', 'waktu': 'Rabu, 15 Juni 2022 - 17:19 WIB', 'kategori': 'Kampus', 'deskripsi': 'Cukup banyak anak muda saat ini yang memiliki kemampuan dan cita-cita menjadi seorang seniman seperti pelukis, penari, pematung, atau bahkan bercita-cita menjadi seorang sutradara dan animator.'}\n",
      "2022-06-15 11:36:20 [scrapy.core.scraper] DEBUG: Scraped from <200 https://edukasi.sindonews.com/>\n",
      "{'judul': None, 'waktu': None, 'kategori': None, 'deskripsi': None}\n",
      "2022-06-15 11:36:20 [scrapy.core.scraper] DEBUG: Scraped from <200 https://edukasi.sindonews.com/>\n",
      "{'judul': '5 Kampus dengan Jurusan Seni Rupa Terbaik di Indonesia, Bisa Jadi Referensi', 'waktu': 'Rabu, 15 Juni 2022 - 17:19 WIB', 'kategori': 'Kampus', 'deskripsi': 'Cukup banyak anak muda saat ini yang memiliki kemampuan dan cita-cita menjadi seorang seniman seperti pelukis, penari, pematung, atau bahkan bercita-cita menjadi seorang sutradara dan animator.'}\n",
      "2022-06-15 11:36:20 [scrapy.core.scraper] DEBUG: Scraped from <200 https://edukasi.sindonews.com/>\n",
      "{'judul': 'Kabar Baik, Lulusan SMK Kini Bisa Tempuh Sarjana di Jerman', 'waktu': 'Rabu, 15 Juni 2022 - 16:35 WIB', 'kategori': 'Sekolah', 'deskripsi': 'Atdikbud KBRI Berlin Ardi Marwan menjelaskan mulai 2022 siswa SMK dari Indonesia berkesempatan melanjutkan pendidikan sarjana di berbagai universitas di Jerman.'}\n",
      "2022-06-15 11:36:20 [scrapy.core.scraper] DEBUG: Scraped from <200 https://edukasi.sindonews.com/>\n",
      "{'judul': 'Gelar Wisuda 2022, ISTN Lahirkan 423 Sarjana Berkualitas dan Unggul', 'waktu': 'Rabu, 15 Juni 2022 - 15:19 WIB', 'kategori': 'Kampus', 'deskripsi': 'Institut Sains dan Teknologi Nasional (ISTN) menggelar wisuda untuk Program Diploma, Sarjana, Profesi Apoteker dan Pascasarjana semester ganjil Tahun Akademik 2021/2022.'}\n",
      "2022-06-15 11:36:20 [scrapy.core.scraper] DEBUG: Scraped from <200 https://edukasi.sindonews.com/>\n",
      "{'judul': 'Partai Perindo: Mars Partai Perindo dengan QR Code', 'waktu': None, 'kategori': 'Video', 'deskripsi': 'Lahir dari semangat untuk mengembalikan cita-cita kemerdekaan, Partai Perindo hadir untuk membangun Indonesia menjadi negara bersatu, berdaulat, adil dan makmur berlandaskan Pancasila.'}\n",
      "2022-06-15 11:36:20 [scrapy.core.scraper] DEBUG: Scraped from <200 https://edukasi.sindonews.com/>\n",
      "{'judul': 'UPN Veteran Jakarta Buka Penerimaan Mahasiswa Baru Jalur Seleksi Mandiri', 'waktu': 'Rabu, 15 Juni 2022 - 13:26 WIB', 'kategori': 'Kampus', 'deskripsi': 'Universitas Pembangunan Nasional Veteran Jakarta (UPNVJ) mulai membuka penerimaan mahasiswa baru jalur Seleksi Mandiri jenjang SI pada 14 Juni 2022.'}\n",
      "2022-06-15 11:36:20 [scrapy.core.scraper] DEBUG: Scraped from <200 https://edukasi.sindonews.com/>\n",
      "{'judul': 'Siswa MAN IC Pasuruan Juara II Kompetisi Internasional Science 2022 di AS', 'waktu': 'Rabu, 15 Juni 2022 - 12:07 WIB', 'kategori': 'Sekolah', 'deskripsi': 'Prestasi internasional kembali ditorehkan siswi MAN IC Pasuruan. Salwa Putri dinobatkan sebagai juara kedua Internasional Science Without Borders Challenge 2022.'}\n",
      "2022-06-15 11:36:20 [scrapy.core.scraper] DEBUG: Scraped from <200 https://edukasi.sindonews.com/>\n",
      "{'judul': 'Prodi MICE PNJ Gelar Event INAMICE 2022', 'waktu': 'Rabu, 15 Juni 2022 - 11:53 WIB', 'kategori': 'Kampus', 'deskripsi': 'Program Studi MICE Politeknik Negeri Jakarta (PNJ) bersama dengan Kementerian Pariwisata dan Ekonomi Kreatif (Kemenparekraf) menyelenggarakan INAMICE 2022.'}\n",
      "2022-06-15 11:36:20 [scrapy.core.scraper] DEBUG: Scraped from <200 https://edukasi.sindonews.com/>\n",
      "{'judul': '15 Universitas Terbaik dengan Jurusan Akuntansi, Ini Daftarnya', 'waktu': 'Rabu, 15 Juni 2022 - 11:46 WIB', 'kategori': 'Kampus', 'deskripsi': 'Mereka yang memutuskan untuk menempuh kuliah jurusan akuntansi tentu harus memahami apa yang akan mereka pelajari nantinya. Jurusan kuliah ini memiliki peluang kerja cukup tinggi.'}\n",
      "2022-06-15 11:36:20 [scrapy.core.scraper] DEBUG: Scraped from <200 https://edukasi.sindonews.com/>\n",
      "{'judul': 'PPDB Jateng 2022 SMA-SMK Dimulai Hari Ini, Cek Jadwal, Syarat, dan Alur Pendaftarannya', 'waktu': 'Rabu, 15 Juni 2022 - 10:13 WIB', 'kategori': 'Sekolah', 'deskripsi': 'PPDB jenjang SMA dan SMK 2022 di Provinsi Jawa Tengah (Jateng) mulai dibuka. Pendaftaran dilakukan secara online di laman resmi ppdb.jatengprov.go.id.'}\n",
      "2022-06-15 11:36:20 [scrapy.core.scraper] DEBUG: Scraped from <200 https://edukasi.sindonews.com/>\n",
      "{'judul': 'Justin Bieber Terkena Ramsay Hunt, Pakar Unair Ungkap Gejala dan Penyembuhannya', 'waktu': 'Rabu, 15 Juni 2022 - 09:05 WIB', 'kategori': 'Kampus', 'deskripsi': 'Justin Bieber mengumumkan dirinya terkena Ramsay Hunt Syndrome., Dosen Fakultas Kedokteran Unair pun membeberkan mengenai gejala dan metode penyembuhannya.'}\n",
      "2022-06-15 11:36:20 [scrapy.core.scraper] DEBUG: Scraped from <200 https://edukasi.sindonews.com/>\n",
      "{'judul': None, 'waktu': None, 'kategori': None, 'deskripsi': None}\n",
      "2022-06-15 11:36:20 [scrapy.core.scraper] DEBUG: Scraped from <200 https://edukasi.sindonews.com/>\n",
      "{'judul': 'Wabah PMK Merebak, Ini Tips Pilih Hewan Kurban dari Pakar UGM', 'waktu': 'Rabu, 15 Juni 2022 - 08:19 WIB', 'kategori': 'Kampus', 'deskripsi': 'Direktur Pusat Kajian Halal Fakultas Peternakan UGM mengimbau masyarakat untuk meningkatkan kewaspadaan saat membeli hewan ternak jelang hari raya kurban.'}\n",
      "2022-06-15 11:36:20 [scrapy.core.scraper] DEBUG: Scraped from <200 https://edukasi.sindonews.com/>\n",
      "{'judul': 'Program Internasionalisasi Kampus, UP Jalin Kerja Sama dengan TUI Jerman', 'waktu': 'Rabu, 15 Juni 2022 - 07:57 WIB', 'kategori': 'Kampus', 'deskripsi': 'Universitas Pancasila (UP) pada hari Selasa (14/6/2022) menandatangani Memorandum of Understanding (MOU) dengan Technische Universitt Ilmenau (TUI) Jerman.'}\n",
      "2022-06-15 11:36:20 [scrapy.core.scraper] DEBUG: Scraped from <200 https://edukasi.sindonews.com/>\n",
      "{'judul': 'Kisah Inspiratif, Anak Penjual Petis Dilantik Jadi Rektor UINSA Surabaya', 'waktu': 'Rabu, 15 Juni 2022 - 05:17 WIB', 'kategori': 'Kampus', 'deskripsi': 'Prof. Akhmad Muzakki membuktikan diri bahwa latar belakang ekonomi keluarga yang biasa-biasa saja tidak menghalangi cita-citanya untuk menjadi orang sukses.'}\n",
      "2022-06-15 11:36:20 [scrapy.core.scraper] DEBUG: Scraped from <200 https://edukasi.sindonews.com/>\n",
      "{'judul': 'Ners Unair: 6 Vitamin untuk Kulit agar Tetap Sehat dan Jenis Makanannya', 'waktu': 'Selasa, 14 Juni 2022 - 22:12 WIB', 'kategori': 'Kampus', 'deskripsi': 'Fakultas Keperawatan Universitas Airlangga(Ners Unair) menyebutkan berbagai jenis vitamin yang cocok untuk kulit. Vitamin apa saja itu?'}\n",
      "2022-06-15 11:36:21 [scrapy.core.scraper] DEBUG: Scraped from <200 https://edukasi.sindonews.com/>\n",
      "{'judul': 'Alumni SMA Pradita Dirgantara Raih Beasiswa di University of Chicago AS', 'waktu': 'Selasa, 14 Juni 2022 - 21:57 WIB', 'kategori': 'Beasiswa', 'deskripsi': 'Walau masih berusia belia, namun prestasi SMA Pradita Dirgantara tidak diragukan lagi. Terbukti banyak alumninya yang mendapatkan beasiswa di dalam maupun luar negeri.'}\n",
      "2022-06-15 11:36:21 [scrapy.core.scraper] DEBUG: Scraped from <200 https://edukasi.sindonews.com/>\n",
      "{'judul': 'Prodi Penmas FIP UNJ Gelar Seminar Internasional dan Munas Hapenmasi', 'waktu': 'Selasa, 14 Juni 2022 - 20:20 WIB', 'kategori': 'Kampus', 'deskripsi': 'Program Studi Pendidikan Masyarakat, Fakultas Ilmu Pendidikan Universitas Negeri Jakarta (Prodi Penmas FIP UNJ) menyelenggarakan seminar internasional .'}\n",
      "2022-06-15 11:36:21 [scrapy.core.scraper] DEBUG: Scraped from <200 https://edukasi.sindonews.com/>\n",
      "{'judul': 'Diikuti 7.038 Peserta, UIN Jakarta Gelar Seleksi UM-PTKIN', 'waktu': 'Selasa, 14 Juni 2022 - 19:31 WIB', 'kategori': 'Kampus', 'deskripsi': 'Universitas Islam Negeri Syarif Hidayatullah (UIN Jakarta) memulai hari pertama seleksi Ujian Masuk Perguruan Tinggi Keagamaan Islam Negeri (UM-PTKIN) 2022.'}\n",
      "2022-06-15 11:36:21 [scrapy.core.scraper] DEBUG: Scraped from <200 https://edukasi.sindonews.com/>\n",
      "{'judul': 'Tertarik Jadi Guru? Daftar Pendidikan Profesi Guru Kemendikbudristek 2022', 'waktu': 'Selasa, 14 Juni 2022 - 19:13 WIB', 'kategori': 'Kampus', 'deskripsi': 'Ditjen GTK Kemendikbudristek mengundang putra-putri terbaik bangsa untuk mengikuti seleksi calon Mahasiswa Program Pendidikan Profesi Guru (PPG) Prajabatan 2022.'}\n",
      "2022-06-15 11:36:21 [scrapy.core.scraper] DEBUG: Scraped from <200 https://edukasi.sindonews.com/>\n",
      "{'judul': 'Ini 4 Kampus Luar Jawa dengan Fakultas Kedokteran Terbaik, Nomor Terakhir di Sumatera Utara', 'waktu': 'Selasa, 14 Juni 2022 - 18:22 WIB', 'kategori': 'Kampus', 'deskripsi': 'Sedikitnya ada empat jurusan kedokteran terbaik di Indobesia yang bisa diketahui. Meskipun terkenal dengan biaya kuliah yang mahal, namun jurusan ini bisa memberikan prospek yang bagus bagi lulusannya.'}\n",
      "2022-06-15 11:36:21 [scrapy.core.scraper] DEBUG: Scraped from <200 https://edukasi.sindonews.com/>\n",
      "{'judul': 'Seleksi Wilayah Kontes Robot Indonesia 2022 Berakhir, ITS Juarai 4 Kategori', 'waktu': 'Selasa, 14 Juni 2022 - 17:46 WIB', 'kategori': 'Kampus', 'deskripsi': 'Institut Teknologi Sepuluh Nopember (ITS) berhasil menuntaskan kewajiban sebagai tuan rumah Kontes Robot Indonesia (KRI) Tingkat Wilayah bersama Puspresnas.'}\n",
      "2022-06-15 11:36:21 [scrapy.core.scraper] DEBUG: Scraped from <200 https://edukasi.sindonews.com/>\n",
      "{'judul': 'Polsri dan Trakindo Berbagi Wawasan Bantu Siapkan Mahasiswa Berkarier', 'waktu': 'Selasa, 14 Juni 2022 - 17:04 WIB', 'kategori': 'Kampus', 'deskripsi': 'Berkolaborasi dengan Politeknik Negeri Sriwijaya (Polsri), Trakindo kembali menggelar Trakindo Goes to Campus (TGTC) yang diikuti 526 mahasiswa dan pengajar.'}\n",
      "2022-06-15 11:36:21 [scrapy.core.scraper] DEBUG: Scraped from <200 https://edukasi.sindonews.com/>\n",
      "{'judul': 'Indonesia Raih Penghargaan Kependudukan dari PBB', 'waktu': 'Selasa, 14 Juni 2022 - 16:48 WIB', 'kategori': 'Sponsored', 'deskripsi': 'Indonesia meraih Penghargaan Kependudukan dari Perserikatan Bangsa Bangsa (PBB) atau United Nations Population Award (UNPA). Indonesia dinilai telah memberikan kontribusi yang luar biasa dan kesadaran terhadap isu kependudukan serta solusi yang telah dilakukan.'}\n",
      "2022-06-15 11:36:21 [scrapy.core.scraper] DEBUG: Scraped from <200 https://edukasi.sindonews.com/>\n",
      "{'judul': 'Esai Jadi Syarat Penting Raih Beasiswa, Ini 8 Tips Menulisnya', 'waktu': 'Selasa, 14 Juni 2022 - 15:58 WIB', 'kategori': 'Beasiswa', 'deskripsi': 'Bagi pemburu beasiswa, menulis esai dengan baik dan benar itu wajib. Sebab sebagian besar lembaga penyalur beasiswa mengharuskan pendaftar untuk menulis esai.'}\n",
      "2022-06-15 11:36:21 [scrapy.core.scraper] DEBUG: Scraped from <200 https://edukasi.sindonews.com/>\n",
      "{'judul': 'Mahasiswa UNY Olah Kulit Singkong Jadi Mie yang Aman Dikonsumsi Penderita Diabetes', 'waktu': 'Selasa, 14 Juni 2022 - 13:10 WIB', 'kategori': 'Kampus', 'deskripsi': 'Sekelompok mahasiswa UNY membuat mie dari kulit singkong yang dinamakan Miesi dan dinilai aman untuk dikonsumsi anak autis ataupun penderita diabetes.'}\n",
      "2022-06-15 11:36:21 [scrapy.core.scraper] DEBUG: Scraped from <200 https://edukasi.sindonews.com/>\n",
      "{'judul': '6 Hal yang Sering Ditanyakan di Jalur PTO dan Anak Guru PPDB DKI 2022', 'waktu': 'Selasa, 14 Juni 2022 - 11:23 WIB', 'kategori': 'Sekolah', 'deskripsi': 'Penerimaan Peserta Didik Baru (PPDB) DKI Jakarta 2022 membuka jalur Perpindahan Tugas Orang Tua (PTO) dan Anak Guru. dengan kuota sebanyak 2 persen.'}\n",
      "2022-06-15 11:36:21 [scrapy.core.scraper] DEBUG: Scraped from <200 https://edukasi.sindonews.com/>\n",
      "{'judul': 'Angelo Wijaya , Alumnus UGM Raih Juara 1 di Kompetisi Global Bank Dunia', 'waktu': 'Selasa, 14 Juni 2022 - 09:50 WIB', 'kategori': 'Kampus', 'deskripsi': 'Angelo Wijaya, alumnus Jurusan Ilmu Hubungan Internasional UGM berhasil menjadi juara pertama kompetisi yang diadakan oleh World Bank Group Youth Summit 2022.'}\n",
      "2022-06-15 11:36:21 [scrapy.core.scraper] DEBUG: Scraped from <200 https://edukasi.sindonews.com/>\n",
      "{'judul': None, 'waktu': None, 'kategori': None, 'deskripsi': None}\n",
      "2022-06-15 11:36:21 [scrapy.core.scraper] DEBUG: Scraped from <200 https://edukasi.sindonews.com/>\n",
      "{'judul': None, 'waktu': None, 'kategori': None, 'deskripsi': None}\n",
      "2022-06-15 11:36:21 [scrapy.core.scraper] DEBUG: Scraped from <200 https://edukasi.sindonews.com/>\n",
      "{'judul': None, 'waktu': None, 'kategori': None, 'deskripsi': None}\n",
      "2022-06-15 11:36:21 [scrapy.core.scraper] DEBUG: Scraped from <200 https://edukasi.sindonews.com/>\n",
      "{'judul': None, 'waktu': None, 'kategori': None, 'deskripsi': None}\n",
      "2022-06-15 11:36:21 [scrapy.core.engine] INFO: Closing spider (finished)\n",
      "2022-06-15 11:36:21 [scrapy.extensions.feedexport] INFO: Stored csv feed (33 items) in: crawlingweb.csv\n",
      "2022-06-15 11:36:21 [scrapy.statscollectors] INFO: Dumping Scrapy stats:\n",
      "{'downloader/request_bytes': 449,\n",
      " 'downloader/request_count': 2,\n",
      " 'downloader/request_method_count/GET': 2,\n",
      " 'downloader/response_bytes': 25423,\n",
      " 'downloader/response_count': 2,\n",
      " 'downloader/response_status_count/200': 1,\n",
      " 'downloader/response_status_count/301': 1,\n",
      " 'elapsed_time_seconds': 2.042656,\n",
      " 'feedexport/success_count/FileFeedStorage': 1,\n",
      " 'finish_reason': 'finished',\n",
      " 'finish_time': datetime.datetime(2022, 6, 15, 11, 36, 21, 63719),\n",
      " 'httpcompression/response_bytes': 111851,\n",
      " 'httpcompression/response_count': 1,\n",
      " 'item_scraped_count': 33,\n",
      " 'log_count/DEBUG': 36,\n",
      " 'log_count/INFO': 11,\n",
      " 'memusage/max': 131305472,\n",
      " 'memusage/startup': 131305472,\n",
      " 'response_received_count': 1,\n",
      " 'scheduler/dequeued': 2,\n",
      " 'scheduler/dequeued/memory': 2,\n",
      " 'scheduler/enqueued': 2,\n",
      " 'scheduler/enqueued/memory': 2,\n",
      " 'start_time': datetime.datetime(2022, 6, 15, 11, 36, 19, 21063)}\n",
      "2022-06-15 11:36:21 [scrapy.core.engine] INFO: Spider closed (finished)\n"
     ]
    }
   ],
   "source": [
    "class ScrapingWeb(scrapy.Spider):    \n",
    "    name = \"sindonews\"\n",
    "    keyword = 'edukasi'\n",
    "    start_urls = [\n",
    "        'https://edukasi.sindonews.com/'+keyword\n",
    "        ]\n",
    "    custom_settings = {\n",
    "        'FEED_FORMAT': 'csv',\n",
    "        'FEED_URI': 'crawlingweb.csv'\n",
    "        }\n",
    "    \n",
    "    def parse(self, response):\n",
    "        for data in response.css('div.sinfix'):\n",
    "            yield {\n",
    "                'judul': data.css('div.title a::text').get(),\n",
    "                'waktu': data.css('time::text').get(),\n",
    "                'kategori':data.css('span::text').get(),\n",
    "                'deskripsi': data.css('div.subcaption::text').get()\n",
    "                }\n",
    "proses = CrawlerProcess()\n",
    "proses.crawl(ScrapingWeb)\n",
    "proses.start()"
   ]
  },
  {
   "cell_type": "markdown",
   "metadata": {
    "id": "UIuyXAs1x4uE"
   },
   "source": [
    "# Melakukan Import Module"
   ]
  },
  {
   "cell_type": "markdown",
   "metadata": {
    "id": "QRZGFMmd0__7"
   },
   "source": [
    "Terdapat beberapa library yang harus diimport terlebih dahulu.\n",
    "- Numpy: NumPy (Numerical Python) adalah library Python yang fokus pada scientific computing dan memiliki kemampuan untuk membentuk objek N-dimensional array, yang mirip dengan list pada Python. Keunggulan NumPy array dibandingkan dengan list pada Python adalah konsumsi memory yang lebih kecil serta runtime yang lebih cepat.\n",
    "\n",
    "- Pandas (Python for Data Analysis) adalah library Python yang fokus untuk proses analisis data seperti manipulasi data, persiapan data, dan pembersihan data. Pandas menyediakan struktur data dan fungsi high-level untuk membuat data lebih terstruktur, lebih cepat, mudah. Dalam pandas terdapat dua objek yang sering dibahas, yaitu DataFrame dan Series.\n",
    "\n",
    "- matplotlib.pyplot adalah kumpulan fungsi yang membuat beberapa perubahan pada gambar. misalnya membuat gambar, membuat area plot dalam gambar, menambah label di plot dan lainnya. Biasanya untuk mempermudah secara umum matplotlib.pyplot disingkat menjadi plt import matplotlib.pyplot as plt\n",
    "\n",
    "- Matplotlib adalah library Python yang fokus pada visualisasi data yang biasa difungsikan membuat plot grafik. matplotlib tersebut dipanggil dan dilakukan import style.\n",
    "\n",
    "- Seaborn memiliki banyak fungsi untuk visualisasi data dan lebih mudah digunakan untuk menggunakan library seaborn kita harus install library ini terlebih dahulu dengan menggunakan PIP pip install seaborn Untuk menggunakannya import terlebih dahulu dengan perintah seperti ini import seaborn as sns."
   ]
  },
  {
   "cell_type": "code",
   "execution_count": null,
   "metadata": {
    "id": "ZxSqXPYG0Ms8"
   },
   "outputs": [],
   "source": [
    "# data visualisation and manipulation\n",
    "import numpy as np\n",
    "import pandas as pd\n",
    "import matplotlib.pyplot as plt\n",
    "from matplotlib import style\n",
    "import seaborn as sns"
   ]
  },
  {
   "cell_type": "markdown",
   "metadata": {
    "id": "cp_PXACj8SzE"
   },
   "source": [
    "Melakukan Konfigurasi\n",
    "\n",
    "set matplotlib ke inline dan menampilkan grafik di bawah sel yang sesuai."
   ]
  },
  {
   "cell_type": "code",
   "execution_count": null,
   "metadata": {
    "id": "1Xhe0ayJxHaK"
   },
   "outputs": [],
   "source": [
    "#configure\n",
    "# sets matplotlib to inline and displays graphs below the corressponding cell.\n",
    "%matplotlib inline  \n",
    "style.use('fivethirtyeight')\n",
    "sns.set(style='whitegrid',color_codes=True)"
   ]
  },
  {
   "cell_type": "markdown",
   "metadata": {},
   "source": [
    "# Persiapan Preprocessing"
   ]
  },
  {
   "cell_type": "markdown",
   "metadata": {
    "id": "vA9S_sxECEP-"
   },
   "source": [
    "Preprocessing Data merupakan tahapan dalam melakukan mining data. Data Preprocessing atau praproses data biasanya dilakukan melalui cara eliminasi data yang tidak sesuai.\n",
    "\n",
    "- Stopwords di nltk adalah kata yang paling umum dalam data. Itu adalah kata-kata yang tidak ingin digunakan untuk menggambarkan topik data dan telah ditentukan sebelumnya juga tidak dapat dihapus.\n",
    "\n",
    "- Tokenization pada dasarnya mengacu pada pemisahan teks yang lebih besar menjadi baris yang lebih kecil, kata-kata atau bahkan membuat kata-kata untuk bahasa non-Inggris. "
   ]
  },
  {
   "cell_type": "code",
   "execution_count": null,
   "metadata": {
    "id": "8RP8VZUl17nC"
   },
   "outputs": [],
   "source": [
    "#preprocessing\n",
    "from nltk.corpus import stopwords  #stopwords\n",
    "from nltk import word_tokenize,sent_tokenize # tokenizing\n",
    "from nltk.stem import PorterStemmer,LancasterStemmer  # using the Porter Stemmer and Lancaster Stemmer and others\n",
    "from nltk.stem.snowball import SnowballStemmer\n",
    "from nltk.stem import WordNetLemmatizer  # lammatizer from WordNet"
   ]
  },
  {
   "cell_type": "code",
   "execution_count": null,
   "metadata": {
    "id": "OZqYQHr13TSN"
   },
   "outputs": [],
   "source": [
    "# for named entity recognition (NER)\n",
    "from nltk import ne_chunk"
   ]
  },
  {
   "cell_type": "code",
   "execution_count": null,
   "metadata": {
    "id": "nCEP-VWC3n9u"
   },
   "outputs": [],
   "source": [
    "# vectorizers for creating the document-term-matrix (DTM)\n",
    "from sklearn.feature_extraction.text import TfidfVectorizer,CountVectorizer"
   ]
  },
  {
   "cell_type": "markdown",
   "metadata": {
    "id": "Fm26tb5lbds2"
   },
   "source": [
    "Melakukan instalasi nltk. Nltk (toolkit bahasa alami) adalah salah satu library python suite yang berisi program yang digunakan untuk melakukan pemrosesan bahasa statistik. "
   ]
  },
  {
   "cell_type": "code",
   "execution_count": null,
   "metadata": {
    "colab": {
     "base_uri": "https://localhost:8080/"
    },
    "id": "u9_gg2IN4EfI",
    "outputId": "b81998d6-15ed-4126-bb15-207e03fc1a08"
   },
   "outputs": [
    {
     "name": "stdout",
     "output_type": "stream",
     "text": [
      "Looking in indexes: https://pypi.org/simple, https://us-python.pkg.dev/colab-wheels/public/simple/\n",
      "Requirement already satisfied: nltk in /usr/local/lib/python3.7/dist-packages (3.7)\n",
      "Requirement already satisfied: regex>=2021.8.3 in /usr/local/lib/python3.7/dist-packages (from nltk) (2022.6.2)\n",
      "Requirement already satisfied: tqdm in /usr/local/lib/python3.7/dist-packages (from nltk) (4.64.0)\n",
      "Requirement already satisfied: click in /usr/local/lib/python3.7/dist-packages (from nltk) (7.1.2)\n",
      "Requirement already satisfied: joblib in /usr/local/lib/python3.7/dist-packages (from nltk) (1.1.0)\n"
     ]
    }
   ],
   "source": [
    "!pip install nltk"
   ]
  },
  {
   "cell_type": "code",
   "execution_count": null,
   "metadata": {
    "colab": {
     "base_uri": "https://localhost:8080/"
    },
    "id": "1A0BXhJ94JwW",
    "outputId": "585056c5-5f76-47d3-9c8f-c93100d2e2ff"
   },
   "outputs": [
    {
     "name": "stderr",
     "output_type": "stream",
     "text": [
      "[nltk_data] Downloading package stopwords to /root/nltk_data...\n",
      "[nltk_data]   Package stopwords is already up-to-date!\n"
     ]
    },
    {
     "data": {
      "text/plain": [
       "True"
      ]
     },
     "execution_count": 56,
     "metadata": {},
     "output_type": "execute_result"
    }
   ],
   "source": [
    "import nltk\n",
    "nltk.download('stopwords')"
   ]
  },
  {
   "cell_type": "code",
   "execution_count": null,
   "metadata": {
    "id": "eECfQB0U3unM"
   },
   "outputs": [],
   "source": [
    "#stop-words\n",
    "stop_words=set(nltk.corpus.stopwords.words('english'))"
   ]
  },
  {
   "cell_type": "markdown",
   "metadata": {
    "id": "2q3Cj25U4dF0"
   },
   "source": [
    "# Menampilkan Dataset"
   ]
  },
  {
   "cell_type": "markdown",
   "metadata": {
    "id": "o4XGx-FOXsvi"
   },
   "source": [
    "Disini dilakukan proses untuk menampilkan data yang bernama crawlingweb.csv"
   ]
  },
  {
   "cell_type": "code",
   "execution_count": null,
   "metadata": {
    "id": "DxYgANNr4lOq"
   },
   "outputs": [],
   "source": [
    "df=pd.read_csv(r'crawlingweb.csv')"
   ]
  },
  {
   "cell_type": "code",
   "execution_count": null,
   "metadata": {
    "colab": {
     "base_uri": "https://localhost:8080/",
     "height": 206
    },
    "id": "u_thbWXF5Nb4",
    "outputId": "d67b2202-e100-48a2-bf89-24b34b3a9680"
   },
   "outputs": [
    {
     "data": {
      "text/html": [
       "\n",
       "  <div id=\"df-51b051dc-9381-40c6-b68a-8a6a5b370237\">\n",
       "    <div class=\"colab-df-container\">\n",
       "      <div>\n",
       "<style scoped>\n",
       "    .dataframe tbody tr th:only-of-type {\n",
       "        vertical-align: middle;\n",
       "    }\n",
       "\n",
       "    .dataframe tbody tr th {\n",
       "        vertical-align: top;\n",
       "    }\n",
       "\n",
       "    .dataframe thead th {\n",
       "        text-align: right;\n",
       "    }\n",
       "</style>\n",
       "<table border=\"1\" class=\"dataframe\">\n",
       "  <thead>\n",
       "    <tr style=\"text-align: right;\">\n",
       "      <th></th>\n",
       "      <th>judul</th>\n",
       "      <th>waktu</th>\n",
       "      <th>kategori</th>\n",
       "      <th>deskripsi</th>\n",
       "    </tr>\n",
       "  </thead>\n",
       "  <tbody>\n",
       "    <tr>\n",
       "      <th>0</th>\n",
       "      <td>6 Hal yang Sering Ditanyakan di Jalur PTO dan ...</td>\n",
       "      <td>Selasa, 14 Juni 2022 - 11:23 WIB</td>\n",
       "      <td>Sekolah</td>\n",
       "      <td>Penerimaan Peserta Didik Baru (PPDB) DKI Jakar...</td>\n",
       "    </tr>\n",
       "    <tr>\n",
       "      <th>1</th>\n",
       "      <td>Angelo Wijaya , Alumnus UGM Raih Juara 1 di Ko...</td>\n",
       "      <td>Selasa, 14 Juni 2022 - 09:50 WIB</td>\n",
       "      <td>Kampus</td>\n",
       "      <td>Angelo Wijaya, alumnus Jurusan Ilmu Hubungan I...</td>\n",
       "    </tr>\n",
       "    <tr>\n",
       "      <th>2</th>\n",
       "      <td>PPDB DKI Jakarta 2022, Serba-serbi Jalur Prestasi</td>\n",
       "      <td>Selasa, 14 Juni 2022 - 09:29 WIB</td>\n",
       "      <td>Sekolah</td>\n",
       "      <td>PPDB DKI Jakarta 2022 membuka beberapa kategor...</td>\n",
       "    </tr>\n",
       "    <tr>\n",
       "      <th>3</th>\n",
       "      <td>Partai Perindo: Mars Partai Perindo dengan QR ...</td>\n",
       "      <td>NaN</td>\n",
       "      <td>Video</td>\n",
       "      <td>Lahir dari semangat untuk mengembalikan cita-c...</td>\n",
       "    </tr>\n",
       "    <tr>\n",
       "      <th>4</th>\n",
       "      <td>Mahasiswa UI Raih Juara Ajang Internasional Fe...</td>\n",
       "      <td>Senin, 13 Juni 2022 - 20:44 WIB</td>\n",
       "      <td>Kampus</td>\n",
       "      <td>Sembilan mahasiswa Universitas Indonesia (UI) ...</td>\n",
       "    </tr>\n",
       "  </tbody>\n",
       "</table>\n",
       "</div>\n",
       "      <button class=\"colab-df-convert\" onclick=\"convertToInteractive('df-51b051dc-9381-40c6-b68a-8a6a5b370237')\"\n",
       "              title=\"Convert this dataframe to an interactive table.\"\n",
       "              style=\"display:none;\">\n",
       "        \n",
       "  <svg xmlns=\"http://www.w3.org/2000/svg\" height=\"24px\"viewBox=\"0 0 24 24\"\n",
       "       width=\"24px\">\n",
       "    <path d=\"M0 0h24v24H0V0z\" fill=\"none\"/>\n",
       "    <path d=\"M18.56 5.44l.94 2.06.94-2.06 2.06-.94-2.06-.94-.94-2.06-.94 2.06-2.06.94zm-11 1L8.5 8.5l.94-2.06 2.06-.94-2.06-.94L8.5 2.5l-.94 2.06-2.06.94zm10 10l.94 2.06.94-2.06 2.06-.94-2.06-.94-.94-2.06-.94 2.06-2.06.94z\"/><path d=\"M17.41 7.96l-1.37-1.37c-.4-.4-.92-.59-1.43-.59-.52 0-1.04.2-1.43.59L10.3 9.45l-7.72 7.72c-.78.78-.78 2.05 0 2.83L4 21.41c.39.39.9.59 1.41.59.51 0 1.02-.2 1.41-.59l7.78-7.78 2.81-2.81c.8-.78.8-2.07 0-2.86zM5.41 20L4 18.59l7.72-7.72 1.47 1.35L5.41 20z\"/>\n",
       "  </svg>\n",
       "      </button>\n",
       "      \n",
       "  <style>\n",
       "    .colab-df-container {\n",
       "      display:flex;\n",
       "      flex-wrap:wrap;\n",
       "      gap: 12px;\n",
       "    }\n",
       "\n",
       "    .colab-df-convert {\n",
       "      background-color: #E8F0FE;\n",
       "      border: none;\n",
       "      border-radius: 50%;\n",
       "      cursor: pointer;\n",
       "      display: none;\n",
       "      fill: #1967D2;\n",
       "      height: 32px;\n",
       "      padding: 0 0 0 0;\n",
       "      width: 32px;\n",
       "    }\n",
       "\n",
       "    .colab-df-convert:hover {\n",
       "      background-color: #E2EBFA;\n",
       "      box-shadow: 0px 1px 2px rgba(60, 64, 67, 0.3), 0px 1px 3px 1px rgba(60, 64, 67, 0.15);\n",
       "      fill: #174EA6;\n",
       "    }\n",
       "\n",
       "    [theme=dark] .colab-df-convert {\n",
       "      background-color: #3B4455;\n",
       "      fill: #D2E3FC;\n",
       "    }\n",
       "\n",
       "    [theme=dark] .colab-df-convert:hover {\n",
       "      background-color: #434B5C;\n",
       "      box-shadow: 0px 1px 3px 1px rgba(0, 0, 0, 0.15);\n",
       "      filter: drop-shadow(0px 1px 2px rgba(0, 0, 0, 0.3));\n",
       "      fill: #FFFFFF;\n",
       "    }\n",
       "  </style>\n",
       "\n",
       "      <script>\n",
       "        const buttonEl =\n",
       "          document.querySelector('#df-51b051dc-9381-40c6-b68a-8a6a5b370237 button.colab-df-convert');\n",
       "        buttonEl.style.display =\n",
       "          google.colab.kernel.accessAllowed ? 'block' : 'none';\n",
       "\n",
       "        async function convertToInteractive(key) {\n",
       "          const element = document.querySelector('#df-51b051dc-9381-40c6-b68a-8a6a5b370237');\n",
       "          const dataTable =\n",
       "            await google.colab.kernel.invokeFunction('convertToInteractive',\n",
       "                                                     [key], {});\n",
       "          if (!dataTable) return;\n",
       "\n",
       "          const docLinkHtml = 'Like what you see? Visit the ' +\n",
       "            '<a target=\"_blank\" href=https://colab.research.google.com/notebooks/data_table.ipynb>data table notebook</a>'\n",
       "            + ' to learn more about interactive tables.';\n",
       "          element.innerHTML = '';\n",
       "          dataTable['output_type'] = 'display_data';\n",
       "          await google.colab.output.renderOutput(dataTable, element);\n",
       "          const docLink = document.createElement('div');\n",
       "          docLink.innerHTML = docLinkHtml;\n",
       "          element.appendChild(docLink);\n",
       "        }\n",
       "      </script>\n",
       "    </div>\n",
       "  </div>\n",
       "  "
      ],
      "text/plain": [
       "                                               judul  \\\n",
       "0  6 Hal yang Sering Ditanyakan di Jalur PTO dan ...   \n",
       "1  Angelo Wijaya , Alumnus UGM Raih Juara 1 di Ko...   \n",
       "2  PPDB DKI Jakarta 2022, Serba-serbi Jalur Prestasi   \n",
       "3  Partai Perindo: Mars Partai Perindo dengan QR ...   \n",
       "4  Mahasiswa UI Raih Juara Ajang Internasional Fe...   \n",
       "\n",
       "                              waktu kategori  \\\n",
       "0  Selasa, 14 Juni 2022 - 11:23 WIB  Sekolah   \n",
       "1  Selasa, 14 Juni 2022 - 09:50 WIB   Kampus   \n",
       "2  Selasa, 14 Juni 2022 - 09:29 WIB  Sekolah   \n",
       "3                               NaN    Video   \n",
       "4   Senin, 13 Juni 2022 - 20:44 WIB   Kampus   \n",
       "\n",
       "                                           deskripsi  \n",
       "0  Penerimaan Peserta Didik Baru (PPDB) DKI Jakar...  \n",
       "1  Angelo Wijaya, alumnus Jurusan Ilmu Hubungan I...  \n",
       "2  PPDB DKI Jakarta 2022 membuka beberapa kategor...  \n",
       "3  Lahir dari semangat untuk mengembalikan cita-c...  \n",
       "4  Sembilan mahasiswa Universitas Indonesia (UI) ...  "
      ]
     },
     "execution_count": 59,
     "metadata": {},
     "output_type": "execute_result"
    }
   ],
   "source": [
    "df.head()"
   ]
  },
  {
   "cell_type": "markdown",
   "metadata": {
    "id": "K3l-VvoUeaiP"
   },
   "source": [
    "Lakukan drop kolom pada judul, waktu dan kategori, karena yang akan diproses datanya disini adalah deskripsi."
   ]
  },
  {
   "cell_type": "code",
   "execution_count": null,
   "metadata": {
    "id": "uFkCMmEY5nFL"
   },
   "outputs": [],
   "source": [
    "# drop judul, waktu, kategori\n",
    "df.drop(['judul','waktu','kategori'],axis=1,inplace=True)"
   ]
  },
  {
   "cell_type": "markdown",
   "metadata": {
    "id": "ZQdyhUUjfLlC"
   },
   "source": [
    "Menampilkan data berupa 'deskripsi' dengan 26 record data"
   ]
  },
  {
   "cell_type": "code",
   "execution_count": null,
   "metadata": {
    "colab": {
     "base_uri": "https://localhost:8080/",
     "height": 865
    },
    "id": "hWOSnoDSNp1X",
    "outputId": "9e8acff5-e476-41d4-beb7-dfdd9b07ce8a"
   },
   "outputs": [
    {
     "data": {
      "text/html": [
       "\n",
       "  <div id=\"df-e73c932a-70af-4cf7-8f52-77a6cfd37d0a\">\n",
       "    <div class=\"colab-df-container\">\n",
       "      <div>\n",
       "<style scoped>\n",
       "    .dataframe tbody tr th:only-of-type {\n",
       "        vertical-align: middle;\n",
       "    }\n",
       "\n",
       "    .dataframe tbody tr th {\n",
       "        vertical-align: top;\n",
       "    }\n",
       "\n",
       "    .dataframe thead th {\n",
       "        text-align: right;\n",
       "    }\n",
       "</style>\n",
       "<table border=\"1\" class=\"dataframe\">\n",
       "  <thead>\n",
       "    <tr style=\"text-align: right;\">\n",
       "      <th></th>\n",
       "      <th>deskripsi</th>\n",
       "    </tr>\n",
       "  </thead>\n",
       "  <tbody>\n",
       "    <tr>\n",
       "      <th>0</th>\n",
       "      <td>Penerimaan Peserta Didik Baru (PPDB) DKI Jakar...</td>\n",
       "    </tr>\n",
       "    <tr>\n",
       "      <th>1</th>\n",
       "      <td>Angelo Wijaya, alumnus Jurusan Ilmu Hubungan I...</td>\n",
       "    </tr>\n",
       "    <tr>\n",
       "      <th>2</th>\n",
       "      <td>PPDB DKI Jakarta 2022 membuka beberapa kategor...</td>\n",
       "    </tr>\n",
       "    <tr>\n",
       "      <th>3</th>\n",
       "      <td>Lahir dari semangat untuk mengembalikan cita-c...</td>\n",
       "    </tr>\n",
       "    <tr>\n",
       "      <th>4</th>\n",
       "      <td>Sembilan mahasiswa Universitas Indonesia (UI) ...</td>\n",
       "    </tr>\n",
       "    <tr>\n",
       "      <th>5</th>\n",
       "      <td>9 mahasiswa prodi Teknik Perkapalan Universita...</td>\n",
       "    </tr>\n",
       "    <tr>\n",
       "      <th>6</th>\n",
       "      <td>Bio Energi Indonesia (Bionersia) yang merupaka...</td>\n",
       "    </tr>\n",
       "    <tr>\n",
       "      <th>7</th>\n",
       "      <td>Lima mahasiswa Indonesia meraih Juara Tiga The...</td>\n",
       "    </tr>\n",
       "    <tr>\n",
       "      <th>8</th>\n",
       "      <td>Indonesia memiliki lebih dari 4.500 perguruan ...</td>\n",
       "    </tr>\n",
       "    <tr>\n",
       "      <th>9</th>\n",
       "      <td>Proses Penerimaan Peserta Didik Baru (PPDB) DK...</td>\n",
       "    </tr>\n",
       "    <tr>\n",
       "      <th>10</th>\n",
       "      <td>Sedikitnya ada empat fakultas hukum terbaik di...</td>\n",
       "    </tr>\n",
       "    <tr>\n",
       "      <th>11</th>\n",
       "      <td>Penerimaan Peserta Didik Baru (PPDB) 2022 DKI ...</td>\n",
       "    </tr>\n",
       "    <tr>\n",
       "      <th>12</th>\n",
       "      <td>Indonesia memiliki sejumlah universitas dengan...</td>\n",
       "    </tr>\n",
       "    <tr>\n",
       "      <th>13</th>\n",
       "      <td>Madrasah Aliyah Negeri (MAN) Insan Cendekia (I...</td>\n",
       "    </tr>\n",
       "    <tr>\n",
       "      <th>14</th>\n",
       "      <td>Siswa MAN 2 Ponorogo, Putri Wahyu Kusumaningty...</td>\n",
       "    </tr>\n",
       "    <tr>\n",
       "      <th>15</th>\n",
       "      <td>Apakah kalian seorang mahasiswa yang ingin lul...</td>\n",
       "    </tr>\n",
       "    <tr>\n",
       "      <th>16</th>\n",
       "      <td>Telkom University (Tel-U) masih menjadi kampus...</td>\n",
       "    </tr>\n",
       "    <tr>\n",
       "      <th>17</th>\n",
       "      <td>Skema penerimaan mahasiswa jalur Seleksi Prest...</td>\n",
       "    </tr>\n",
       "    <tr>\n",
       "      <th>18</th>\n",
       "      <td>Lembaga pendidikan vokasi di perguruan tinggi ...</td>\n",
       "    </tr>\n",
       "    <tr>\n",
       "      <th>19</th>\n",
       "      <td>Mengerjakan skripsi atau tugas akhir penelitia...</td>\n",
       "    </tr>\n",
       "    <tr>\n",
       "      <th>20</th>\n",
       "      <td>Universitas Mercu Buana (UMB) melalui program ...</td>\n",
       "    </tr>\n",
       "    <tr>\n",
       "      <th>21</th>\n",
       "      <td>Leonita Maharani Putri, penerima Beasiswa APER...</td>\n",
       "    </tr>\n",
       "    <tr>\n",
       "      <th>22</th>\n",
       "      <td>University of Technology Sydney (UTS Sydney) s...</td>\n",
       "    </tr>\n",
       "    <tr>\n",
       "      <th>23</th>\n",
       "      <td>Universitas Indonesia (UI) menyerahkan secara ...</td>\n",
       "    </tr>\n",
       "    <tr>\n",
       "      <th>24</th>\n",
       "      <td>Dosen Universitas Mercu Buana Enjang Pera Iraw...</td>\n",
       "    </tr>\n",
       "    <tr>\n",
       "      <th>25</th>\n",
       "      <td>Sebanyak 16 perguruan tinggi (PT) Indonesia ma...</td>\n",
       "    </tr>\n",
       "  </tbody>\n",
       "</table>\n",
       "</div>\n",
       "      <button class=\"colab-df-convert\" onclick=\"convertToInteractive('df-e73c932a-70af-4cf7-8f52-77a6cfd37d0a')\"\n",
       "              title=\"Convert this dataframe to an interactive table.\"\n",
       "              style=\"display:none;\">\n",
       "        \n",
       "  <svg xmlns=\"http://www.w3.org/2000/svg\" height=\"24px\"viewBox=\"0 0 24 24\"\n",
       "       width=\"24px\">\n",
       "    <path d=\"M0 0h24v24H0V0z\" fill=\"none\"/>\n",
       "    <path d=\"M18.56 5.44l.94 2.06.94-2.06 2.06-.94-2.06-.94-.94-2.06-.94 2.06-2.06.94zm-11 1L8.5 8.5l.94-2.06 2.06-.94-2.06-.94L8.5 2.5l-.94 2.06-2.06.94zm10 10l.94 2.06.94-2.06 2.06-.94-2.06-.94-.94-2.06-.94 2.06-2.06.94z\"/><path d=\"M17.41 7.96l-1.37-1.37c-.4-.4-.92-.59-1.43-.59-.52 0-1.04.2-1.43.59L10.3 9.45l-7.72 7.72c-.78.78-.78 2.05 0 2.83L4 21.41c.39.39.9.59 1.41.59.51 0 1.02-.2 1.41-.59l7.78-7.78 2.81-2.81c.8-.78.8-2.07 0-2.86zM5.41 20L4 18.59l7.72-7.72 1.47 1.35L5.41 20z\"/>\n",
       "  </svg>\n",
       "      </button>\n",
       "      \n",
       "  <style>\n",
       "    .colab-df-container {\n",
       "      display:flex;\n",
       "      flex-wrap:wrap;\n",
       "      gap: 12px;\n",
       "    }\n",
       "\n",
       "    .colab-df-convert {\n",
       "      background-color: #E8F0FE;\n",
       "      border: none;\n",
       "      border-radius: 50%;\n",
       "      cursor: pointer;\n",
       "      display: none;\n",
       "      fill: #1967D2;\n",
       "      height: 32px;\n",
       "      padding: 0 0 0 0;\n",
       "      width: 32px;\n",
       "    }\n",
       "\n",
       "    .colab-df-convert:hover {\n",
       "      background-color: #E2EBFA;\n",
       "      box-shadow: 0px 1px 2px rgba(60, 64, 67, 0.3), 0px 1px 3px 1px rgba(60, 64, 67, 0.15);\n",
       "      fill: #174EA6;\n",
       "    }\n",
       "\n",
       "    [theme=dark] .colab-df-convert {\n",
       "      background-color: #3B4455;\n",
       "      fill: #D2E3FC;\n",
       "    }\n",
       "\n",
       "    [theme=dark] .colab-df-convert:hover {\n",
       "      background-color: #434B5C;\n",
       "      box-shadow: 0px 1px 3px 1px rgba(0, 0, 0, 0.15);\n",
       "      filter: drop-shadow(0px 1px 2px rgba(0, 0, 0, 0.3));\n",
       "      fill: #FFFFFF;\n",
       "    }\n",
       "  </style>\n",
       "\n",
       "      <script>\n",
       "        const buttonEl =\n",
       "          document.querySelector('#df-e73c932a-70af-4cf7-8f52-77a6cfd37d0a button.colab-df-convert');\n",
       "        buttonEl.style.display =\n",
       "          google.colab.kernel.accessAllowed ? 'block' : 'none';\n",
       "\n",
       "        async function convertToInteractive(key) {\n",
       "          const element = document.querySelector('#df-e73c932a-70af-4cf7-8f52-77a6cfd37d0a');\n",
       "          const dataTable =\n",
       "            await google.colab.kernel.invokeFunction('convertToInteractive',\n",
       "                                                     [key], {});\n",
       "          if (!dataTable) return;\n",
       "\n",
       "          const docLinkHtml = 'Like what you see? Visit the ' +\n",
       "            '<a target=\"_blank\" href=https://colab.research.google.com/notebooks/data_table.ipynb>data table notebook</a>'\n",
       "            + ' to learn more about interactive tables.';\n",
       "          element.innerHTML = '';\n",
       "          dataTable['output_type'] = 'display_data';\n",
       "          await google.colab.output.renderOutput(dataTable, element);\n",
       "          const docLink = document.createElement('div');\n",
       "          docLink.innerHTML = docLinkHtml;\n",
       "          element.appendChild(docLink);\n",
       "        }\n",
       "      </script>\n",
       "    </div>\n",
       "  </div>\n",
       "  "
      ],
      "text/plain": [
       "                                            deskripsi\n",
       "0   Penerimaan Peserta Didik Baru (PPDB) DKI Jakar...\n",
       "1   Angelo Wijaya, alumnus Jurusan Ilmu Hubungan I...\n",
       "2   PPDB DKI Jakarta 2022 membuka beberapa kategor...\n",
       "3   Lahir dari semangat untuk mengembalikan cita-c...\n",
       "4   Sembilan mahasiswa Universitas Indonesia (UI) ...\n",
       "5   9 mahasiswa prodi Teknik Perkapalan Universita...\n",
       "6   Bio Energi Indonesia (Bionersia) yang merupaka...\n",
       "7   Lima mahasiswa Indonesia meraih Juara Tiga The...\n",
       "8   Indonesia memiliki lebih dari 4.500 perguruan ...\n",
       "9   Proses Penerimaan Peserta Didik Baru (PPDB) DK...\n",
       "10  Sedikitnya ada empat fakultas hukum terbaik di...\n",
       "11  Penerimaan Peserta Didik Baru (PPDB) 2022 DKI ...\n",
       "12  Indonesia memiliki sejumlah universitas dengan...\n",
       "13  Madrasah Aliyah Negeri (MAN) Insan Cendekia (I...\n",
       "14  Siswa MAN 2 Ponorogo, Putri Wahyu Kusumaningty...\n",
       "15  Apakah kalian seorang mahasiswa yang ingin lul...\n",
       "16  Telkom University (Tel-U) masih menjadi kampus...\n",
       "17  Skema penerimaan mahasiswa jalur Seleksi Prest...\n",
       "18  Lembaga pendidikan vokasi di perguruan tinggi ...\n",
       "19  Mengerjakan skripsi atau tugas akhir penelitia...\n",
       "20  Universitas Mercu Buana (UMB) melalui program ...\n",
       "21  Leonita Maharani Putri, penerima Beasiswa APER...\n",
       "22  University of Technology Sydney (UTS Sydney) s...\n",
       "23  Universitas Indonesia (UI) menyerahkan secara ...\n",
       "24  Dosen Universitas Mercu Buana Enjang Pera Iraw...\n",
       "25  Sebanyak 16 perguruan tinggi (PT) Indonesia ma..."
      ]
     },
     "execution_count": 61,
     "metadata": {},
     "output_type": "execute_result"
    }
   ],
   "source": [
    "df.head(26)"
   ]
  },
  {
   "cell_type": "markdown",
   "metadata": {
    "id": "r-QW29rPPaja"
   },
   "source": [
    "# Cleaning Data"
   ]
  },
  {
   "cell_type": "markdown",
   "metadata": {
    "id": "CQvXxXbBXN8s"
   },
   "source": [
    "Salah satu preprocessing adalah melakukan cleaning data untuk melakukan proses pembersihan data yang tidak diperlukan. Dalam tahap ini, data dibersihkan melalui beberapa proses seperti mengisi nilai yang hilang, menghaluskan noisy data, dan menyelesaikan inkonsistensi yang ditemukan. Data juga bisa dibersihkan dengan dibagi menjadi segmen-segmen yang memiliki ukuran serupa lalu dihaluskan (binning).\n",
    "\n",
    "Disini telah menggunakan lemmatizer dan juga dapat menggunakan stemmer. Juga kata-kata berhenti telah digunakan bersama dengan kata-kata yang panjangnya lebih pendek dari 3 karakter untuk mengurangi beberapa kata yang menyimpang. "
   ]
  },
  {
   "cell_type": "code",
   "execution_count": null,
   "metadata": {
    "id": "ZjVo1BgZPeD5"
   },
   "outputs": [],
   "source": [
    "def clean_text(headline):\n",
    "  le=WordNetLemmatizer()\n",
    "  word_tokens=word_tokenize(headline)\n",
    "  tokens=[le.lemmatize(w) for w in word_tokens if w not in stop_words and len(w)>3]\n",
    "  cleaned_text=\" \".join(tokens)\n",
    "  return cleaned_text"
   ]
  },
  {
   "cell_type": "code",
   "execution_count": null,
   "metadata": {
    "colab": {
     "base_uri": "https://localhost:8080/"
    },
    "id": "1yQWsoRQQSwm",
    "outputId": "a2873a72-2d6d-44b8-9d9c-ca534b570140"
   },
   "outputs": [
    {
     "name": "stdout",
     "output_type": "stream",
     "text": [
      "Looking in indexes: https://pypi.org/simple, https://us-python.pkg.dev/colab-wheels/public/simple/\n",
      "Requirement already satisfied: nltk in /usr/local/lib/python3.7/dist-packages (3.7)\n",
      "Requirement already satisfied: tqdm in /usr/local/lib/python3.7/dist-packages (from nltk) (4.64.0)\n",
      "Requirement already satisfied: regex>=2021.8.3 in /usr/local/lib/python3.7/dist-packages (from nltk) (2022.6.2)\n",
      "Requirement already satisfied: joblib in /usr/local/lib/python3.7/dist-packages (from nltk) (1.1.0)\n",
      "Requirement already satisfied: click in /usr/local/lib/python3.7/dist-packages (from nltk) (7.1.2)\n"
     ]
    }
   ],
   "source": [
    "!pip install nltk"
   ]
  },
  {
   "cell_type": "code",
   "execution_count": null,
   "metadata": {
    "colab": {
     "base_uri": "https://localhost:8080/"
    },
    "id": "MVwaH-6xQDk4",
    "outputId": "1df286e7-3b39-4651-f48e-876f05f57cd6"
   },
   "outputs": [
    {
     "name": "stderr",
     "output_type": "stream",
     "text": [
      "[nltk_data] Downloading package punkt to /root/nltk_data...\n",
      "[nltk_data]   Package punkt is already up-to-date!\n",
      "[nltk_data] Downloading package wordnet to /root/nltk_data...\n",
      "[nltk_data]   Package wordnet is already up-to-date!\n",
      "[nltk_data] Downloading package omw-1.4 to /root/nltk_data...\n",
      "[nltk_data]   Package omw-1.4 is already up-to-date!\n"
     ]
    },
    {
     "data": {
      "text/plain": [
       "True"
      ]
     },
     "execution_count": 64,
     "metadata": {},
     "output_type": "execute_result"
    }
   ],
   "source": [
    "import nltk\n",
    "nltk.download('punkt')\n",
    "nltk.download('wordnet')\n",
    "nltk.download('omw-1.4')"
   ]
  },
  {
   "cell_type": "code",
   "execution_count": null,
   "metadata": {
    "id": "N_nkWSgMOC83"
   },
   "outputs": [],
   "source": [
    "# time taking\n",
    "df['deskripsi_cleaned_text']=df['deskripsi'].apply(clean_text)"
   ]
  },
  {
   "cell_type": "code",
   "execution_count": null,
   "metadata": {
    "colab": {
     "base_uri": "https://localhost:8080/",
     "height": 865
    },
    "id": "8Bgl232tQpWO",
    "outputId": "a7b1d6ad-52f8-4a3b-ba22-17affe5929e2"
   },
   "outputs": [
    {
     "data": {
      "text/html": [
       "\n",
       "  <div id=\"df-5bd87f26-3b6e-4490-8f9a-7bca18b26750\">\n",
       "    <div class=\"colab-df-container\">\n",
       "      <div>\n",
       "<style scoped>\n",
       "    .dataframe tbody tr th:only-of-type {\n",
       "        vertical-align: middle;\n",
       "    }\n",
       "\n",
       "    .dataframe tbody tr th {\n",
       "        vertical-align: top;\n",
       "    }\n",
       "\n",
       "    .dataframe thead th {\n",
       "        text-align: right;\n",
       "    }\n",
       "</style>\n",
       "<table border=\"1\" class=\"dataframe\">\n",
       "  <thead>\n",
       "    <tr style=\"text-align: right;\">\n",
       "      <th></th>\n",
       "      <th>deskripsi</th>\n",
       "      <th>deskripsi_cleaned_text</th>\n",
       "    </tr>\n",
       "  </thead>\n",
       "  <tbody>\n",
       "    <tr>\n",
       "      <th>0</th>\n",
       "      <td>Penerimaan Peserta Didik Baru (PPDB) DKI Jakar...</td>\n",
       "      <td>Penerimaan Peserta Didik Baru PPDB Jakarta 202...</td>\n",
       "    </tr>\n",
       "    <tr>\n",
       "      <th>1</th>\n",
       "      <td>Angelo Wijaya, alumnus Jurusan Ilmu Hubungan I...</td>\n",
       "      <td>Angelo Wijaya alumnus Jurusan Ilmu Hubungan In...</td>\n",
       "    </tr>\n",
       "    <tr>\n",
       "      <th>2</th>\n",
       "      <td>PPDB DKI Jakarta 2022 membuka beberapa kategor...</td>\n",
       "      <td>PPDB Jakarta 2022 membuka beberapa kategori pe...</td>\n",
       "    </tr>\n",
       "    <tr>\n",
       "      <th>3</th>\n",
       "      <td>Lahir dari semangat untuk mengembalikan cita-c...</td>\n",
       "      <td>Lahir dari semangat untuk mengembalikan cita-c...</td>\n",
       "    </tr>\n",
       "    <tr>\n",
       "      <th>4</th>\n",
       "      <td>Sembilan mahasiswa Universitas Indonesia (UI) ...</td>\n",
       "      <td>Sembilan mahasiswa Universitas Indonesia dari ...</td>\n",
       "    </tr>\n",
       "    <tr>\n",
       "      <th>5</th>\n",
       "      <td>9 mahasiswa prodi Teknik Perkapalan Universita...</td>\n",
       "      <td>mahasiswa prodi Teknik Perkapalan Universitas ...</td>\n",
       "    </tr>\n",
       "    <tr>\n",
       "      <th>6</th>\n",
       "      <td>Bio Energi Indonesia (Bionersia) yang merupaka...</td>\n",
       "      <td>Energi Indonesia Bionersia yang merupakan star...</td>\n",
       "    </tr>\n",
       "    <tr>\n",
       "      <th>7</th>\n",
       "      <td>Lima mahasiswa Indonesia meraih Juara Tiga The...</td>\n",
       "      <td>Lima mahasiswa Indonesia meraih Juara Tiga Ame...</td>\n",
       "    </tr>\n",
       "    <tr>\n",
       "      <th>8</th>\n",
       "      <td>Indonesia memiliki lebih dari 4.500 perguruan ...</td>\n",
       "      <td>Indonesia memiliki lebih dari 4.500 perguruan ...</td>\n",
       "    </tr>\n",
       "    <tr>\n",
       "      <th>9</th>\n",
       "      <td>Proses Penerimaan Peserta Didik Baru (PPDB) DK...</td>\n",
       "      <td>Proses Penerimaan Peserta Didik Baru PPDB Jaka...</td>\n",
       "    </tr>\n",
       "    <tr>\n",
       "      <th>10</th>\n",
       "      <td>Sedikitnya ada empat fakultas hukum terbaik di...</td>\n",
       "      <td>Sedikitnya empat fakultas hukum terbaik Indone...</td>\n",
       "    </tr>\n",
       "    <tr>\n",
       "      <th>11</th>\n",
       "      <td>Penerimaan Peserta Didik Baru (PPDB) 2022 DKI ...</td>\n",
       "      <td>Penerimaan Peserta Didik Baru PPDB 2022 Jakart...</td>\n",
       "    </tr>\n",
       "    <tr>\n",
       "      <th>12</th>\n",
       "      <td>Indonesia memiliki sejumlah universitas dengan...</td>\n",
       "      <td>Indonesia memiliki sejumlah universitas dengan...</td>\n",
       "    </tr>\n",
       "    <tr>\n",
       "      <th>13</th>\n",
       "      <td>Madrasah Aliyah Negeri (MAN) Insan Cendekia (I...</td>\n",
       "      <td>Madrasah Aliyah Negeri Insan Cendekia Sambas K...</td>\n",
       "    </tr>\n",
       "    <tr>\n",
       "      <th>14</th>\n",
       "      <td>Siswa MAN 2 Ponorogo, Putri Wahyu Kusumaningty...</td>\n",
       "      <td>Siswa Ponorogo Putri Wahyu Kusumaningtyas akan...</td>\n",
       "    </tr>\n",
       "    <tr>\n",
       "      <th>15</th>\n",
       "      <td>Apakah kalian seorang mahasiswa yang ingin lul...</td>\n",
       "      <td>Apakah kalian seorang mahasiswa yang ingin lul...</td>\n",
       "    </tr>\n",
       "    <tr>\n",
       "      <th>16</th>\n",
       "      <td>Telkom University (Tel-U) masih menjadi kampus...</td>\n",
       "      <td>Telkom University Tel-U masih menjadi kampus s...</td>\n",
       "    </tr>\n",
       "    <tr>\n",
       "      <th>17</th>\n",
       "      <td>Skema penerimaan mahasiswa jalur Seleksi Prest...</td>\n",
       "      <td>Skema penerimaan mahasiswa jalur Seleksi Prest...</td>\n",
       "    </tr>\n",
       "    <tr>\n",
       "      <th>18</th>\n",
       "      <td>Lembaga pendidikan vokasi di perguruan tinggi ...</td>\n",
       "      <td>Lembaga pendidikan vokasi perguruan tinggi dih...</td>\n",
       "    </tr>\n",
       "    <tr>\n",
       "      <th>19</th>\n",
       "      <td>Mengerjakan skripsi atau tugas akhir penelitia...</td>\n",
       "      <td>Mengerjakan skripsi atau tugas akhir penelitia...</td>\n",
       "    </tr>\n",
       "    <tr>\n",
       "      <th>20</th>\n",
       "      <td>Universitas Mercu Buana (UMB) melalui program ...</td>\n",
       "      <td>Universitas Mercu Buana melalui program studi ...</td>\n",
       "    </tr>\n",
       "    <tr>\n",
       "      <th>21</th>\n",
       "      <td>Leonita Maharani Putri, penerima Beasiswa APER...</td>\n",
       "      <td>Leonita Maharani Putri penerima Beasiswa APERT...</td>\n",
       "    </tr>\n",
       "    <tr>\n",
       "      <th>22</th>\n",
       "      <td>University of Technology Sydney (UTS Sydney) s...</td>\n",
       "      <td>University Technology Sydney Sydney saat menja...</td>\n",
       "    </tr>\n",
       "    <tr>\n",
       "      <th>23</th>\n",
       "      <td>Universitas Indonesia (UI) menyerahkan secara ...</td>\n",
       "      <td>Universitas Indonesia menyerahkan secara simbo...</td>\n",
       "    </tr>\n",
       "    <tr>\n",
       "      <th>24</th>\n",
       "      <td>Dosen Universitas Mercu Buana Enjang Pera Iraw...</td>\n",
       "      <td>Dosen Universitas Mercu Buana Enjang Pera Iraw...</td>\n",
       "    </tr>\n",
       "    <tr>\n",
       "      <th>25</th>\n",
       "      <td>Sebanyak 16 perguruan tinggi (PT) Indonesia ma...</td>\n",
       "      <td>Sebanyak perguruan tinggi Indonesia masuk dala...</td>\n",
       "    </tr>\n",
       "  </tbody>\n",
       "</table>\n",
       "</div>\n",
       "      <button class=\"colab-df-convert\" onclick=\"convertToInteractive('df-5bd87f26-3b6e-4490-8f9a-7bca18b26750')\"\n",
       "              title=\"Convert this dataframe to an interactive table.\"\n",
       "              style=\"display:none;\">\n",
       "        \n",
       "  <svg xmlns=\"http://www.w3.org/2000/svg\" height=\"24px\"viewBox=\"0 0 24 24\"\n",
       "       width=\"24px\">\n",
       "    <path d=\"M0 0h24v24H0V0z\" fill=\"none\"/>\n",
       "    <path d=\"M18.56 5.44l.94 2.06.94-2.06 2.06-.94-2.06-.94-.94-2.06-.94 2.06-2.06.94zm-11 1L8.5 8.5l.94-2.06 2.06-.94-2.06-.94L8.5 2.5l-.94 2.06-2.06.94zm10 10l.94 2.06.94-2.06 2.06-.94-2.06-.94-.94-2.06-.94 2.06-2.06.94z\"/><path d=\"M17.41 7.96l-1.37-1.37c-.4-.4-.92-.59-1.43-.59-.52 0-1.04.2-1.43.59L10.3 9.45l-7.72 7.72c-.78.78-.78 2.05 0 2.83L4 21.41c.39.39.9.59 1.41.59.51 0 1.02-.2 1.41-.59l7.78-7.78 2.81-2.81c.8-.78.8-2.07 0-2.86zM5.41 20L4 18.59l7.72-7.72 1.47 1.35L5.41 20z\"/>\n",
       "  </svg>\n",
       "      </button>\n",
       "      \n",
       "  <style>\n",
       "    .colab-df-container {\n",
       "      display:flex;\n",
       "      flex-wrap:wrap;\n",
       "      gap: 12px;\n",
       "    }\n",
       "\n",
       "    .colab-df-convert {\n",
       "      background-color: #E8F0FE;\n",
       "      border: none;\n",
       "      border-radius: 50%;\n",
       "      cursor: pointer;\n",
       "      display: none;\n",
       "      fill: #1967D2;\n",
       "      height: 32px;\n",
       "      padding: 0 0 0 0;\n",
       "      width: 32px;\n",
       "    }\n",
       "\n",
       "    .colab-df-convert:hover {\n",
       "      background-color: #E2EBFA;\n",
       "      box-shadow: 0px 1px 2px rgba(60, 64, 67, 0.3), 0px 1px 3px 1px rgba(60, 64, 67, 0.15);\n",
       "      fill: #174EA6;\n",
       "    }\n",
       "\n",
       "    [theme=dark] .colab-df-convert {\n",
       "      background-color: #3B4455;\n",
       "      fill: #D2E3FC;\n",
       "    }\n",
       "\n",
       "    [theme=dark] .colab-df-convert:hover {\n",
       "      background-color: #434B5C;\n",
       "      box-shadow: 0px 1px 3px 1px rgba(0, 0, 0, 0.15);\n",
       "      filter: drop-shadow(0px 1px 2px rgba(0, 0, 0, 0.3));\n",
       "      fill: #FFFFFF;\n",
       "    }\n",
       "  </style>\n",
       "\n",
       "      <script>\n",
       "        const buttonEl =\n",
       "          document.querySelector('#df-5bd87f26-3b6e-4490-8f9a-7bca18b26750 button.colab-df-convert');\n",
       "        buttonEl.style.display =\n",
       "          google.colab.kernel.accessAllowed ? 'block' : 'none';\n",
       "\n",
       "        async function convertToInteractive(key) {\n",
       "          const element = document.querySelector('#df-5bd87f26-3b6e-4490-8f9a-7bca18b26750');\n",
       "          const dataTable =\n",
       "            await google.colab.kernel.invokeFunction('convertToInteractive',\n",
       "                                                     [key], {});\n",
       "          if (!dataTable) return;\n",
       "\n",
       "          const docLinkHtml = 'Like what you see? Visit the ' +\n",
       "            '<a target=\"_blank\" href=https://colab.research.google.com/notebooks/data_table.ipynb>data table notebook</a>'\n",
       "            + ' to learn more about interactive tables.';\n",
       "          element.innerHTML = '';\n",
       "          dataTable['output_type'] = 'display_data';\n",
       "          await google.colab.output.renderOutput(dataTable, element);\n",
       "          const docLink = document.createElement('div');\n",
       "          docLink.innerHTML = docLinkHtml;\n",
       "          element.appendChild(docLink);\n",
       "        }\n",
       "      </script>\n",
       "    </div>\n",
       "  </div>\n",
       "  "
      ],
      "text/plain": [
       "                                            deskripsi  \\\n",
       "0   Penerimaan Peserta Didik Baru (PPDB) DKI Jakar...   \n",
       "1   Angelo Wijaya, alumnus Jurusan Ilmu Hubungan I...   \n",
       "2   PPDB DKI Jakarta 2022 membuka beberapa kategor...   \n",
       "3   Lahir dari semangat untuk mengembalikan cita-c...   \n",
       "4   Sembilan mahasiswa Universitas Indonesia (UI) ...   \n",
       "5   9 mahasiswa prodi Teknik Perkapalan Universita...   \n",
       "6   Bio Energi Indonesia (Bionersia) yang merupaka...   \n",
       "7   Lima mahasiswa Indonesia meraih Juara Tiga The...   \n",
       "8   Indonesia memiliki lebih dari 4.500 perguruan ...   \n",
       "9   Proses Penerimaan Peserta Didik Baru (PPDB) DK...   \n",
       "10  Sedikitnya ada empat fakultas hukum terbaik di...   \n",
       "11  Penerimaan Peserta Didik Baru (PPDB) 2022 DKI ...   \n",
       "12  Indonesia memiliki sejumlah universitas dengan...   \n",
       "13  Madrasah Aliyah Negeri (MAN) Insan Cendekia (I...   \n",
       "14  Siswa MAN 2 Ponorogo, Putri Wahyu Kusumaningty...   \n",
       "15  Apakah kalian seorang mahasiswa yang ingin lul...   \n",
       "16  Telkom University (Tel-U) masih menjadi kampus...   \n",
       "17  Skema penerimaan mahasiswa jalur Seleksi Prest...   \n",
       "18  Lembaga pendidikan vokasi di perguruan tinggi ...   \n",
       "19  Mengerjakan skripsi atau tugas akhir penelitia...   \n",
       "20  Universitas Mercu Buana (UMB) melalui program ...   \n",
       "21  Leonita Maharani Putri, penerima Beasiswa APER...   \n",
       "22  University of Technology Sydney (UTS Sydney) s...   \n",
       "23  Universitas Indonesia (UI) menyerahkan secara ...   \n",
       "24  Dosen Universitas Mercu Buana Enjang Pera Iraw...   \n",
       "25  Sebanyak 16 perguruan tinggi (PT) Indonesia ma...   \n",
       "\n",
       "                               deskripsi_cleaned_text  \n",
       "0   Penerimaan Peserta Didik Baru PPDB Jakarta 202...  \n",
       "1   Angelo Wijaya alumnus Jurusan Ilmu Hubungan In...  \n",
       "2   PPDB Jakarta 2022 membuka beberapa kategori pe...  \n",
       "3   Lahir dari semangat untuk mengembalikan cita-c...  \n",
       "4   Sembilan mahasiswa Universitas Indonesia dari ...  \n",
       "5   mahasiswa prodi Teknik Perkapalan Universitas ...  \n",
       "6   Energi Indonesia Bionersia yang merupakan star...  \n",
       "7   Lima mahasiswa Indonesia meraih Juara Tiga Ame...  \n",
       "8   Indonesia memiliki lebih dari 4.500 perguruan ...  \n",
       "9   Proses Penerimaan Peserta Didik Baru PPDB Jaka...  \n",
       "10  Sedikitnya empat fakultas hukum terbaik Indone...  \n",
       "11  Penerimaan Peserta Didik Baru PPDB 2022 Jakart...  \n",
       "12  Indonesia memiliki sejumlah universitas dengan...  \n",
       "13  Madrasah Aliyah Negeri Insan Cendekia Sambas K...  \n",
       "14  Siswa Ponorogo Putri Wahyu Kusumaningtyas akan...  \n",
       "15  Apakah kalian seorang mahasiswa yang ingin lul...  \n",
       "16  Telkom University Tel-U masih menjadi kampus s...  \n",
       "17  Skema penerimaan mahasiswa jalur Seleksi Prest...  \n",
       "18  Lembaga pendidikan vokasi perguruan tinggi dih...  \n",
       "19  Mengerjakan skripsi atau tugas akhir penelitia...  \n",
       "20  Universitas Mercu Buana melalui program studi ...  \n",
       "21  Leonita Maharani Putri penerima Beasiswa APERT...  \n",
       "22  University Technology Sydney Sydney saat menja...  \n",
       "23  Universitas Indonesia menyerahkan secara simbo...  \n",
       "24  Dosen Universitas Mercu Buana Enjang Pera Iraw...  \n",
       "25  Sebanyak perguruan tinggi Indonesia masuk dala...  "
      ]
     },
     "execution_count": 66,
     "metadata": {},
     "output_type": "execute_result"
    }
   ],
   "source": [
    "df.head(26)"
   ]
  },
  {
   "cell_type": "markdown",
   "metadata": {
    "id": "ZIvhmyvRRgoT"
   },
   "source": [
    "Drop kolom yang tidak diproses, yang akan didrop/ hapus adalah deskripsi"
   ]
  },
  {
   "cell_type": "code",
   "execution_count": null,
   "metadata": {
    "id": "BEqJi3KGRuwK"
   },
   "outputs": [],
   "source": [
    "df.drop(['deskripsi'],axis=1,inplace=True)"
   ]
  },
  {
   "cell_type": "markdown",
   "metadata": {
    "id": "5ej0AEDfSVeU"
   },
   "source": [
    "# Data Deskripsi_cleaned_text"
   ]
  },
  {
   "cell_type": "markdown",
   "metadata": {
    "id": "x9RhHQ-3iJ3-"
   },
   "source": [
    "Tampilkan data deskripsi_cleaned_text"
   ]
  },
  {
   "cell_type": "code",
   "execution_count": null,
   "metadata": {
    "colab": {
     "base_uri": "https://localhost:8080/",
     "height": 865
    },
    "id": "tSe2PiD9QyWO",
    "outputId": "71232dc1-d918-4c64-b98f-9d0588971925"
   },
   "outputs": [
    {
     "data": {
      "text/html": [
       "\n",
       "  <div id=\"df-e1bf70c9-f683-4eec-94dd-4acc711fd676\">\n",
       "    <div class=\"colab-df-container\">\n",
       "      <div>\n",
       "<style scoped>\n",
       "    .dataframe tbody tr th:only-of-type {\n",
       "        vertical-align: middle;\n",
       "    }\n",
       "\n",
       "    .dataframe tbody tr th {\n",
       "        vertical-align: top;\n",
       "    }\n",
       "\n",
       "    .dataframe thead th {\n",
       "        text-align: right;\n",
       "    }\n",
       "</style>\n",
       "<table border=\"1\" class=\"dataframe\">\n",
       "  <thead>\n",
       "    <tr style=\"text-align: right;\">\n",
       "      <th></th>\n",
       "      <th>deskripsi_cleaned_text</th>\n",
       "    </tr>\n",
       "  </thead>\n",
       "  <tbody>\n",
       "    <tr>\n",
       "      <th>0</th>\n",
       "      <td>Penerimaan Peserta Didik Baru PPDB Jakarta 202...</td>\n",
       "    </tr>\n",
       "    <tr>\n",
       "      <th>1</th>\n",
       "      <td>Angelo Wijaya alumnus Jurusan Ilmu Hubungan In...</td>\n",
       "    </tr>\n",
       "    <tr>\n",
       "      <th>2</th>\n",
       "      <td>PPDB Jakarta 2022 membuka beberapa kategori pe...</td>\n",
       "    </tr>\n",
       "    <tr>\n",
       "      <th>3</th>\n",
       "      <td>Lahir dari semangat untuk mengembalikan cita-c...</td>\n",
       "    </tr>\n",
       "    <tr>\n",
       "      <th>4</th>\n",
       "      <td>Sembilan mahasiswa Universitas Indonesia dari ...</td>\n",
       "    </tr>\n",
       "    <tr>\n",
       "      <th>5</th>\n",
       "      <td>mahasiswa prodi Teknik Perkapalan Universitas ...</td>\n",
       "    </tr>\n",
       "    <tr>\n",
       "      <th>6</th>\n",
       "      <td>Energi Indonesia Bionersia yang merupakan star...</td>\n",
       "    </tr>\n",
       "    <tr>\n",
       "      <th>7</th>\n",
       "      <td>Lima mahasiswa Indonesia meraih Juara Tiga Ame...</td>\n",
       "    </tr>\n",
       "    <tr>\n",
       "      <th>8</th>\n",
       "      <td>Indonesia memiliki lebih dari 4.500 perguruan ...</td>\n",
       "    </tr>\n",
       "    <tr>\n",
       "      <th>9</th>\n",
       "      <td>Proses Penerimaan Peserta Didik Baru PPDB Jaka...</td>\n",
       "    </tr>\n",
       "    <tr>\n",
       "      <th>10</th>\n",
       "      <td>Sedikitnya empat fakultas hukum terbaik Indone...</td>\n",
       "    </tr>\n",
       "    <tr>\n",
       "      <th>11</th>\n",
       "      <td>Penerimaan Peserta Didik Baru PPDB 2022 Jakart...</td>\n",
       "    </tr>\n",
       "    <tr>\n",
       "      <th>12</th>\n",
       "      <td>Indonesia memiliki sejumlah universitas dengan...</td>\n",
       "    </tr>\n",
       "    <tr>\n",
       "      <th>13</th>\n",
       "      <td>Madrasah Aliyah Negeri Insan Cendekia Sambas K...</td>\n",
       "    </tr>\n",
       "    <tr>\n",
       "      <th>14</th>\n",
       "      <td>Siswa Ponorogo Putri Wahyu Kusumaningtyas akan...</td>\n",
       "    </tr>\n",
       "    <tr>\n",
       "      <th>15</th>\n",
       "      <td>Apakah kalian seorang mahasiswa yang ingin lul...</td>\n",
       "    </tr>\n",
       "    <tr>\n",
       "      <th>16</th>\n",
       "      <td>Telkom University Tel-U masih menjadi kampus s...</td>\n",
       "    </tr>\n",
       "    <tr>\n",
       "      <th>17</th>\n",
       "      <td>Skema penerimaan mahasiswa jalur Seleksi Prest...</td>\n",
       "    </tr>\n",
       "    <tr>\n",
       "      <th>18</th>\n",
       "      <td>Lembaga pendidikan vokasi perguruan tinggi dih...</td>\n",
       "    </tr>\n",
       "    <tr>\n",
       "      <th>19</th>\n",
       "      <td>Mengerjakan skripsi atau tugas akhir penelitia...</td>\n",
       "    </tr>\n",
       "    <tr>\n",
       "      <th>20</th>\n",
       "      <td>Universitas Mercu Buana melalui program studi ...</td>\n",
       "    </tr>\n",
       "    <tr>\n",
       "      <th>21</th>\n",
       "      <td>Leonita Maharani Putri penerima Beasiswa APERT...</td>\n",
       "    </tr>\n",
       "    <tr>\n",
       "      <th>22</th>\n",
       "      <td>University Technology Sydney Sydney saat menja...</td>\n",
       "    </tr>\n",
       "    <tr>\n",
       "      <th>23</th>\n",
       "      <td>Universitas Indonesia menyerahkan secara simbo...</td>\n",
       "    </tr>\n",
       "    <tr>\n",
       "      <th>24</th>\n",
       "      <td>Dosen Universitas Mercu Buana Enjang Pera Iraw...</td>\n",
       "    </tr>\n",
       "    <tr>\n",
       "      <th>25</th>\n",
       "      <td>Sebanyak perguruan tinggi Indonesia masuk dala...</td>\n",
       "    </tr>\n",
       "  </tbody>\n",
       "</table>\n",
       "</div>\n",
       "      <button class=\"colab-df-convert\" onclick=\"convertToInteractive('df-e1bf70c9-f683-4eec-94dd-4acc711fd676')\"\n",
       "              title=\"Convert this dataframe to an interactive table.\"\n",
       "              style=\"display:none;\">\n",
       "        \n",
       "  <svg xmlns=\"http://www.w3.org/2000/svg\" height=\"24px\"viewBox=\"0 0 24 24\"\n",
       "       width=\"24px\">\n",
       "    <path d=\"M0 0h24v24H0V0z\" fill=\"none\"/>\n",
       "    <path d=\"M18.56 5.44l.94 2.06.94-2.06 2.06-.94-2.06-.94-.94-2.06-.94 2.06-2.06.94zm-11 1L8.5 8.5l.94-2.06 2.06-.94-2.06-.94L8.5 2.5l-.94 2.06-2.06.94zm10 10l.94 2.06.94-2.06 2.06-.94-2.06-.94-.94-2.06-.94 2.06-2.06.94z\"/><path d=\"M17.41 7.96l-1.37-1.37c-.4-.4-.92-.59-1.43-.59-.52 0-1.04.2-1.43.59L10.3 9.45l-7.72 7.72c-.78.78-.78 2.05 0 2.83L4 21.41c.39.39.9.59 1.41.59.51 0 1.02-.2 1.41-.59l7.78-7.78 2.81-2.81c.8-.78.8-2.07 0-2.86zM5.41 20L4 18.59l7.72-7.72 1.47 1.35L5.41 20z\"/>\n",
       "  </svg>\n",
       "      </button>\n",
       "      \n",
       "  <style>\n",
       "    .colab-df-container {\n",
       "      display:flex;\n",
       "      flex-wrap:wrap;\n",
       "      gap: 12px;\n",
       "    }\n",
       "\n",
       "    .colab-df-convert {\n",
       "      background-color: #E8F0FE;\n",
       "      border: none;\n",
       "      border-radius: 50%;\n",
       "      cursor: pointer;\n",
       "      display: none;\n",
       "      fill: #1967D2;\n",
       "      height: 32px;\n",
       "      padding: 0 0 0 0;\n",
       "      width: 32px;\n",
       "    }\n",
       "\n",
       "    .colab-df-convert:hover {\n",
       "      background-color: #E2EBFA;\n",
       "      box-shadow: 0px 1px 2px rgba(60, 64, 67, 0.3), 0px 1px 3px 1px rgba(60, 64, 67, 0.15);\n",
       "      fill: #174EA6;\n",
       "    }\n",
       "\n",
       "    [theme=dark] .colab-df-convert {\n",
       "      background-color: #3B4455;\n",
       "      fill: #D2E3FC;\n",
       "    }\n",
       "\n",
       "    [theme=dark] .colab-df-convert:hover {\n",
       "      background-color: #434B5C;\n",
       "      box-shadow: 0px 1px 3px 1px rgba(0, 0, 0, 0.15);\n",
       "      filter: drop-shadow(0px 1px 2px rgba(0, 0, 0, 0.3));\n",
       "      fill: #FFFFFF;\n",
       "    }\n",
       "  </style>\n",
       "\n",
       "      <script>\n",
       "        const buttonEl =\n",
       "          document.querySelector('#df-e1bf70c9-f683-4eec-94dd-4acc711fd676 button.colab-df-convert');\n",
       "        buttonEl.style.display =\n",
       "          google.colab.kernel.accessAllowed ? 'block' : 'none';\n",
       "\n",
       "        async function convertToInteractive(key) {\n",
       "          const element = document.querySelector('#df-e1bf70c9-f683-4eec-94dd-4acc711fd676');\n",
       "          const dataTable =\n",
       "            await google.colab.kernel.invokeFunction('convertToInteractive',\n",
       "                                                     [key], {});\n",
       "          if (!dataTable) return;\n",
       "\n",
       "          const docLinkHtml = 'Like what you see? Visit the ' +\n",
       "            '<a target=\"_blank\" href=https://colab.research.google.com/notebooks/data_table.ipynb>data table notebook</a>'\n",
       "            + ' to learn more about interactive tables.';\n",
       "          element.innerHTML = '';\n",
       "          dataTable['output_type'] = 'display_data';\n",
       "          await google.colab.output.renderOutput(dataTable, element);\n",
       "          const docLink = document.createElement('div');\n",
       "          docLink.innerHTML = docLinkHtml;\n",
       "          element.appendChild(docLink);\n",
       "        }\n",
       "      </script>\n",
       "    </div>\n",
       "  </div>\n",
       "  "
      ],
      "text/plain": [
       "                               deskripsi_cleaned_text\n",
       "0   Penerimaan Peserta Didik Baru PPDB Jakarta 202...\n",
       "1   Angelo Wijaya alumnus Jurusan Ilmu Hubungan In...\n",
       "2   PPDB Jakarta 2022 membuka beberapa kategori pe...\n",
       "3   Lahir dari semangat untuk mengembalikan cita-c...\n",
       "4   Sembilan mahasiswa Universitas Indonesia dari ...\n",
       "5   mahasiswa prodi Teknik Perkapalan Universitas ...\n",
       "6   Energi Indonesia Bionersia yang merupakan star...\n",
       "7   Lima mahasiswa Indonesia meraih Juara Tiga Ame...\n",
       "8   Indonesia memiliki lebih dari 4.500 perguruan ...\n",
       "9   Proses Penerimaan Peserta Didik Baru PPDB Jaka...\n",
       "10  Sedikitnya empat fakultas hukum terbaik Indone...\n",
       "11  Penerimaan Peserta Didik Baru PPDB 2022 Jakart...\n",
       "12  Indonesia memiliki sejumlah universitas dengan...\n",
       "13  Madrasah Aliyah Negeri Insan Cendekia Sambas K...\n",
       "14  Siswa Ponorogo Putri Wahyu Kusumaningtyas akan...\n",
       "15  Apakah kalian seorang mahasiswa yang ingin lul...\n",
       "16  Telkom University Tel-U masih menjadi kampus s...\n",
       "17  Skema penerimaan mahasiswa jalur Seleksi Prest...\n",
       "18  Lembaga pendidikan vokasi perguruan tinggi dih...\n",
       "19  Mengerjakan skripsi atau tugas akhir penelitia...\n",
       "20  Universitas Mercu Buana melalui program studi ...\n",
       "21  Leonita Maharani Putri penerima Beasiswa APERT...\n",
       "22  University Technology Sydney Sydney saat menja...\n",
       "23  Universitas Indonesia menyerahkan secara simbo...\n",
       "24  Dosen Universitas Mercu Buana Enjang Pera Iraw...\n",
       "25  Sebanyak perguruan tinggi Indonesia masuk dala..."
      ]
     },
     "execution_count": 68,
     "metadata": {},
     "output_type": "execute_result"
    }
   ],
   "source": [
    "df.head(26)"
   ]
  },
  {
   "cell_type": "code",
   "execution_count": null,
   "metadata": {
    "colab": {
     "base_uri": "https://localhost:8080/",
     "height": 36
    },
    "id": "CSagT5_pSIlc",
    "outputId": "dd1142b3-cacb-4747-c100-9293261b76eb"
   },
   "outputs": [
    {
     "data": {
      "application/vnd.google.colaboratory.intrinsic+json": {
       "type": "string"
      },
      "text/plain": [
       "'Penerimaan Peserta Didik Baru PPDB Jakarta 2022 membuka jalur Perpindahan Tugas Orang Anak Guru dengan kuota sebanyak persen'"
      ]
     },
     "execution_count": 69,
     "metadata": {},
     "output_type": "execute_result"
    }
   ],
   "source": [
    "df['deskripsi_cleaned_text'][0]"
   ]
  },
  {
   "cell_type": "markdown",
   "metadata": {
    "id": "Flys17oMhCV2"
   },
   "source": [
    "MENGEKSTRAKSI FITUR DAN MEMBUAT DOCUMENT-TERM-MATRIX ( DTM )\n",
    "Di DTM nilainya adalah nilai TFidf.\n",
    "\n",
    "Saya juga telah menentukan beberapa parameter dari vectorizer TF-IDF.\n",
    "\n",
    "Berikut poin penting pada LSA\n",
    "\n",
    "1) LSA umumnya diimplementasikan dengan nilai TF-IDF dimana-mana dan bukan dengan Count Vectorizer.\n",
    "\n",
    "2) max_features tergantung pada daya komputasi Anda dan juga pada eval. matrik (skor koherensi adalah matrik untuk model topik). Cobalah nilai yang memberikan eval terbaik. matrik dan tidak membatasi kekuatan pemrosesan.\n",
    "\n",
    "3) Nilai default untuk min_df &max_df bekerja dengan baik.\n",
    "\n",
    "4) Dapat mencoba nilai yang berbeda untuk ngram_range."
   ]
  },
  {
   "cell_type": "code",
   "execution_count": null,
   "metadata": {
    "id": "o5mhtofMi9Ls"
   },
   "outputs": [],
   "source": [
    "vect =TfidfVectorizer(stop_words=stop_words,max_features=1000)"
   ]
  },
  {
   "cell_type": "code",
   "execution_count": null,
   "metadata": {
    "id": "Rkjzp5zSjEAg"
   },
   "outputs": [],
   "source": [
    "vect_text=vect.fit_transform(df['deskripsi_cleaned_text'])"
   ]
  },
  {
   "cell_type": "markdown",
   "metadata": {
    "id": "KcSu8_GjlPwc"
   },
   "source": [
    "Kita sekarang melihat kata-kata yang paling sering muncul dan langka di berita utama berdasarkan skor idf. Semakin kecil nilainya; lebih umum adalah kata dalam berita utama."
   ]
  },
  {
   "cell_type": "code",
   "execution_count": null,
   "metadata": {
    "colab": {
     "base_uri": "https://localhost:8080/"
    },
    "id": "Xf5vBX5hjP_i",
    "outputId": "4e2c5e6e-c741-42e1-ecd3-2138a3e175bc"
   },
   "outputs": [
    {
     "name": "stdout",
     "output_type": "stream",
     "text": [
      "(26, 302)\n",
      "  (0, 207)\t0.289694729359556\n",
      "  (0, 236)\t0.23395829286047842\n",
      "  (0, 129)\t0.289694729359556\n",
      "  (0, 60)\t0.2013545675846921\n",
      "  (0, 82)\t0.25709100408376967\n",
      "  (0, 15)\t0.23395829286047842\n",
      "  (0, 181)\t0.25709100408376967\n",
      "  (0, 284)\t0.25709100408376967\n",
      "  (0, 206)\t0.25709100408376967\n",
      "  (0, 103)\t0.21601516804251994\n",
      "  (0, 154)\t0.21601516804251994\n",
      "  (0, 3)\t0.2013545675846921\n",
      "  (0, 102)\t0.21601516804251994\n",
      "  (0, 213)\t0.21601516804251994\n",
      "  (0, 30)\t0.2013545675846921\n",
      "  (0, 65)\t0.23395829286047842\n",
      "  (0, 211)\t0.23395829286047842\n",
      "  (0, 198)\t0.2013545675846921\n",
      "  (1, 265)\t0.2394050907133411\n",
      "  (1, 300)\t0.2124612183671009\n",
      "  (1, 81)\t0.2394050907133411\n",
      "  (1, 27)\t0.2394050907133411\n",
      "  (1, 297)\t0.19334423670471124\n",
      "  (1, 180)\t0.2124612183671009\n",
      "  (1, 63)\t0.2394050907133411\n",
      "  :\t:\n",
      "  (24, 69)\t0.27072468617216744\n",
      "  (24, 78)\t0.27072468617216744\n",
      "  (24, 100)\t0.27072468617216744\n",
      "  (24, 201)\t0.27072468617216744\n",
      "  (24, 74)\t0.27072468617216744\n",
      "  (24, 70)\t0.27072468617216744\n",
      "  (24, 125)\t0.2402559464997394\n",
      "  (24, 46)\t0.2402559464997394\n",
      "  (24, 170)\t0.2402559464997394\n",
      "  (24, 169)\t0.2402559464997394\n",
      "  (24, 285)\t0.2721652749864234\n",
      "  (24, 60)\t0.18816929199647553\n",
      "  (25, 204)\t0.31303313863065296\n",
      "  (25, 174)\t0.31303313863065296\n",
      "  (25, 17)\t0.31303313863065296\n",
      "  (25, 190)\t0.31303313863065296\n",
      "  (25, 57)\t0.31303313863065296\n",
      "  (25, 147)\t0.31303313863065296\n",
      "  (25, 225)\t0.2778027895086858\n",
      "  (25, 286)\t0.23341779877621163\n",
      "  (25, 283)\t0.25280645900839627\n",
      "  (25, 202)\t0.25280645900839627\n",
      "  (25, 94)\t0.15734943026417242\n",
      "  (25, 297)\t0.25280645900839627\n",
      "  (25, 236)\t0.25280645900839627\n"
     ]
    }
   ],
   "source": [
    "print(vect_text.shape)\n",
    "print(vect_text)"
   ]
  },
  {
   "cell_type": "code",
   "execution_count": null,
   "metadata": {
    "id": "Zj5ibe5Bjetq"
   },
   "outputs": [],
   "source": [
    "idf=vect.idf_"
   ]
  },
  {
   "cell_type": "code",
   "execution_count": null,
   "metadata": {
    "colab": {
     "base_uri": "https://localhost:8080/"
    },
    "id": "wd09SHhAjpkD",
    "outputId": "ebc2494e-ed46-4e11-beaa-ae3a02cb93bf"
   },
   "outputs": [
    {
     "name": "stdout",
     "output_type": "stream",
     "text": [
      "indonesia zonasi\n",
      "2.9095425048844383\n",
      "3.6026896854443837\n"
     ]
    },
    {
     "name": "stderr",
     "output_type": "stream",
     "text": [
      "/usr/local/lib/python3.7/dist-packages/sklearn/utils/deprecation.py:87: FutureWarning: Function get_feature_names is deprecated; get_feature_names is deprecated in 1.0 and will be removed in 1.2. Please use get_feature_names_out instead.\n",
      "  warnings.warn(msg, category=FutureWarning)\n"
     ]
    }
   ],
   "source": [
    "dd=dict(zip(vect.get_feature_names(), idf))\n",
    "l=sorted(dd, key=(dd).get)\n",
    "# print(l)\n",
    "print(l[0],l[-1])\n",
    "print(dd['anak'])\n",
    "print(dd['aliyah'])"
   ]
  },
  {
   "cell_type": "markdown",
   "metadata": {
    "id": "kju6u_wPmIHv"
   },
   "source": [
    "Oleh karena itu, dapat dilihat bahwa berdasarkan nilai idf, 'anak' adalah kata yang paling sering terklihat. Sedangkan 'aliyah' paling jarang terlihat di antara berita lainnya."
   ]
  },
  {
   "cell_type": "markdown",
   "metadata": {
    "id": "k6O1ytEdDIsN"
   },
   "source": [
    "# Tahap Topic Modelling LSA"
   ]
  },
  {
   "cell_type": "markdown",
   "metadata": {
    "id": "vBZqUGXHDyzV"
   },
   "source": [
    "Latent Semantic Analysis (LSA)\n",
    "\n",
    "Latent Semantic Analysis (LSA), adalah salah satu teknik dasar dalam pemodelan topik. Ide intinya adalah mengambil matriks dari apa yang kita miliki - dokumen dan istilah - dan menguraikannya menjadi matriks topik dokumen dan matriks istilah topik yang terpisah.\n",
    "\n",
    "Pendekatan pertama yang digunakan adalah LSA. LSA pada dasarnya adalah dekomposisi nilai tunggal.\n",
    "\n",
    "SVD menguraikan DTM asli menjadi tiga matriks S=U.(sigma).(V.T). Di sini matriks U menunjukkan matriks dokumen-topik sementara (V) adalah matriks topik-term.\n",
    "\n",
    "Setiap baris dari matriks U (matriks istilah dokumen) adalah representasi vektor dari dokumen yang sesuai. Panjang vektor ini adalah jumlah topik yang diinginkan. Representasi vektor untuk suku-suku dalam data kami dapat ditemukan dalam matriks V (matriks istilah-topik).\n",
    "\n",
    "Jadi, SVD memberi kita vektor untuk setiap dokumen dan istilah dalam data kita. Panjang setiap vektor adalah k. Kami kemudian dapat menggunakan vektor-vektor ini untuk menemukan kata-kata dan dokumen serupa menggunakan metode kesamaan kosinus.\n",
    "\n",
    "Kita dapat menggunakan fungsi truncatedSVD untuk mengimplementasikan LSA. Parameter n_components adalah jumlah topik yang ingin kita ekstrak. Model tersebut kemudian di fit dan ditransformasikan pada hasil yang diberikan oleh vectorizer.\n",
    "\n",
    "Terakhir perhatikan bahwa LSA dan LSI (I untuk pengindeksan) adalah sama dan yang terakhir kadang-kadang digunakan dalam konteks pencarian informasi."
   ]
  },
  {
   "cell_type": "code",
   "execution_count": null,
   "metadata": {
    "id": "5S3PKRtPD7lT"
   },
   "outputs": [],
   "source": [
    "from sklearn.decomposition import TruncatedSVD\n",
    "lsa_model = TruncatedSVD(n_components=10, algorithm='randomized', n_iter=10, random_state=42)\n",
    "\n",
    "lsa_top=lsa_model.fit_transform(vect_text)"
   ]
  },
  {
   "cell_type": "code",
   "execution_count": null,
   "metadata": {
    "colab": {
     "base_uri": "https://localhost:8080/"
    },
    "id": "RoIq98aADOam",
    "outputId": "c422df72-096a-4151-cc09-193c4e29e169"
   },
   "outputs": [
    {
     "name": "stdout",
     "output_type": "stream",
     "text": [
      "[[ 0.72256115 -0.34999338 -0.01600903 -0.0311643   0.02620161 -0.03405063\n",
      "  -0.08216404 -0.05289906 -0.00379401  0.04111651]\n",
      " [ 0.18255235  0.19789991 -0.11438913  0.07576267 -0.02844799  0.1934747\n",
      "  -0.05229691  0.60445616  0.01881249  0.20599098]\n",
      " [ 0.57854562 -0.33048067  0.04883829 -0.00540662 -0.01570786 -0.03255078\n",
      "  -0.10040807 -0.08542666 -0.11089027  0.0580679 ]\n",
      " [ 0.10308558  0.14173346  0.0085351   0.11507792 -0.16731478  0.47940666\n",
      "   0.34453951 -0.17707401 -0.09187048  0.1608037 ]\n",
      " [ 0.19151059  0.40791167  0.49981394  0.17056039 -0.15887891 -0.08576106\n",
      "   0.00476509  0.02043023  0.14914404 -0.04135598]\n",
      " [ 0.18461886  0.40382697  0.5526085   0.18530858 -0.17384387 -0.09792987\n",
      "  -0.02642569  0.04268639  0.1869927  -0.05562639]\n",
      " [ 0.11122132  0.20044947 -0.13427679 -0.03897828 -0.17439021  0.47338019\n",
      "   0.30332848 -0.02328665  0.05597552  0.10883381]\n",
      " [ 0.09985692  0.21137269  0.31022727  0.06713967 -0.07077228 -0.02133334\n",
      "  -0.13590692  0.1261782   0.01438924  0.03138327]\n",
      " [ 0.20809823  0.46776604 -0.26083762 -0.22856888 -0.15492035  0.03191976\n",
      "  -0.19144141 -0.13001901  0.04751252 -0.00182864]\n",
      " [ 0.58098572 -0.30426051 -0.03625221 -0.00800272 -0.04517005  0.12905816\n",
      "   0.12256867  0.10604701  0.15871881 -0.09966007]\n",
      " [ 0.19080849  0.44246428 -0.2583643  -0.29784076 -0.0955469  -0.00960306\n",
      "  -0.05085843 -0.00719973 -0.0520278  -0.3266036 ]\n",
      " [ 0.65315141 -0.31191932 -0.04394009  0.01605383  0.01643861 -0.039621\n",
      "   0.09905667  0.10167015  0.16685681 -0.16272237]\n",
      " [ 0.33894336  0.47933905 -0.24816231 -0.31865913 -0.03521993 -0.15066968\n",
      "   0.01612891  0.15700149 -0.10173149 -0.08553044]\n",
      " [ 0.00730899  0.01085474 -0.01624448  0.01407958 -0.00578676  0.06108014\n",
      "  -0.02122028  0.40097346  0.0425863   0.60389191]\n",
      " [ 0.08118003  0.1100122  -0.18442966  0.24493874  0.24625792 -0.41460457\n",
      "   0.45602379 -0.04058423 -0.03945369  0.12753036]\n",
      " [ 0.14127234  0.28890959  0.01211    -0.16173778 -0.01304131 -0.34499545\n",
      "   0.17705006 -0.03783518 -0.27546224  0.19031038]\n",
      " [ 0.08063113  0.16561777 -0.33998752  0.56564512  0.14731063 -0.00277226\n",
      "  -0.0904053   0.13950251 -0.22030956 -0.12623858]\n",
      " [ 0.35887035  0.04462324  0.27858607  0.05256573 -0.06556882 -0.13808437\n",
      "  -0.18892817 -0.18564505 -0.43320338  0.22241365]\n",
      " [ 0.0310757   0.07410025 -0.15552814  0.13977541  0.00874382  0.01834853\n",
      "  -0.34002566 -0.37275209  0.51620989  0.2578104 ]\n",
      " [ 0.10764801  0.1253812  -0.19186273 -0.28266766  0.00763289 -0.10335211\n",
      "  -0.14370666 -0.12524803  0.26620206  0.28782998]\n",
      " [ 0.06811539  0.12482349  0.18306756 -0.13861477  0.64966769  0.27228113\n",
      "  -0.16570823  0.05146915 -0.11078796 -0.0017421 ]\n",
      " [ 0.06877643  0.09496561 -0.02600312 -0.01541521  0.31009215 -0.2523979\n",
      "   0.35978515 -0.14897627  0.19907012  0.24567349]\n",
      " [ 0.18790385  0.30299375 -0.03482166  0.3195771   0.1677889   0.04848494\n",
      "   0.23227863 -0.01501735  0.29172791 -0.25209745]\n",
      " [ 0.15036325  0.1258096   0.07250887  0.0076021  -0.02389147  0.31475962\n",
      "   0.17298179 -0.40658573 -0.26022607  0.11244054]\n",
      " [ 0.10795313  0.19049554  0.1881823  -0.17865413  0.669473    0.19609679\n",
      "  -0.09096974 -0.02015538  0.02842477 -0.04278895]\n",
      " [ 0.13608897  0.19914061 -0.30913803  0.51689727  0.04527177  0.02442536\n",
      "  -0.3717248  -0.14716273 -0.14001732  0.06875238]]\n",
      "(26, 10)\n"
     ]
    }
   ],
   "source": [
    "print(lsa_top)\n",
    "print(lsa_top.shape)  # (no_of_doc*no_of_topics)"
   ]
  },
  {
   "cell_type": "code",
   "execution_count": null,
   "metadata": {
    "colab": {
     "base_uri": "https://localhost:8080/"
    },
    "id": "xn72IBvuC6mr",
    "outputId": "033c3108-d60b-407a-c015-f36839a6fc68"
   },
   "outputs": [
    {
     "name": "stdout",
     "output_type": "stream",
     "text": [
      "Document 0 :\n",
      "Topic  0  :  72.25611527177617\n",
      "Topic  1  :  -34.999337858095835\n",
      "Topic  2  :  -1.6009032278664757\n",
      "Topic  3  :  -3.1164303299628866\n",
      "Topic  4  :  2.6201605106472274\n",
      "Topic  5  :  -3.4050633364504104\n",
      "Topic  6  :  -8.216403609589888\n",
      "Topic  7  :  -5.289905933750028\n",
      "Topic  8  :  -0.37940062234803357\n",
      "Topic  9  :  4.11165102979716\n"
     ]
    }
   ],
   "source": [
    "l=lsa_top[0]\n",
    "print(\"Document 0 :\")\n",
    "for i,topic in enumerate(l):\n",
    "  print(\"Topic \",i,\" : \",topic*100)"
   ]
  },
  {
   "cell_type": "markdown",
   "metadata": {
    "id": "EMshuV4kn1Fb"
   },
   "source": [
    "Demikian pula untuk dokumen lain kita bisa melakukan proses tersebut. Namun perhatikan bahwa nilai tidak menambah 1 seperti di LSA itu bukan kemungkinan topik dalam dokumen."
   ]
  },
  {
   "cell_type": "code",
   "execution_count": null,
   "metadata": {
    "colab": {
     "base_uri": "https://localhost:8080/"
    },
    "id": "uSOcBRHVExR0",
    "outputId": "481ea1f0-1673-4b4d-c720-3c7893e15f5b"
   },
   "outputs": [
    {
     "name": "stdout",
     "output_type": "stream",
     "text": [
      "(10, 302)\n",
      "[[ 0.06695695  0.0076551   0.02123125 ...  0.00085431  0.01819373\n",
      "   0.06371657]\n",
      " [-0.04118361  0.01241512  0.04020607 ...  0.00149046  0.02352239\n",
      "  -0.04274759]\n",
      " [-0.0069452  -0.00478335 -0.00644305 ... -0.00313765 -0.02089176\n",
      "   0.00888283]\n",
      " ...\n",
      " [ 0.0251672  -0.03443052 -0.00333397 ...  0.09708487  0.20591465\n",
      "  -0.01962102]\n",
      " [ 0.04031578  0.04817892  0.07036253 ...  0.01082368  0.01378376\n",
      "  -0.02629633]\n",
      " [-0.0258872   0.05969074 -0.06155911 ...  0.15447331  0.17985912\n",
      "   0.01396848]]\n"
     ]
    }
   ],
   "source": [
    "print(lsa_model.components_.shape) # (no_of_topics*no_of_words)\n",
    "print(lsa_model.components_)"
   ]
  },
  {
   "cell_type": "markdown",
   "metadata": {
    "id": "b40cLYzHoPol"
   },
   "source": [
    "Pada proses ini mendapatkan daftar kata-kata penting untuk masing-masing dari 10 topik seperti yang ditunjukkan. Untuk proses tahapannya disini ditunjukkan 10 kata untuk setiap topik."
   ]
  },
  {
   "cell_type": "code",
   "execution_count": null,
   "metadata": {
    "colab": {
     "base_uri": "https://localhost:8080/"
    },
    "id": "CopD7Xf0FxUN",
    "outputId": "56e7ef07-25b9-44d0-b453-0864170060e6"
   },
   "outputs": [
    {
     "name": "stdout",
     "output_type": "stream",
     "text": [
      "Topic 0: \n",
      "ppdb 2022 jalur penerimaan jakarta membuka baru didik peserta anak \n",
      "\n",
      "Topic 1: \n",
      "indonesia yang universitas memiliki mahasiswa dari technology bisa fakultas terbaik \n",
      "\n",
      "Topic 2: \n",
      "mahasiswa hydromodelling workshop technology dari competition juara kancah kembali mengharumkan \n",
      "\n",
      "Topic 3: \n",
      "university ranking world menjadi antaranya dalam masuk naik pemeringkatan peringkat \n",
      "\n",
      "Topic 4: \n",
      "komunikasi buana mercu universitas cumlaude doktor dosen enjang gelar irawan \n",
      "\n",
      "Topic 5: \n",
      "untuk cita hadir komunikasi alumnus bionersia emisi energi institut karbon \n",
      "\n",
      "Topic 6: \n",
      "untuk beasiswa putri siswa cita akan mendapatkan hadir wahyu british \n",
      "\n",
      "Topic 7: \n",
      "youth jurusan oleh juara angelo bank berhasil diadakan group hubungan \n",
      "\n",
      "Topic 8: \n",
      "inovasi muda agar sydney technology diharapkan generasi khususnya lembaga mampu \n",
      "\n",
      "Topic 9: \n",
      "youth aliyah victorian young barat cendekia forum global insan kalimantan \n",
      "\n"
     ]
    },
    {
     "name": "stderr",
     "output_type": "stream",
     "text": [
      "/usr/local/lib/python3.7/dist-packages/sklearn/utils/deprecation.py:87: FutureWarning: Function get_feature_names is deprecated; get_feature_names is deprecated in 1.0 and will be removed in 1.2. Please use get_feature_names_out instead.\n",
      "  warnings.warn(msg, category=FutureWarning)\n"
     ]
    }
   ],
   "source": [
    "# most important words for each topic\n",
    "vocab = vect.get_feature_names()\n",
    "\n",
    "for i, comp in enumerate(lsa_model.components_):\n",
    "    vocab_comp = zip(vocab, comp)\n",
    "    sorted_words = sorted(vocab_comp, key= lambda x:x[1], reverse=True)[:10]\n",
    "    print(\"Topic \"+str(i)+\": \")\n",
    "    for t in sorted_words:\n",
    "        print(t[0],end=\" \")\n",
    "    print(\"\\n\")"
   ]
  }
 ],
 "metadata": {
  "colab": {
   "collapsed_sections": [],
   "name": "Topic_Modelling_LSA.ipynb",
   "provenance": []
  },
  "kernelspec": {
   "display_name": "Python 3 (ipykernel)",
   "language": "python",
   "name": "python3"
  },
  "language_info": {
   "codemirror_mode": {
    "name": "ipython",
    "version": 3
   },
   "file_extension": ".py",
   "mimetype": "text/x-python",
   "name": "python",
   "nbconvert_exporter": "python",
   "pygments_lexer": "ipython3",
   "version": "3.8.5"
  }
 },
 "nbformat": 4,
 "nbformat_minor": 1
}
